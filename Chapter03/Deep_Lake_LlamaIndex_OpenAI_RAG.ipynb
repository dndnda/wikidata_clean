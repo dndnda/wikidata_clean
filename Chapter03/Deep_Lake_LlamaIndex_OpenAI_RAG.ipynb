{
  "cells": [
    {
      "cell_type": "markdown",
      "metadata": {
        "id": "LBX9kCJ4wDPb"
      },
      "source": [
        "# Constructing an Index-Based Deep Lake Vector Store for Semantic Search with LlamaIndex and OpenAI\n",
        "\n",
        "copyright 2024, Denis Rothman\n",
        "\n",
        "A Practical Guide to Building a Semantic Search Engine with Deep Lake, LlamaIndex, and OpenAI:\n",
        "\n",
        "*   Installing the Environment\n",
        "*   Creating and populating the Vector Store &   dataset\n",
        "*   Getting started with  index-based semantic search\n",
        "\n",
        "\n"
      ]
    },
    {
      "cell_type": "markdown",
      "source": [
        "# Installing the environment"
      ],
      "metadata": {
        "id": "UJ-fctVvf3wA"
      }
    },
    {
      "cell_type": "code",
      "source": [
        "#Google Drive option to store API Keys\n",
        "#Store you key in a file and read it(you can type it directly in the notebook but it will be visible for somebody next to you)\n",
        "from google.colab import drive\n",
        "drive.mount('/content/drive')"
      ],
      "metadata": {
        "colab": {
          "base_uri": "https://localhost:8080/"
        },
        "id": "pu-obY57BKtV",
        "outputId": "be7cc4dd-7eff-41fc-ee77-173bc77a3acc"
      },
      "execution_count": 4,
      "outputs": [
        {
          "output_type": "stream",
          "name": "stdout",
          "text": [
            "Mounted at /content/drive\n"
          ]
        }
      ]
    },
    {
      "cell_type": "code",
      "source": [
        "from openai import OpenAI\n",
        "import os\n",
        "os.environ[\"OPENAI_API_KEY\"] = \"sk-eriFN0c8g2S7cbWGA7B138CdBe8f496c98605e387fE5D3B3\"\n",
        "os.environ[\"OPENAI_API_BASE\"] = \"https://api.ai-gaochao.cn/v1\"\n",
        "\n",
        "client = OpenAI()"
      ],
      "metadata": {
        "id": "42CAv5JMunTw"
      },
      "execution_count": 13,
      "outputs": []
    },
    {
      "cell_type": "code",
      "source": [
        "import openai\n",
        "print(openai.__version__)"
      ],
      "metadata": {
        "id": "Nzvrv-Ur-PBT",
        "outputId": "0cb085b1-3497-4516-de13-d0bb1280ecb4",
        "colab": {
          "base_uri": "https://localhost:8080/"
        }
      },
      "execution_count": 54,
      "outputs": [
        {
          "output_type": "stream",
          "name": "stdout",
          "text": [
            "1.61.1\n"
          ]
        }
      ]
    },
    {
      "cell_type": "markdown",
      "source": [
        "*First run the following cells and restart Google Colab session if prompted. Then run the notebook again cell by cell to explore the code.*"
      ],
      "metadata": {
        "id": "3EtKelOLcbeN"
      }
    },
    {
      "cell_type": "code",
      "execution_count": 1,
      "metadata": {
        "id": "N9nUXvMFwDPb",
        "colab": {
          "base_uri": "https://localhost:8080/"
        },
        "outputId": "bc83a792-c9cd-44a5-c3ca-d7b121b0519d",
        "collapsed": true
      },
      "outputs": [
        {
          "output_type": "stream",
          "name": "stdout",
          "text": [
            "Collecting llama-index-vector-stores-deeplake==0.1.6\n",
            "  Downloading llama_index_vector_stores_deeplake-0.1.6-py3-none-any.whl.metadata (709 bytes)\n",
            "Collecting deeplake>=3.9.12 (from llama-index-vector-stores-deeplake==0.1.6)\n",
            "  Downloading deeplake-4.1.11-cp311-cp311-manylinux2014_x86_64.whl.metadata (19 kB)\n",
            "Collecting llama-index-core<0.11.0,>=0.10.1 (from llama-index-vector-stores-deeplake==0.1.6)\n",
            "  Downloading llama_index_core-0.10.68.post1-py3-none-any.whl.metadata (2.5 kB)\n",
            "Requirement already satisfied: numpy in /usr/local/lib/python3.11/dist-packages (from deeplake>=3.9.12->llama-index-vector-stores-deeplake==0.1.6) (1.26.4)\n",
            "Requirement already satisfied: PyYAML>=6.0.1 in /usr/local/lib/python3.11/dist-packages (from llama-index-core<0.11.0,>=0.10.1->llama-index-vector-stores-deeplake==0.1.6) (6.0.2)\n",
            "Requirement already satisfied: SQLAlchemy>=1.4.49 in /usr/local/lib/python3.11/dist-packages (from SQLAlchemy[asyncio]>=1.4.49->llama-index-core<0.11.0,>=0.10.1->llama-index-vector-stores-deeplake==0.1.6) (2.0.38)\n",
            "Requirement already satisfied: aiohttp<4.0.0,>=3.8.6 in /usr/local/lib/python3.11/dist-packages (from llama-index-core<0.11.0,>=0.10.1->llama-index-vector-stores-deeplake==0.1.6) (3.11.13)\n",
            "Collecting dataclasses-json (from llama-index-core<0.11.0,>=0.10.1->llama-index-vector-stores-deeplake==0.1.6)\n",
            "  Downloading dataclasses_json-0.6.7-py3-none-any.whl.metadata (25 kB)\n",
            "Requirement already satisfied: deprecated>=1.2.9.3 in /usr/local/lib/python3.11/dist-packages (from llama-index-core<0.11.0,>=0.10.1->llama-index-vector-stores-deeplake==0.1.6) (1.2.18)\n",
            "Collecting dirtyjson<2.0.0,>=1.0.8 (from llama-index-core<0.11.0,>=0.10.1->llama-index-vector-stores-deeplake==0.1.6)\n",
            "  Downloading dirtyjson-1.0.8-py3-none-any.whl.metadata (11 kB)\n",
            "Requirement already satisfied: fsspec>=2023.5.0 in /usr/local/lib/python3.11/dist-packages (from llama-index-core<0.11.0,>=0.10.1->llama-index-vector-stores-deeplake==0.1.6) (2024.10.0)\n",
            "Requirement already satisfied: httpx in /usr/local/lib/python3.11/dist-packages (from llama-index-core<0.11.0,>=0.10.1->llama-index-vector-stores-deeplake==0.1.6) (0.28.1)\n",
            "Requirement already satisfied: nest-asyncio<2.0.0,>=1.5.8 in /usr/local/lib/python3.11/dist-packages (from llama-index-core<0.11.0,>=0.10.1->llama-index-vector-stores-deeplake==0.1.6) (1.6.0)\n",
            "Requirement already satisfied: networkx>=3.0 in /usr/local/lib/python3.11/dist-packages (from llama-index-core<0.11.0,>=0.10.1->llama-index-vector-stores-deeplake==0.1.6) (3.4.2)\n",
            "Requirement already satisfied: nltk!=3.9,>=3.8.1 in /usr/local/lib/python3.11/dist-packages (from llama-index-core<0.11.0,>=0.10.1->llama-index-vector-stores-deeplake==0.1.6) (3.9.1)\n",
            "Requirement already satisfied: pandas in /usr/local/lib/python3.11/dist-packages (from llama-index-core<0.11.0,>=0.10.1->llama-index-vector-stores-deeplake==0.1.6) (2.2.2)\n",
            "Requirement already satisfied: pillow>=9.0.0 in /usr/local/lib/python3.11/dist-packages (from llama-index-core<0.11.0,>=0.10.1->llama-index-vector-stores-deeplake==0.1.6) (11.1.0)\n",
            "Requirement already satisfied: pydantic<3.0 in /usr/local/lib/python3.11/dist-packages (from llama-index-core<0.11.0,>=0.10.1->llama-index-vector-stores-deeplake==0.1.6) (2.10.6)\n",
            "Requirement already satisfied: requests>=2.31.0 in /usr/local/lib/python3.11/dist-packages (from llama-index-core<0.11.0,>=0.10.1->llama-index-vector-stores-deeplake==0.1.6) (2.32.3)\n",
            "Collecting tenacity!=8.4.0,<9.0.0,>=8.2.0 (from llama-index-core<0.11.0,>=0.10.1->llama-index-vector-stores-deeplake==0.1.6)\n",
            "  Downloading tenacity-8.5.0-py3-none-any.whl.metadata (1.2 kB)\n",
            "Collecting tiktoken>=0.3.3 (from llama-index-core<0.11.0,>=0.10.1->llama-index-vector-stores-deeplake==0.1.6)\n",
            "  Downloading tiktoken-0.9.0-cp311-cp311-manylinux_2_17_x86_64.manylinux2014_x86_64.whl.metadata (6.7 kB)\n",
            "Requirement already satisfied: tqdm<5.0.0,>=4.66.1 in /usr/local/lib/python3.11/dist-packages (from llama-index-core<0.11.0,>=0.10.1->llama-index-vector-stores-deeplake==0.1.6) (4.67.1)\n",
            "Requirement already satisfied: typing-extensions>=4.5.0 in /usr/local/lib/python3.11/dist-packages (from llama-index-core<0.11.0,>=0.10.1->llama-index-vector-stores-deeplake==0.1.6) (4.12.2)\n",
            "Collecting typing-inspect>=0.8.0 (from llama-index-core<0.11.0,>=0.10.1->llama-index-vector-stores-deeplake==0.1.6)\n",
            "  Downloading typing_inspect-0.9.0-py3-none-any.whl.metadata (1.5 kB)\n",
            "Requirement already satisfied: wrapt in /usr/local/lib/python3.11/dist-packages (from llama-index-core<0.11.0,>=0.10.1->llama-index-vector-stores-deeplake==0.1.6) (1.17.2)\n",
            "Requirement already satisfied: aiohappyeyeballs>=2.3.0 in /usr/local/lib/python3.11/dist-packages (from aiohttp<4.0.0,>=3.8.6->llama-index-core<0.11.0,>=0.10.1->llama-index-vector-stores-deeplake==0.1.6) (2.4.6)\n",
            "Requirement already satisfied: aiosignal>=1.1.2 in /usr/local/lib/python3.11/dist-packages (from aiohttp<4.0.0,>=3.8.6->llama-index-core<0.11.0,>=0.10.1->llama-index-vector-stores-deeplake==0.1.6) (1.3.2)\n",
            "Requirement already satisfied: attrs>=17.3.0 in /usr/local/lib/python3.11/dist-packages (from aiohttp<4.0.0,>=3.8.6->llama-index-core<0.11.0,>=0.10.1->llama-index-vector-stores-deeplake==0.1.6) (25.1.0)\n",
            "Requirement already satisfied: frozenlist>=1.1.1 in /usr/local/lib/python3.11/dist-packages (from aiohttp<4.0.0,>=3.8.6->llama-index-core<0.11.0,>=0.10.1->llama-index-vector-stores-deeplake==0.1.6) (1.5.0)\n",
            "Requirement already satisfied: multidict<7.0,>=4.5 in /usr/local/lib/python3.11/dist-packages (from aiohttp<4.0.0,>=3.8.6->llama-index-core<0.11.0,>=0.10.1->llama-index-vector-stores-deeplake==0.1.6) (6.1.0)\n",
            "Requirement already satisfied: propcache>=0.2.0 in /usr/local/lib/python3.11/dist-packages (from aiohttp<4.0.0,>=3.8.6->llama-index-core<0.11.0,>=0.10.1->llama-index-vector-stores-deeplake==0.1.6) (0.3.0)\n",
            "Requirement already satisfied: yarl<2.0,>=1.17.0 in /usr/local/lib/python3.11/dist-packages (from aiohttp<4.0.0,>=3.8.6->llama-index-core<0.11.0,>=0.10.1->llama-index-vector-stores-deeplake==0.1.6) (1.18.3)\n",
            "Requirement already satisfied: click in /usr/local/lib/python3.11/dist-packages (from nltk!=3.9,>=3.8.1->llama-index-core<0.11.0,>=0.10.1->llama-index-vector-stores-deeplake==0.1.6) (8.1.8)\n",
            "Requirement already satisfied: joblib in /usr/local/lib/python3.11/dist-packages (from nltk!=3.9,>=3.8.1->llama-index-core<0.11.0,>=0.10.1->llama-index-vector-stores-deeplake==0.1.6) (1.4.2)\n",
            "Requirement already satisfied: regex>=2021.8.3 in /usr/local/lib/python3.11/dist-packages (from nltk!=3.9,>=3.8.1->llama-index-core<0.11.0,>=0.10.1->llama-index-vector-stores-deeplake==0.1.6) (2024.11.6)\n",
            "Requirement already satisfied: annotated-types>=0.6.0 in /usr/local/lib/python3.11/dist-packages (from pydantic<3.0->llama-index-core<0.11.0,>=0.10.1->llama-index-vector-stores-deeplake==0.1.6) (0.7.0)\n",
            "Requirement already satisfied: pydantic-core==2.27.2 in /usr/local/lib/python3.11/dist-packages (from pydantic<3.0->llama-index-core<0.11.0,>=0.10.1->llama-index-vector-stores-deeplake==0.1.6) (2.27.2)\n",
            "Requirement already satisfied: charset-normalizer<4,>=2 in /usr/local/lib/python3.11/dist-packages (from requests>=2.31.0->llama-index-core<0.11.0,>=0.10.1->llama-index-vector-stores-deeplake==0.1.6) (3.4.1)\n",
            "Requirement already satisfied: idna<4,>=2.5 in /usr/local/lib/python3.11/dist-packages (from requests>=2.31.0->llama-index-core<0.11.0,>=0.10.1->llama-index-vector-stores-deeplake==0.1.6) (3.10)\n",
            "Requirement already satisfied: urllib3<3,>=1.21.1 in /usr/local/lib/python3.11/dist-packages (from requests>=2.31.0->llama-index-core<0.11.0,>=0.10.1->llama-index-vector-stores-deeplake==0.1.6) (2.3.0)\n",
            "Requirement already satisfied: certifi>=2017.4.17 in /usr/local/lib/python3.11/dist-packages (from requests>=2.31.0->llama-index-core<0.11.0,>=0.10.1->llama-index-vector-stores-deeplake==0.1.6) (2025.1.31)\n",
            "Requirement already satisfied: greenlet!=0.4.17 in /usr/local/lib/python3.11/dist-packages (from SQLAlchemy>=1.4.49->SQLAlchemy[asyncio]>=1.4.49->llama-index-core<0.11.0,>=0.10.1->llama-index-vector-stores-deeplake==0.1.6) (3.1.1)\n",
            "Collecting mypy-extensions>=0.3.0 (from typing-inspect>=0.8.0->llama-index-core<0.11.0,>=0.10.1->llama-index-vector-stores-deeplake==0.1.6)\n",
            "  Downloading mypy_extensions-1.0.0-py3-none-any.whl.metadata (1.1 kB)\n",
            "Collecting marshmallow<4.0.0,>=3.18.0 (from dataclasses-json->llama-index-core<0.11.0,>=0.10.1->llama-index-vector-stores-deeplake==0.1.6)\n",
            "  Downloading marshmallow-3.26.1-py3-none-any.whl.metadata (7.3 kB)\n",
            "Requirement already satisfied: anyio in /usr/local/lib/python3.11/dist-packages (from httpx->llama-index-core<0.11.0,>=0.10.1->llama-index-vector-stores-deeplake==0.1.6) (3.7.1)\n",
            "Requirement already satisfied: httpcore==1.* in /usr/local/lib/python3.11/dist-packages (from httpx->llama-index-core<0.11.0,>=0.10.1->llama-index-vector-stores-deeplake==0.1.6) (1.0.7)\n",
            "Requirement already satisfied: h11<0.15,>=0.13 in /usr/local/lib/python3.11/dist-packages (from httpcore==1.*->httpx->llama-index-core<0.11.0,>=0.10.1->llama-index-vector-stores-deeplake==0.1.6) (0.14.0)\n",
            "Requirement already satisfied: python-dateutil>=2.8.2 in /usr/local/lib/python3.11/dist-packages (from pandas->llama-index-core<0.11.0,>=0.10.1->llama-index-vector-stores-deeplake==0.1.6) (2.8.2)\n",
            "Requirement already satisfied: pytz>=2020.1 in /usr/local/lib/python3.11/dist-packages (from pandas->llama-index-core<0.11.0,>=0.10.1->llama-index-vector-stores-deeplake==0.1.6) (2025.1)\n",
            "Requirement already satisfied: tzdata>=2022.7 in /usr/local/lib/python3.11/dist-packages (from pandas->llama-index-core<0.11.0,>=0.10.1->llama-index-vector-stores-deeplake==0.1.6) (2025.1)\n",
            "Requirement already satisfied: packaging>=17.0 in /usr/local/lib/python3.11/dist-packages (from marshmallow<4.0.0,>=3.18.0->dataclasses-json->llama-index-core<0.11.0,>=0.10.1->llama-index-vector-stores-deeplake==0.1.6) (24.2)\n",
            "Requirement already satisfied: six>=1.5 in /usr/local/lib/python3.11/dist-packages (from python-dateutil>=2.8.2->pandas->llama-index-core<0.11.0,>=0.10.1->llama-index-vector-stores-deeplake==0.1.6) (1.17.0)\n",
            "Requirement already satisfied: sniffio>=1.1 in /usr/local/lib/python3.11/dist-packages (from anyio->httpx->llama-index-core<0.11.0,>=0.10.1->llama-index-vector-stores-deeplake==0.1.6) (1.3.1)\n",
            "Downloading llama_index_vector_stores_deeplake-0.1.6-py3-none-any.whl (5.1 kB)\n",
            "Downloading deeplake-4.1.11-cp311-cp311-manylinux2014_x86_64.whl (17.4 MB)\n",
            "\u001b[2K   \u001b[90m━━━━━━━━━━━━━━━━━━━━━━━━━━━━━━━━━━━━━━━━\u001b[0m \u001b[32m17.4/17.4 MB\u001b[0m \u001b[31m23.6 MB/s\u001b[0m eta \u001b[36m0:00:00\u001b[0m\n",
            "\u001b[?25hDownloading llama_index_core-0.10.68.post1-py3-none-any.whl (1.6 MB)\n",
            "\u001b[2K   \u001b[90m━━━━━━━━━━━━━━━━━━━━━━━━━━━━━━━━━━━━━━━━\u001b[0m \u001b[32m1.6/1.6 MB\u001b[0m \u001b[31m17.0 MB/s\u001b[0m eta \u001b[36m0:00:00\u001b[0m\n",
            "\u001b[?25hDownloading dirtyjson-1.0.8-py3-none-any.whl (25 kB)\n",
            "Downloading tenacity-8.5.0-py3-none-any.whl (28 kB)\n",
            "Downloading tiktoken-0.9.0-cp311-cp311-manylinux_2_17_x86_64.manylinux2014_x86_64.whl (1.2 MB)\n",
            "\u001b[2K   \u001b[90m━━━━━━━━━━━━━━━━━━━━━━━━━━━━━━━━━━━━━━━━\u001b[0m \u001b[32m1.2/1.2 MB\u001b[0m \u001b[31m7.4 MB/s\u001b[0m eta \u001b[36m0:00:00\u001b[0m\n",
            "\u001b[?25hDownloading typing_inspect-0.9.0-py3-none-any.whl (8.8 kB)\n",
            "Downloading dataclasses_json-0.6.7-py3-none-any.whl (28 kB)\n",
            "Downloading marshmallow-3.26.1-py3-none-any.whl (50 kB)\n",
            "\u001b[2K   \u001b[90m━━━━━━━━━━━━━━━━━━━━━━━━━━━━━━━━━━━━━━━━\u001b[0m \u001b[32m50.9/50.9 kB\u001b[0m \u001b[31m1.9 MB/s\u001b[0m eta \u001b[36m0:00:00\u001b[0m\n",
            "\u001b[?25hDownloading mypy_extensions-1.0.0-py3-none-any.whl (4.7 kB)\n",
            "Installing collected packages: dirtyjson, tenacity, mypy-extensions, marshmallow, deeplake, typing-inspect, tiktoken, dataclasses-json, llama-index-core, llama-index-vector-stores-deeplake\n",
            "  Attempting uninstall: tenacity\n",
            "    Found existing installation: tenacity 9.0.0\n",
            "    Uninstalling tenacity-9.0.0:\n",
            "      Successfully uninstalled tenacity-9.0.0\n",
            "Successfully installed dataclasses-json-0.6.7 deeplake-4.1.11 dirtyjson-1.0.8 llama-index-core-0.10.68.post1 llama-index-vector-stores-deeplake-0.1.6 marshmallow-3.26.1 mypy-extensions-1.0.0 tenacity-8.5.0 tiktoken-0.9.0 typing-inspect-0.9.0\n"
          ]
        }
      ],
      "source": [
        "!pip install llama-index-vector-stores-deeplake==0.1.6"
      ]
    },
    {
      "cell_type": "markdown",
      "source": [
        "LlamaIndex supports Deep Lake vector stores through the DeepLakeVectorStore class."
      ],
      "metadata": {
        "id": "QdKOPZwODhMF"
      }
    },
    {
      "cell_type": "code",
      "source": [
        "!pip install deeplake==3.9.18"
      ],
      "metadata": {
        "colab": {
          "base_uri": "https://localhost:8080/",
          "height": 1000
        },
        "id": "8M5z1Bw9Dnmb",
        "outputId": "e3979f44-3855-4584-e974-c4c20aaff172",
        "collapsed": true
      },
      "execution_count": 2,
      "outputs": [
        {
          "output_type": "stream",
          "name": "stdout",
          "text": [
            "Collecting deeplake==3.9.18\n",
            "  Downloading deeplake-3.9.18.tar.gz (608 kB)\n",
            "\u001b[2K     \u001b[90m━━━━━━━━━━━━━━━━━━━━━━━━━━━━━━━━━━━━━━━━\u001b[0m \u001b[32m608.9/608.9 kB\u001b[0m \u001b[31m5.1 MB/s\u001b[0m eta \u001b[36m0:00:00\u001b[0m\n",
            "\u001b[?25h  Installing build dependencies ... \u001b[?25l\u001b[?25hdone\n",
            "  Getting requirements to build wheel ... \u001b[?25l\u001b[?25hdone\n",
            "  Preparing metadata (pyproject.toml) ... \u001b[?25l\u001b[?25hdone\n",
            "Requirement already satisfied: numpy<2.0 in /usr/local/lib/python3.11/dist-packages (from deeplake==3.9.18) (1.26.4)\n",
            "Collecting pillow~=10.2.0 (from deeplake==3.9.18)\n",
            "  Downloading pillow-10.2.0-cp311-cp311-manylinux_2_28_x86_64.whl.metadata (9.7 kB)\n",
            "Collecting boto3 (from deeplake==3.9.18)\n",
            "  Downloading boto3-1.37.8-py3-none-any.whl.metadata (6.6 kB)\n",
            "Requirement already satisfied: click in /usr/local/lib/python3.11/dist-packages (from deeplake==3.9.18) (8.1.8)\n",
            "Collecting pathos (from deeplake==3.9.18)\n",
            "  Downloading pathos-0.3.3-py3-none-any.whl.metadata (11 kB)\n",
            "Collecting humbug>=0.3.1 (from deeplake==3.9.18)\n",
            "  Downloading humbug-0.3.2-py3-none-any.whl.metadata (6.8 kB)\n",
            "Requirement already satisfied: tqdm in /usr/local/lib/python3.11/dist-packages (from deeplake==3.9.18) (4.67.1)\n",
            "Collecting lz4 (from deeplake==3.9.18)\n",
            "  Downloading lz4-4.4.3-cp311-cp311-manylinux_2_17_x86_64.manylinux2014_x86_64.whl.metadata (3.8 kB)\n",
            "Requirement already satisfied: pyjwt in /usr/local/lib/python3.11/dist-packages (from deeplake==3.9.18) (2.10.1)\n",
            "Collecting aioboto3>=10.4.0 (from deeplake==3.9.18)\n",
            "  Downloading aioboto3-14.1.0-py3-none-any.whl.metadata (8.8 kB)\n",
            "Requirement already satisfied: nest_asyncio in /usr/local/lib/python3.11/dist-packages (from deeplake==3.9.18) (1.6.0)\n",
            "Requirement already satisfied: pydantic in /usr/local/lib/python3.11/dist-packages (from deeplake==3.9.18) (2.10.6)\n",
            "Collecting libdeeplake==0.0.138 (from deeplake==3.9.18)\n",
            "  Downloading libdeeplake-0.0.138-cp311-cp311-manylinux2014_x86_64.whl.metadata (352 bytes)\n",
            "Collecting dill (from libdeeplake==0.0.138->deeplake==3.9.18)\n",
            "  Downloading dill-0.3.9-py3-none-any.whl.metadata (10 kB)\n",
            "Collecting aiobotocore==2.21.1 (from aiobotocore[boto3]==2.21.1->aioboto3>=10.4.0->deeplake==3.9.18)\n",
            "  Downloading aiobotocore-2.21.1-py3-none-any.whl.metadata (24 kB)\n",
            "Collecting aiofiles>=23.2.1 (from aioboto3>=10.4.0->deeplake==3.9.18)\n",
            "  Downloading aiofiles-24.1.0-py3-none-any.whl.metadata (10 kB)\n",
            "Requirement already satisfied: aiohttp<4.0.0,>=3.9.2 in /usr/local/lib/python3.11/dist-packages (from aiobotocore==2.21.1->aiobotocore[boto3]==2.21.1->aioboto3>=10.4.0->deeplake==3.9.18) (3.11.13)\n",
            "Collecting aioitertools<1.0.0,>=0.5.1 (from aiobotocore==2.21.1->aiobotocore[boto3]==2.21.1->aioboto3>=10.4.0->deeplake==3.9.18)\n",
            "  Downloading aioitertools-0.12.0-py3-none-any.whl.metadata (3.8 kB)\n",
            "Collecting botocore<1.37.2,>=1.37.0 (from aiobotocore==2.21.1->aiobotocore[boto3]==2.21.1->aioboto3>=10.4.0->deeplake==3.9.18)\n",
            "  Downloading botocore-1.37.1-py3-none-any.whl.metadata (5.7 kB)\n",
            "Requirement already satisfied: python-dateutil<3.0.0,>=2.1 in /usr/local/lib/python3.11/dist-packages (from aiobotocore==2.21.1->aiobotocore[boto3]==2.21.1->aioboto3>=10.4.0->deeplake==3.9.18) (2.8.2)\n",
            "Collecting jmespath<2.0.0,>=0.7.1 (from aiobotocore==2.21.1->aiobotocore[boto3]==2.21.1->aioboto3>=10.4.0->deeplake==3.9.18)\n",
            "  Downloading jmespath-1.0.1-py3-none-any.whl.metadata (7.6 kB)\n",
            "Requirement already satisfied: multidict<7.0.0,>=6.0.0 in /usr/local/lib/python3.11/dist-packages (from aiobotocore==2.21.1->aiobotocore[boto3]==2.21.1->aioboto3>=10.4.0->deeplake==3.9.18) (6.1.0)\n",
            "Requirement already satisfied: wrapt<2.0.0,>=1.10.10 in /usr/local/lib/python3.11/dist-packages (from aiobotocore==2.21.1->aiobotocore[boto3]==2.21.1->aioboto3>=10.4.0->deeplake==3.9.18) (1.17.2)\n",
            "Collecting boto3 (from deeplake==3.9.18)\n",
            "  Downloading boto3-1.37.1-py3-none-any.whl.metadata (6.6 kB)\n",
            "Collecting s3transfer<0.12.0,>=0.11.0 (from boto3->deeplake==3.9.18)\n",
            "  Downloading s3transfer-0.11.4-py3-none-any.whl.metadata (1.7 kB)\n",
            "Requirement already satisfied: requests in /usr/local/lib/python3.11/dist-packages (from humbug>=0.3.1->deeplake==3.9.18) (2.32.3)\n",
            "Collecting ppft>=1.7.6.9 (from pathos->deeplake==3.9.18)\n",
            "  Downloading ppft-1.7.6.9-py3-none-any.whl.metadata (12 kB)\n",
            "Collecting pox>=0.3.5 (from pathos->deeplake==3.9.18)\n",
            "  Downloading pox-0.3.5-py3-none-any.whl.metadata (8.0 kB)\n",
            "Collecting multiprocess>=0.70.17 (from pathos->deeplake==3.9.18)\n",
            "  Downloading multiprocess-0.70.17-py311-none-any.whl.metadata (7.2 kB)\n",
            "Requirement already satisfied: annotated-types>=0.6.0 in /usr/local/lib/python3.11/dist-packages (from pydantic->deeplake==3.9.18) (0.7.0)\n",
            "Requirement already satisfied: pydantic-core==2.27.2 in /usr/local/lib/python3.11/dist-packages (from pydantic->deeplake==3.9.18) (2.27.2)\n",
            "Requirement already satisfied: typing-extensions>=4.12.2 in /usr/local/lib/python3.11/dist-packages (from pydantic->deeplake==3.9.18) (4.12.2)\n",
            "Requirement already satisfied: urllib3!=2.2.0,<3,>=1.25.4 in /usr/local/lib/python3.11/dist-packages (from botocore<1.37.2,>=1.37.0->aiobotocore==2.21.1->aiobotocore[boto3]==2.21.1->aioboto3>=10.4.0->deeplake==3.9.18) (2.3.0)\n",
            "INFO: pip is looking at multiple versions of s3transfer to determine which version is compatible with other requirements. This could take a while.\n",
            "Collecting s3transfer<0.12.0,>=0.11.0 (from boto3->deeplake==3.9.18)\n",
            "  Downloading s3transfer-0.11.3-py3-none-any.whl.metadata (1.7 kB)\n",
            "Requirement already satisfied: charset-normalizer<4,>=2 in /usr/local/lib/python3.11/dist-packages (from requests->humbug>=0.3.1->deeplake==3.9.18) (3.4.1)\n",
            "Requirement already satisfied: idna<4,>=2.5 in /usr/local/lib/python3.11/dist-packages (from requests->humbug>=0.3.1->deeplake==3.9.18) (3.10)\n",
            "Requirement already satisfied: certifi>=2017.4.17 in /usr/local/lib/python3.11/dist-packages (from requests->humbug>=0.3.1->deeplake==3.9.18) (2025.1.31)\n",
            "Requirement already satisfied: aiohappyeyeballs>=2.3.0 in /usr/local/lib/python3.11/dist-packages (from aiohttp<4.0.0,>=3.9.2->aiobotocore==2.21.1->aiobotocore[boto3]==2.21.1->aioboto3>=10.4.0->deeplake==3.9.18) (2.4.6)\n",
            "Requirement already satisfied: aiosignal>=1.1.2 in /usr/local/lib/python3.11/dist-packages (from aiohttp<4.0.0,>=3.9.2->aiobotocore==2.21.1->aiobotocore[boto3]==2.21.1->aioboto3>=10.4.0->deeplake==3.9.18) (1.3.2)\n",
            "Requirement already satisfied: attrs>=17.3.0 in /usr/local/lib/python3.11/dist-packages (from aiohttp<4.0.0,>=3.9.2->aiobotocore==2.21.1->aiobotocore[boto3]==2.21.1->aioboto3>=10.4.0->deeplake==3.9.18) (25.1.0)\n",
            "Requirement already satisfied: frozenlist>=1.1.1 in /usr/local/lib/python3.11/dist-packages (from aiohttp<4.0.0,>=3.9.2->aiobotocore==2.21.1->aiobotocore[boto3]==2.21.1->aioboto3>=10.4.0->deeplake==3.9.18) (1.5.0)\n",
            "Requirement already satisfied: propcache>=0.2.0 in /usr/local/lib/python3.11/dist-packages (from aiohttp<4.0.0,>=3.9.2->aiobotocore==2.21.1->aiobotocore[boto3]==2.21.1->aioboto3>=10.4.0->deeplake==3.9.18) (0.3.0)\n",
            "Requirement already satisfied: yarl<2.0,>=1.17.0 in /usr/local/lib/python3.11/dist-packages (from aiohttp<4.0.0,>=3.9.2->aiobotocore==2.21.1->aiobotocore[boto3]==2.21.1->aioboto3>=10.4.0->deeplake==3.9.18) (1.18.3)\n",
            "Requirement already satisfied: six>=1.5 in /usr/local/lib/python3.11/dist-packages (from python-dateutil<3.0.0,>=2.1->aiobotocore==2.21.1->aiobotocore[boto3]==2.21.1->aioboto3>=10.4.0->deeplake==3.9.18) (1.17.0)\n",
            "Downloading libdeeplake-0.0.138-cp311-cp311-manylinux2014_x86_64.whl (16.8 MB)\n",
            "\u001b[2K   \u001b[90m━━━━━━━━━━━━━━━━━━━━━━━━━━━━━━━━━━━━━━━━\u001b[0m \u001b[32m16.8/16.8 MB\u001b[0m \u001b[31m33.7 MB/s\u001b[0m eta \u001b[36m0:00:00\u001b[0m\n",
            "\u001b[?25hDownloading aioboto3-14.1.0-py3-none-any.whl (35 kB)\n",
            "Downloading aiobotocore-2.21.1-py3-none-any.whl (78 kB)\n",
            "\u001b[2K   \u001b[90m━━━━━━━━━━━━━━━━━━━━━━━━━━━━━━━━━━━━━━━━\u001b[0m \u001b[32m78.3/78.3 kB\u001b[0m \u001b[31m4.6 MB/s\u001b[0m eta \u001b[36m0:00:00\u001b[0m\n",
            "\u001b[?25hDownloading boto3-1.37.1-py3-none-any.whl (139 kB)\n",
            "\u001b[2K   \u001b[90m━━━━━━━━━━━━━━━━━━━━━━━━━━━━━━━━━━━━━━━━\u001b[0m \u001b[32m139.3/139.3 kB\u001b[0m \u001b[31m7.0 MB/s\u001b[0m eta \u001b[36m0:00:00\u001b[0m\n",
            "\u001b[?25hDownloading humbug-0.3.2-py3-none-any.whl (15 kB)\n",
            "Downloading pillow-10.2.0-cp311-cp311-manylinux_2_28_x86_64.whl (4.5 MB)\n",
            "\u001b[2K   \u001b[90m━━━━━━━━━━━━━━━━━━━━━━━━━━━━━━━━━━━━━━━━\u001b[0m \u001b[32m4.5/4.5 MB\u001b[0m \u001b[31m76.0 MB/s\u001b[0m eta \u001b[36m0:00:00\u001b[0m\n",
            "\u001b[?25hDownloading lz4-4.4.3-cp311-cp311-manylinux_2_17_x86_64.manylinux2014_x86_64.whl (1.3 MB)\n",
            "\u001b[2K   \u001b[90m━━━━━━━━━━━━━━━━━━━━━━━━━━━━━━━━━━━━━━━━\u001b[0m \u001b[32m1.3/1.3 MB\u001b[0m \u001b[31m47.0 MB/s\u001b[0m eta \u001b[36m0:00:00\u001b[0m\n",
            "\u001b[?25hDownloading pathos-0.3.3-py3-none-any.whl (82 kB)\n",
            "\u001b[2K   \u001b[90m━━━━━━━━━━━━━━━━━━━━━━━━━━━━━━━━━━━━━━━━\u001b[0m \u001b[32m82.1/82.1 kB\u001b[0m \u001b[31m5.4 MB/s\u001b[0m eta \u001b[36m0:00:00\u001b[0m\n",
            "\u001b[?25hDownloading aiofiles-24.1.0-py3-none-any.whl (15 kB)\n",
            "Downloading botocore-1.37.1-py3-none-any.whl (13.4 MB)\n",
            "\u001b[2K   \u001b[90m━━━━━━━━━━━━━━━━━━━━━━━━━━━━━━━━━━━━━━━━\u001b[0m \u001b[32m13.4/13.4 MB\u001b[0m \u001b[31m73.6 MB/s\u001b[0m eta \u001b[36m0:00:00\u001b[0m\n",
            "\u001b[?25hDownloading dill-0.3.9-py3-none-any.whl (119 kB)\n",
            "\u001b[2K   \u001b[90m━━━━━━━━━━━━━━━━━━━━━━━━━━━━━━━━━━━━━━━━\u001b[0m \u001b[32m119.4/119.4 kB\u001b[0m \u001b[31m6.7 MB/s\u001b[0m eta \u001b[36m0:00:00\u001b[0m\n",
            "\u001b[?25hDownloading jmespath-1.0.1-py3-none-any.whl (20 kB)\n",
            "Downloading multiprocess-0.70.17-py311-none-any.whl (144 kB)\n",
            "\u001b[2K   \u001b[90m━━━━━━━━━━━━━━━━━━━━━━━━━━━━━━━━━━━━━━━━\u001b[0m \u001b[32m144.3/144.3 kB\u001b[0m \u001b[31m9.8 MB/s\u001b[0m eta \u001b[36m0:00:00\u001b[0m\n",
            "\u001b[?25hDownloading pox-0.3.5-py3-none-any.whl (29 kB)\n",
            "Downloading ppft-1.7.6.9-py3-none-any.whl (56 kB)\n",
            "\u001b[2K   \u001b[90m━━━━━━━━━━━━━━━━━━━━━━━━━━━━━━━━━━━━━━━━\u001b[0m \u001b[32m56.8/56.8 kB\u001b[0m \u001b[31m4.0 MB/s\u001b[0m eta \u001b[36m0:00:00\u001b[0m\n",
            "\u001b[?25hDownloading s3transfer-0.11.3-py3-none-any.whl (84 kB)\n",
            "\u001b[2K   \u001b[90m━━━━━━━━━━━━━━━━━━━━━━━━━━━━━━━━━━━━━━━━\u001b[0m \u001b[32m84.2/84.2 kB\u001b[0m \u001b[31m6.4 MB/s\u001b[0m eta \u001b[36m0:00:00\u001b[0m\n",
            "\u001b[?25hDownloading aioitertools-0.12.0-py3-none-any.whl (24 kB)\n",
            "Building wheels for collected packages: deeplake\n",
            "  Building wheel for deeplake (pyproject.toml) ... \u001b[?25l\u001b[?25hdone\n",
            "  Created wheel for deeplake: filename=deeplake-3.9.18-py3-none-any.whl size=731759 sha256=bc7111e7babb87f859a5ad266d3036029bb87023d38c4f3456cfc0bd5a4acce6\n",
            "  Stored in directory: /root/.cache/pip/wheels/2a/66/79/b6e76d46b737f60be7542e1f4650141ef3cb09fdba9ca22aaa\n",
            "Successfully built deeplake\n",
            "Installing collected packages: ppft, pox, pillow, lz4, jmespath, dill, aioitertools, aiofiles, multiprocess, libdeeplake, humbug, botocore, s3transfer, pathos, aiobotocore, boto3, aioboto3, deeplake\n",
            "  Attempting uninstall: pillow\n",
            "    Found existing installation: pillow 11.1.0\n",
            "    Uninstalling pillow-11.1.0:\n",
            "      Successfully uninstalled pillow-11.1.0\n",
            "  Attempting uninstall: deeplake\n",
            "    Found existing installation: deeplake 4.1.11\n",
            "    Uninstalling deeplake-4.1.11:\n",
            "      Successfully uninstalled deeplake-4.1.11\n",
            "Successfully installed aioboto3-14.1.0 aiobotocore-2.21.1 aiofiles-24.1.0 aioitertools-0.12.0 boto3-1.37.1 botocore-1.37.1 deeplake-3.9.18 dill-0.3.9 humbug-0.3.2 jmespath-1.0.1 libdeeplake-0.0.138 lz4-4.4.3 multiprocess-0.70.17 pathos-0.3.3 pillow-10.2.0 pox-0.3.5 ppft-1.7.6.9 s3transfer-0.11.3\n"
          ]
        },
        {
          "output_type": "display_data",
          "data": {
            "application/vnd.colab-display-data+json": {
              "pip_warning": {
                "packages": [
                  "PIL"
                ]
              },
              "id": "49ae9da601db4012bcbb9cc38f07049e"
            }
          },
          "metadata": {}
        }
      ]
    },
    {
      "cell_type": "code",
      "execution_count": 1,
      "metadata": {
        "collapsed": true,
        "id": "mu_Oaz-iwDPc",
        "colab": {
          "base_uri": "https://localhost:8080/"
        },
        "outputId": "ec223a0f-255d-40b8-bf6b-fc1e2e19951e"
      },
      "outputs": [
        {
          "output_type": "stream",
          "name": "stdout",
          "text": [
            "Collecting llama-index==0.10.64\n",
            "  Downloading llama_index-0.10.64-py3-none-any.whl.metadata (11 kB)\n",
            "Collecting llama-index-agent-openai<0.3.0,>=0.1.4 (from llama-index==0.10.64)\n",
            "  Downloading llama_index_agent_openai-0.2.9-py3-none-any.whl.metadata (729 bytes)\n",
            "Collecting llama-index-cli<0.2.0,>=0.1.2 (from llama-index==0.10.64)\n",
            "  Downloading llama_index_cli-0.1.13-py3-none-any.whl.metadata (1.5 kB)\n",
            "Requirement already satisfied: llama-index-core<0.11.0,>=0.10.64 in /usr/local/lib/python3.11/dist-packages (from llama-index==0.10.64) (0.10.68.post1)\n",
            "Collecting llama-index-embeddings-openai<0.2.0,>=0.1.5 (from llama-index==0.10.64)\n",
            "  Downloading llama_index_embeddings_openai-0.1.11-py3-none-any.whl.metadata (655 bytes)\n",
            "Collecting llama-index-indices-managed-llama-cloud>=0.2.0 (from llama-index==0.10.64)\n",
            "  Downloading llama_index_indices_managed_llama_cloud-0.6.8-py3-none-any.whl.metadata (3.6 kB)\n",
            "Collecting llama-index-legacy<0.10.0,>=0.9.48 (from llama-index==0.10.64)\n",
            "  Downloading llama_index_legacy-0.9.48.post4-py3-none-any.whl.metadata (8.5 kB)\n",
            "Collecting llama-index-llms-openai<0.2.0,>=0.1.27 (from llama-index==0.10.64)\n",
            "  Downloading llama_index_llms_openai-0.1.31-py3-none-any.whl.metadata (650 bytes)\n",
            "Collecting llama-index-multi-modal-llms-openai<0.2.0,>=0.1.3 (from llama-index==0.10.64)\n",
            "  Downloading llama_index_multi_modal_llms_openai-0.1.9-py3-none-any.whl.metadata (728 bytes)\n",
            "Collecting llama-index-program-openai<0.2.0,>=0.1.3 (from llama-index==0.10.64)\n",
            "  Downloading llama_index_program_openai-0.1.7-py3-none-any.whl.metadata (760 bytes)\n",
            "Collecting llama-index-question-gen-openai<0.2.0,>=0.1.2 (from llama-index==0.10.64)\n",
            "  Downloading llama_index_question_gen_openai-0.1.3-py3-none-any.whl.metadata (785 bytes)\n",
            "Collecting llama-index-readers-file<0.2.0,>=0.1.4 (from llama-index==0.10.64)\n",
            "  Downloading llama_index_readers_file-0.1.33-py3-none-any.whl.metadata (5.4 kB)\n",
            "Collecting llama-index-readers-llama-parse>=0.1.2 (from llama-index==0.10.64)\n",
            "  Downloading llama_index_readers_llama_parse-0.4.0-py3-none-any.whl.metadata (3.6 kB)\n",
            "Requirement already satisfied: openai>=1.14.0 in /usr/local/lib/python3.11/dist-packages (from llama-index-agent-openai<0.3.0,>=0.1.4->llama-index==0.10.64) (1.61.1)\n",
            "Requirement already satisfied: PyYAML>=6.0.1 in /usr/local/lib/python3.11/dist-packages (from llama-index-core<0.11.0,>=0.10.64->llama-index==0.10.64) (6.0.2)\n",
            "Requirement already satisfied: SQLAlchemy>=1.4.49 in /usr/local/lib/python3.11/dist-packages (from SQLAlchemy[asyncio]>=1.4.49->llama-index-core<0.11.0,>=0.10.64->llama-index==0.10.64) (2.0.38)\n",
            "Requirement already satisfied: aiohttp<4.0.0,>=3.8.6 in /usr/local/lib/python3.11/dist-packages (from llama-index-core<0.11.0,>=0.10.64->llama-index==0.10.64) (3.11.13)\n",
            "Requirement already satisfied: dataclasses-json in /usr/local/lib/python3.11/dist-packages (from llama-index-core<0.11.0,>=0.10.64->llama-index==0.10.64) (0.6.7)\n",
            "Requirement already satisfied: deprecated>=1.2.9.3 in /usr/local/lib/python3.11/dist-packages (from llama-index-core<0.11.0,>=0.10.64->llama-index==0.10.64) (1.2.18)\n",
            "Requirement already satisfied: dirtyjson<2.0.0,>=1.0.8 in /usr/local/lib/python3.11/dist-packages (from llama-index-core<0.11.0,>=0.10.64->llama-index==0.10.64) (1.0.8)\n",
            "Requirement already satisfied: fsspec>=2023.5.0 in /usr/local/lib/python3.11/dist-packages (from llama-index-core<0.11.0,>=0.10.64->llama-index==0.10.64) (2024.10.0)\n",
            "Requirement already satisfied: httpx in /usr/local/lib/python3.11/dist-packages (from llama-index-core<0.11.0,>=0.10.64->llama-index==0.10.64) (0.28.1)\n",
            "Requirement already satisfied: nest-asyncio<2.0.0,>=1.5.8 in /usr/local/lib/python3.11/dist-packages (from llama-index-core<0.11.0,>=0.10.64->llama-index==0.10.64) (1.6.0)\n",
            "Requirement already satisfied: networkx>=3.0 in /usr/local/lib/python3.11/dist-packages (from llama-index-core<0.11.0,>=0.10.64->llama-index==0.10.64) (3.4.2)\n",
            "Requirement already satisfied: nltk!=3.9,>=3.8.1 in /usr/local/lib/python3.11/dist-packages (from llama-index-core<0.11.0,>=0.10.64->llama-index==0.10.64) (3.9.1)\n",
            "Requirement already satisfied: numpy<2.0.0 in /usr/local/lib/python3.11/dist-packages (from llama-index-core<0.11.0,>=0.10.64->llama-index==0.10.64) (1.26.4)\n",
            "Requirement already satisfied: pandas in /usr/local/lib/python3.11/dist-packages (from llama-index-core<0.11.0,>=0.10.64->llama-index==0.10.64) (2.2.2)\n",
            "Requirement already satisfied: pillow>=9.0.0 in /usr/local/lib/python3.11/dist-packages (from llama-index-core<0.11.0,>=0.10.64->llama-index==0.10.64) (10.2.0)\n",
            "Requirement already satisfied: pydantic<3.0 in /usr/local/lib/python3.11/dist-packages (from llama-index-core<0.11.0,>=0.10.64->llama-index==0.10.64) (2.10.6)\n",
            "Requirement already satisfied: requests>=2.31.0 in /usr/local/lib/python3.11/dist-packages (from llama-index-core<0.11.0,>=0.10.64->llama-index==0.10.64) (2.32.3)\n",
            "Requirement already satisfied: tenacity!=8.4.0,<9.0.0,>=8.2.0 in /usr/local/lib/python3.11/dist-packages (from llama-index-core<0.11.0,>=0.10.64->llama-index==0.10.64) (8.5.0)\n",
            "Requirement already satisfied: tiktoken>=0.3.3 in /usr/local/lib/python3.11/dist-packages (from llama-index-core<0.11.0,>=0.10.64->llama-index==0.10.64) (0.9.0)\n",
            "Requirement already satisfied: tqdm<5.0.0,>=4.66.1 in /usr/local/lib/python3.11/dist-packages (from llama-index-core<0.11.0,>=0.10.64->llama-index==0.10.64) (4.67.1)\n",
            "Requirement already satisfied: typing-extensions>=4.5.0 in /usr/local/lib/python3.11/dist-packages (from llama-index-core<0.11.0,>=0.10.64->llama-index==0.10.64) (4.12.2)\n",
            "Requirement already satisfied: typing-inspect>=0.8.0 in /usr/local/lib/python3.11/dist-packages (from llama-index-core<0.11.0,>=0.10.64->llama-index==0.10.64) (0.9.0)\n",
            "Requirement already satisfied: wrapt in /usr/local/lib/python3.11/dist-packages (from llama-index-core<0.11.0,>=0.10.64->llama-index==0.10.64) (1.17.2)\n",
            "Collecting llama-cloud<0.2.0,>=0.1.13 (from llama-index-indices-managed-llama-cloud>=0.2.0->llama-index==0.10.64)\n",
            "  Downloading llama_cloud-0.1.14-py3-none-any.whl.metadata (902 bytes)\n",
            "INFO: pip is looking at multiple versions of llama-index-indices-managed-llama-cloud to determine which version is compatible with other requirements. This could take a while.\n",
            "Collecting llama-index-indices-managed-llama-cloud>=0.2.0 (from llama-index==0.10.64)\n",
            "  Downloading llama_index_indices_managed_llama_cloud-0.6.7-py3-none-any.whl.metadata (3.6 kB)\n",
            "  Downloading llama_index_indices_managed_llama_cloud-0.6.6-py3-none-any.whl.metadata (3.6 kB)\n",
            "  Downloading llama_index_indices_managed_llama_cloud-0.6.5-py3-none-any.whl.metadata (3.6 kB)\n",
            "  Downloading llama_index_indices_managed_llama_cloud-0.6.4-py3-none-any.whl.metadata (3.6 kB)\n",
            "  Downloading llama_index_indices_managed_llama_cloud-0.6.3-py3-none-any.whl.metadata (3.8 kB)\n",
            "  Downloading llama_index_indices_managed_llama_cloud-0.6.2-py3-none-any.whl.metadata (3.8 kB)\n",
            "  Downloading llama_index_indices_managed_llama_cloud-0.6.1-py3-none-any.whl.metadata (3.8 kB)\n",
            "INFO: pip is still looking at multiple versions of llama-index-indices-managed-llama-cloud to determine which version is compatible with other requirements. This could take a while.\n",
            "  Downloading llama_index_indices_managed_llama_cloud-0.6.0-py3-none-any.whl.metadata (3.8 kB)\n",
            "  Downloading llama_index_indices_managed_llama_cloud-0.5.0-py3-none-any.whl.metadata (3.8 kB)\n",
            "  Downloading llama_index_indices_managed_llama_cloud-0.4.2-py3-none-any.whl.metadata (3.8 kB)\n",
            "  Downloading llama_index_indices_managed_llama_cloud-0.4.1-py3-none-any.whl.metadata (3.8 kB)\n",
            "  Downloading llama_index_indices_managed_llama_cloud-0.4.0-py3-none-any.whl.metadata (3.8 kB)\n",
            "INFO: This is taking longer than usual. You might need to provide the dependency resolver with stricter constraints to reduce runtime. See https://pip.pypa.io/warnings/backtracking for guidance. If you want to abort this run, press Ctrl + C.\n",
            "  Downloading llama_index_indices_managed_llama_cloud-0.3.1-py3-none-any.whl.metadata (3.8 kB)\n",
            "  Downloading llama_index_indices_managed_llama_cloud-0.3.0-py3-none-any.whl.metadata (3.8 kB)\n",
            "  Downloading llama_index_indices_managed_llama_cloud-0.2.7-py3-none-any.whl.metadata (3.8 kB)\n",
            "Requirement already satisfied: beautifulsoup4<5.0.0,>=4.12.3 in /usr/local/lib/python3.11/dist-packages (from llama-index-readers-file<0.2.0,>=0.1.4->llama-index==0.10.64) (4.13.3)\n",
            "Collecting pypdf<5.0.0,>=4.0.1 (from llama-index-readers-file<0.2.0,>=0.1.4->llama-index==0.10.64)\n",
            "  Downloading pypdf-4.3.1-py3-none-any.whl.metadata (7.4 kB)\n",
            "Collecting striprtf<0.0.27,>=0.0.26 (from llama-index-readers-file<0.2.0,>=0.1.4->llama-index==0.10.64)\n",
            "  Downloading striprtf-0.0.26-py3-none-any.whl.metadata (2.1 kB)\n",
            "INFO: pip is looking at multiple versions of llama-index-readers-llama-parse to determine which version is compatible with other requirements. This could take a while.\n",
            "Collecting llama-index-readers-llama-parse>=0.1.2 (from llama-index==0.10.64)\n",
            "  Downloading llama_index_readers_llama_parse-0.3.0-py3-none-any.whl.metadata (3.5 kB)\n",
            "  Downloading llama_index_readers_llama_parse-0.2.0-py3-none-any.whl.metadata (3.6 kB)\n",
            "  Downloading llama_index_readers_llama_parse-0.1.6-py3-none-any.whl.metadata (3.6 kB)\n",
            "Collecting llama-parse>=0.4.0 (from llama-index-readers-llama-parse>=0.1.2->llama-index==0.10.64)\n",
            "  Downloading llama_parse-0.6.4.post1-py3-none-any.whl.metadata (6.9 kB)\n",
            "Requirement already satisfied: aiohappyeyeballs>=2.3.0 in /usr/local/lib/python3.11/dist-packages (from aiohttp<4.0.0,>=3.8.6->llama-index-core<0.11.0,>=0.10.64->llama-index==0.10.64) (2.4.6)\n",
            "Requirement already satisfied: aiosignal>=1.1.2 in /usr/local/lib/python3.11/dist-packages (from aiohttp<4.0.0,>=3.8.6->llama-index-core<0.11.0,>=0.10.64->llama-index==0.10.64) (1.3.2)\n",
            "Requirement already satisfied: attrs>=17.3.0 in /usr/local/lib/python3.11/dist-packages (from aiohttp<4.0.0,>=3.8.6->llama-index-core<0.11.0,>=0.10.64->llama-index==0.10.64) (25.1.0)\n",
            "Requirement already satisfied: frozenlist>=1.1.1 in /usr/local/lib/python3.11/dist-packages (from aiohttp<4.0.0,>=3.8.6->llama-index-core<0.11.0,>=0.10.64->llama-index==0.10.64) (1.5.0)\n",
            "Requirement already satisfied: multidict<7.0,>=4.5 in /usr/local/lib/python3.11/dist-packages (from aiohttp<4.0.0,>=3.8.6->llama-index-core<0.11.0,>=0.10.64->llama-index==0.10.64) (6.1.0)\n",
            "Requirement already satisfied: propcache>=0.2.0 in /usr/local/lib/python3.11/dist-packages (from aiohttp<4.0.0,>=3.8.6->llama-index-core<0.11.0,>=0.10.64->llama-index==0.10.64) (0.3.0)\n",
            "Requirement already satisfied: yarl<2.0,>=1.17.0 in /usr/local/lib/python3.11/dist-packages (from aiohttp<4.0.0,>=3.8.6->llama-index-core<0.11.0,>=0.10.64->llama-index==0.10.64) (1.18.3)\n",
            "Requirement already satisfied: soupsieve>1.2 in /usr/local/lib/python3.11/dist-packages (from beautifulsoup4<5.0.0,>=4.12.3->llama-index-readers-file<0.2.0,>=0.1.4->llama-index==0.10.64) (2.6)\n",
            "Requirement already satisfied: certifi>=2024.7.4 in /usr/local/lib/python3.11/dist-packages (from llama-cloud<0.2.0,>=0.1.13->llama-index-indices-managed-llama-cloud>=0.2.0->llama-index==0.10.64) (2025.1.31)\n",
            "Requirement already satisfied: anyio in /usr/local/lib/python3.11/dist-packages (from httpx->llama-index-core<0.11.0,>=0.10.64->llama-index==0.10.64) (3.7.1)\n",
            "Requirement already satisfied: httpcore==1.* in /usr/local/lib/python3.11/dist-packages (from httpx->llama-index-core<0.11.0,>=0.10.64->llama-index==0.10.64) (1.0.7)\n",
            "Requirement already satisfied: idna in /usr/local/lib/python3.11/dist-packages (from httpx->llama-index-core<0.11.0,>=0.10.64->llama-index==0.10.64) (3.10)\n",
            "Requirement already satisfied: h11<0.15,>=0.13 in /usr/local/lib/python3.11/dist-packages (from httpcore==1.*->httpx->llama-index-core<0.11.0,>=0.10.64->llama-index==0.10.64) (0.14.0)\n",
            "Collecting llama-cloud-services>=0.6.4 (from llama-parse>=0.4.0->llama-index-readers-llama-parse>=0.1.2->llama-index==0.10.64)\n",
            "  Downloading llama_cloud_services-0.6.5-py3-none-any.whl.metadata (2.9 kB)\n",
            "Requirement already satisfied: click in /usr/local/lib/python3.11/dist-packages (from nltk!=3.9,>=3.8.1->llama-index-core<0.11.0,>=0.10.64->llama-index==0.10.64) (8.1.8)\n",
            "Requirement already satisfied: joblib in /usr/local/lib/python3.11/dist-packages (from nltk!=3.9,>=3.8.1->llama-index-core<0.11.0,>=0.10.64->llama-index==0.10.64) (1.4.2)\n",
            "Requirement already satisfied: regex>=2021.8.3 in /usr/local/lib/python3.11/dist-packages (from nltk!=3.9,>=3.8.1->llama-index-core<0.11.0,>=0.10.64->llama-index==0.10.64) (2024.11.6)\n",
            "Requirement already satisfied: distro<2,>=1.7.0 in /usr/local/lib/python3.11/dist-packages (from openai>=1.14.0->llama-index-agent-openai<0.3.0,>=0.1.4->llama-index==0.10.64) (1.9.0)\n",
            "Requirement already satisfied: jiter<1,>=0.4.0 in /usr/local/lib/python3.11/dist-packages (from openai>=1.14.0->llama-index-agent-openai<0.3.0,>=0.1.4->llama-index==0.10.64) (0.8.2)\n",
            "Requirement already satisfied: sniffio in /usr/local/lib/python3.11/dist-packages (from openai>=1.14.0->llama-index-agent-openai<0.3.0,>=0.1.4->llama-index==0.10.64) (1.3.1)\n",
            "Requirement already satisfied: annotated-types>=0.6.0 in /usr/local/lib/python3.11/dist-packages (from pydantic<3.0->llama-index-core<0.11.0,>=0.10.64->llama-index==0.10.64) (0.7.0)\n",
            "Requirement already satisfied: pydantic-core==2.27.2 in /usr/local/lib/python3.11/dist-packages (from pydantic<3.0->llama-index-core<0.11.0,>=0.10.64->llama-index==0.10.64) (2.27.2)\n",
            "Requirement already satisfied: charset-normalizer<4,>=2 in /usr/local/lib/python3.11/dist-packages (from requests>=2.31.0->llama-index-core<0.11.0,>=0.10.64->llama-index==0.10.64) (3.4.1)\n",
            "Requirement already satisfied: urllib3<3,>=1.21.1 in /usr/local/lib/python3.11/dist-packages (from requests>=2.31.0->llama-index-core<0.11.0,>=0.10.64->llama-index==0.10.64) (2.3.0)\n",
            "Requirement already satisfied: greenlet!=0.4.17 in /usr/local/lib/python3.11/dist-packages (from SQLAlchemy>=1.4.49->SQLAlchemy[asyncio]>=1.4.49->llama-index-core<0.11.0,>=0.10.64->llama-index==0.10.64) (3.1.1)\n",
            "Requirement already satisfied: mypy-extensions>=0.3.0 in /usr/local/lib/python3.11/dist-packages (from typing-inspect>=0.8.0->llama-index-core<0.11.0,>=0.10.64->llama-index==0.10.64) (1.0.0)\n",
            "Requirement already satisfied: marshmallow<4.0.0,>=3.18.0 in /usr/local/lib/python3.11/dist-packages (from dataclasses-json->llama-index-core<0.11.0,>=0.10.64->llama-index==0.10.64) (3.26.1)\n",
            "Requirement already satisfied: python-dateutil>=2.8.2 in /usr/local/lib/python3.11/dist-packages (from pandas->llama-index-core<0.11.0,>=0.10.64->llama-index==0.10.64) (2.8.2)\n",
            "Requirement already satisfied: pytz>=2020.1 in /usr/local/lib/python3.11/dist-packages (from pandas->llama-index-core<0.11.0,>=0.10.64->llama-index==0.10.64) (2025.1)\n",
            "Requirement already satisfied: tzdata>=2022.7 in /usr/local/lib/python3.11/dist-packages (from pandas->llama-index-core<0.11.0,>=0.10.64->llama-index==0.10.64) (2025.1)\n",
            "INFO: pip is looking at multiple versions of llama-cloud-services to determine which version is compatible with other requirements. This could take a while.\n",
            "  Downloading llama_cloud_services-0.6.4-py3-none-any.whl.metadata (2.9 kB)\n",
            "Collecting llama-parse>=0.4.0 (from llama-index-readers-llama-parse>=0.1.2->llama-index==0.10.64)\n",
            "  Downloading llama_parse-0.6.4-py3-none-any.whl.metadata (6.9 kB)\n",
            "Collecting llama-cloud-services>=0.6.3 (from llama-parse>=0.4.0->llama-index-readers-llama-parse>=0.1.2->llama-index==0.10.64)\n",
            "  Downloading llama_cloud_services-0.6.3-py3-none-any.whl.metadata (2.9 kB)\n",
            "Collecting llama-parse>=0.4.0 (from llama-index-readers-llama-parse>=0.1.2->llama-index==0.10.64)\n",
            "  Downloading llama_parse-0.6.2-py3-none-any.whl.metadata (6.9 kB)\n",
            "INFO: pip is still looking at multiple versions of llama-cloud-services to determine which version is compatible with other requirements. This could take a while.\n",
            "Collecting llama-cloud-services>=0.6.2 (from llama-parse>=0.4.0->llama-index-readers-llama-parse>=0.1.2->llama-index==0.10.64)\n",
            "  Downloading llama_cloud_services-0.6.2-py3-none-any.whl.metadata (2.8 kB)\n",
            "Collecting llama-parse>=0.4.0 (from llama-index-readers-llama-parse>=0.1.2->llama-index==0.10.64)\n",
            "  Downloading llama_parse-0.6.1-py3-none-any.whl.metadata (6.9 kB)\n",
            "INFO: This is taking longer than usual. You might need to provide the dependency resolver with stricter constraints to reduce runtime. See https://pip.pypa.io/warnings/backtracking for guidance. If you want to abort this run, press Ctrl + C.\n",
            "Collecting llama-cloud-services>=0.6.1 (from llama-parse>=0.4.0->llama-index-readers-llama-parse>=0.1.2->llama-index==0.10.64)\n",
            "  Downloading llama_cloud_services-0.6.1-py3-none-any.whl.metadata (2.7 kB)\n",
            "Collecting llama-parse>=0.4.0 (from llama-index-readers-llama-parse>=0.1.2->llama-index==0.10.64)\n",
            "  Downloading llama_parse-0.6.0-py3-none-any.whl.metadata (6.8 kB)\n",
            "Collecting llama-cloud-services (from llama-parse>=0.4.0->llama-index-readers-llama-parse>=0.1.2->llama-index==0.10.64)\n",
            "  Downloading llama_cloud_services-0.6.0-py3-none-any.whl.metadata (2.7 kB)\n",
            "Collecting llama-parse>=0.4.0 (from llama-index-readers-llama-parse>=0.1.2->llama-index==0.10.64)\n",
            "  Downloading llama_parse-0.5.20-py3-none-any.whl.metadata (6.9 kB)\n",
            "INFO: pip is looking at multiple versions of llama-parse to determine which version is compatible with other requirements. This could take a while.\n",
            "  Downloading llama_parse-0.5.19-py3-none-any.whl.metadata (7.0 kB)\n",
            "  Downloading llama_parse-0.5.18-py3-none-any.whl.metadata (7.0 kB)\n",
            "  Downloading llama_parse-0.5.17-py3-none-any.whl.metadata (7.0 kB)\n",
            "  Downloading llama_parse-0.5.16-py3-none-any.whl.metadata (7.0 kB)\n",
            "  Downloading llama_parse-0.5.15-py3-none-any.whl.metadata (7.0 kB)\n",
            "  Downloading llama_parse-0.5.14-py3-none-any.whl.metadata (6.9 kB)\n",
            "  Downloading llama_parse-0.5.13-py3-none-any.whl.metadata (6.9 kB)\n",
            "INFO: pip is still looking at multiple versions of llama-parse to determine which version is compatible with other requirements. This could take a while.\n",
            "  Downloading llama_parse-0.5.12-py3-none-any.whl.metadata (6.9 kB)\n",
            "  Downloading llama_parse-0.5.11-py3-none-any.whl.metadata (6.9 kB)\n",
            "  Downloading llama_parse-0.5.10-py3-none-any.whl.metadata (6.9 kB)\n",
            "  Downloading llama_parse-0.5.9-py3-none-any.whl.metadata (6.9 kB)\n",
            "  Downloading llama_parse-0.5.8-py3-none-any.whl.metadata (6.4 kB)\n",
            "INFO: This is taking longer than usual. You might need to provide the dependency resolver with stricter constraints to reduce runtime. See https://pip.pypa.io/warnings/backtracking for guidance. If you want to abort this run, press Ctrl + C.\n",
            "  Downloading llama_parse-0.5.7-py3-none-any.whl.metadata (6.4 kB)\n",
            "  Downloading llama_parse-0.5.6-py3-none-any.whl.metadata (6.1 kB)\n",
            "  Downloading llama_parse-0.5.5-py3-none-any.whl.metadata (6.1 kB)\n",
            "  Downloading llama_parse-0.5.4-py3-none-any.whl.metadata (6.1 kB)\n",
            "  Downloading llama_parse-0.5.3-py3-none-any.whl.metadata (4.5 kB)\n",
            "  Downloading llama_parse-0.5.2-py3-none-any.whl.metadata (4.5 kB)\n",
            "  Downloading llama_parse-0.5.1-py3-none-any.whl.metadata (4.5 kB)\n",
            "  Downloading llama_parse-0.5.0-py3-none-any.whl.metadata (4.4 kB)\n",
            "  Downloading llama_parse-0.4.9-py3-none-any.whl.metadata (4.4 kB)\n",
            "Requirement already satisfied: packaging>=17.0 in /usr/local/lib/python3.11/dist-packages (from marshmallow<4.0.0,>=3.18.0->dataclasses-json->llama-index-core<0.11.0,>=0.10.64->llama-index==0.10.64) (24.2)\n",
            "Requirement already satisfied: six>=1.5 in /usr/local/lib/python3.11/dist-packages (from python-dateutil>=2.8.2->pandas->llama-index-core<0.11.0,>=0.10.64->llama-index==0.10.64) (1.17.0)\n",
            "Downloading llama_index-0.10.64-py3-none-any.whl (6.8 kB)\n",
            "Downloading llama_index_agent_openai-0.2.9-py3-none-any.whl (13 kB)\n",
            "Downloading llama_index_cli-0.1.13-py3-none-any.whl (27 kB)\n",
            "Downloading llama_index_embeddings_openai-0.1.11-py3-none-any.whl (6.3 kB)\n",
            "Downloading llama_index_indices_managed_llama_cloud-0.2.7-py3-none-any.whl (9.5 kB)\n",
            "Downloading llama_index_legacy-0.9.48.post4-py3-none-any.whl (1.2 MB)\n",
            "\u001b[2K   \u001b[90m━━━━━━━━━━━━━━━━━━━━━━━━━━━━━━━━━━━━━━━━\u001b[0m \u001b[32m1.2/1.2 MB\u001b[0m \u001b[31m12.8 MB/s\u001b[0m eta \u001b[36m0:00:00\u001b[0m\n",
            "\u001b[?25hDownloading llama_index_llms_openai-0.1.31-py3-none-any.whl (12 kB)\n",
            "Downloading llama_index_multi_modal_llms_openai-0.1.9-py3-none-any.whl (5.9 kB)\n",
            "Downloading llama_index_program_openai-0.1.7-py3-none-any.whl (5.3 kB)\n",
            "Downloading llama_index_question_gen_openai-0.1.3-py3-none-any.whl (2.9 kB)\n",
            "Downloading llama_index_readers_file-0.1.33-py3-none-any.whl (38 kB)\n",
            "Downloading llama_index_readers_llama_parse-0.1.6-py3-none-any.whl (2.5 kB)\n",
            "Downloading llama_cloud-0.1.14-py3-none-any.whl (261 kB)\n",
            "\u001b[2K   \u001b[90m━━━━━━━━━━━━━━━━━━━━━━━━━━━━━━━━━━━━━━━━\u001b[0m \u001b[32m261.7/261.7 kB\u001b[0m \u001b[31m15.4 MB/s\u001b[0m eta \u001b[36m0:00:00\u001b[0m\n",
            "\u001b[?25hDownloading llama_parse-0.4.9-py3-none-any.whl (9.4 kB)\n",
            "Downloading pypdf-4.3.1-py3-none-any.whl (295 kB)\n",
            "\u001b[2K   \u001b[90m━━━━━━━━━━━━━━━━━━━━━━━━━━━━━━━━━━━━━━━━\u001b[0m \u001b[32m295.8/295.8 kB\u001b[0m \u001b[31m16.2 MB/s\u001b[0m eta \u001b[36m0:00:00\u001b[0m\n",
            "\u001b[?25hDownloading striprtf-0.0.26-py3-none-any.whl (6.9 kB)\n",
            "Installing collected packages: striprtf, pypdf, llama-cloud, llama-parse, llama-index-readers-file, llama-index-llms-openai, llama-index-legacy, llama-index-indices-managed-llama-cloud, llama-index-embeddings-openai, llama-index-readers-llama-parse, llama-index-multi-modal-llms-openai, llama-index-cli, llama-index-agent-openai, llama-index-program-openai, llama-index-question-gen-openai, llama-index\n",
            "Successfully installed llama-cloud-0.1.14 llama-index-0.10.64 llama-index-agent-openai-0.2.9 llama-index-cli-0.1.13 llama-index-embeddings-openai-0.1.11 llama-index-indices-managed-llama-cloud-0.2.7 llama-index-legacy-0.9.48.post4 llama-index-llms-openai-0.1.31 llama-index-multi-modal-llms-openai-0.1.9 llama-index-program-openai-0.1.7 llama-index-question-gen-openai-0.1.3 llama-index-readers-file-0.1.33 llama-index-readers-llama-parse-0.1.6 llama-parse-0.4.9 pypdf-4.3.1 striprtf-0.0.26\n"
          ]
        }
      ],
      "source": [
        "!pip install llama-index==0.10.64"
      ]
    },
    {
      "cell_type": "markdown",
      "metadata": {
        "id": "v5FzFmqlwDPc"
      },
      "source": [
        "Next, let's import the required modules and set the needed environmental variables:"
      ]
    },
    {
      "cell_type": "code",
      "execution_count": 2,
      "metadata": {
        "id": "hhrXavfywDPc",
        "outputId": "f43ab005-e1a9-43a1-ad3b-87ce0003a7bb",
        "colab": {
          "base_uri": "https://localhost:8080/"
        }
      },
      "outputs": [
        {
          "output_type": "stream",
          "name": "stderr",
          "text": [
            "[nltk_data] Downloading package punkt_tab to\n",
            "[nltk_data]     /usr/local/lib/python3.11/dist-\n",
            "[nltk_data]     packages/llama_index/core/_static/nltk_cache...\n",
            "[nltk_data]   Unzipping tokenizers/punkt_tab.zip.\n",
            "/usr/local/lib/python3.11/dist-packages/deeplake/util/check_latest_version.py:32: UserWarning: A newer version of deeplake (4.1.11) is available. It's recommended that you update to the latest version using `pip install -U deeplake`.\n",
            "  warnings.warn(\n"
          ]
        }
      ],
      "source": [
        "from llama_index.core import VectorStoreIndex, SimpleDirectoryReader, Document\n",
        "from llama_index.vector_stores.deeplake import DeepLakeVectorStore"
      ]
    },
    {
      "cell_type": "code",
      "execution_count": 3,
      "metadata": {
        "id": "MVEkwfwKQd31",
        "colab": {
          "base_uri": "https://localhost:8080/"
        },
        "outputId": "48fd7637-995f-4315-c6d4-8400184ff270",
        "collapsed": true
      },
      "outputs": [
        {
          "output_type": "stream",
          "name": "stdout",
          "text": [
            "Collecting sentence-transformers==3.0.1\n",
            "  Downloading sentence_transformers-3.0.1-py3-none-any.whl.metadata (10 kB)\n",
            "Requirement already satisfied: transformers<5.0.0,>=4.34.0 in /usr/local/lib/python3.11/dist-packages (from sentence-transformers==3.0.1) (4.48.3)\n",
            "Requirement already satisfied: tqdm in /usr/local/lib/python3.11/dist-packages (from sentence-transformers==3.0.1) (4.67.1)\n",
            "Requirement already satisfied: torch>=1.11.0 in /usr/local/lib/python3.11/dist-packages (from sentence-transformers==3.0.1) (2.5.1+cu124)\n",
            "Requirement already satisfied: numpy in /usr/local/lib/python3.11/dist-packages (from sentence-transformers==3.0.1) (1.26.4)\n",
            "Requirement already satisfied: scikit-learn in /usr/local/lib/python3.11/dist-packages (from sentence-transformers==3.0.1) (1.6.1)\n",
            "Requirement already satisfied: scipy in /usr/local/lib/python3.11/dist-packages (from sentence-transformers==3.0.1) (1.13.1)\n",
            "Requirement already satisfied: huggingface-hub>=0.15.1 in /usr/local/lib/python3.11/dist-packages (from sentence-transformers==3.0.1) (0.28.1)\n",
            "Requirement already satisfied: Pillow in /usr/local/lib/python3.11/dist-packages (from sentence-transformers==3.0.1) (10.2.0)\n",
            "Requirement already satisfied: filelock in /usr/local/lib/python3.11/dist-packages (from huggingface-hub>=0.15.1->sentence-transformers==3.0.1) (3.17.0)\n",
            "Requirement already satisfied: fsspec>=2023.5.0 in /usr/local/lib/python3.11/dist-packages (from huggingface-hub>=0.15.1->sentence-transformers==3.0.1) (2024.10.0)\n",
            "Requirement already satisfied: packaging>=20.9 in /usr/local/lib/python3.11/dist-packages (from huggingface-hub>=0.15.1->sentence-transformers==3.0.1) (24.2)\n",
            "Requirement already satisfied: pyyaml>=5.1 in /usr/local/lib/python3.11/dist-packages (from huggingface-hub>=0.15.1->sentence-transformers==3.0.1) (6.0.2)\n",
            "Requirement already satisfied: requests in /usr/local/lib/python3.11/dist-packages (from huggingface-hub>=0.15.1->sentence-transformers==3.0.1) (2.32.3)\n",
            "Requirement already satisfied: typing-extensions>=3.7.4.3 in /usr/local/lib/python3.11/dist-packages (from huggingface-hub>=0.15.1->sentence-transformers==3.0.1) (4.12.2)\n",
            "Requirement already satisfied: networkx in /usr/local/lib/python3.11/dist-packages (from torch>=1.11.0->sentence-transformers==3.0.1) (3.4.2)\n",
            "Requirement already satisfied: jinja2 in /usr/local/lib/python3.11/dist-packages (from torch>=1.11.0->sentence-transformers==3.0.1) (3.1.5)\n",
            "Collecting nvidia-cuda-nvrtc-cu12==12.4.127 (from torch>=1.11.0->sentence-transformers==3.0.1)\n",
            "  Downloading nvidia_cuda_nvrtc_cu12-12.4.127-py3-none-manylinux2014_x86_64.whl.metadata (1.5 kB)\n",
            "Collecting nvidia-cuda-runtime-cu12==12.4.127 (from torch>=1.11.0->sentence-transformers==3.0.1)\n",
            "  Downloading nvidia_cuda_runtime_cu12-12.4.127-py3-none-manylinux2014_x86_64.whl.metadata (1.5 kB)\n",
            "Collecting nvidia-cuda-cupti-cu12==12.4.127 (from torch>=1.11.0->sentence-transformers==3.0.1)\n",
            "  Downloading nvidia_cuda_cupti_cu12-12.4.127-py3-none-manylinux2014_x86_64.whl.metadata (1.6 kB)\n",
            "Collecting nvidia-cudnn-cu12==9.1.0.70 (from torch>=1.11.0->sentence-transformers==3.0.1)\n",
            "  Downloading nvidia_cudnn_cu12-9.1.0.70-py3-none-manylinux2014_x86_64.whl.metadata (1.6 kB)\n",
            "Collecting nvidia-cublas-cu12==12.4.5.8 (from torch>=1.11.0->sentence-transformers==3.0.1)\n",
            "  Downloading nvidia_cublas_cu12-12.4.5.8-py3-none-manylinux2014_x86_64.whl.metadata (1.5 kB)\n",
            "Collecting nvidia-cufft-cu12==11.2.1.3 (from torch>=1.11.0->sentence-transformers==3.0.1)\n",
            "  Downloading nvidia_cufft_cu12-11.2.1.3-py3-none-manylinux2014_x86_64.whl.metadata (1.5 kB)\n",
            "Collecting nvidia-curand-cu12==10.3.5.147 (from torch>=1.11.0->sentence-transformers==3.0.1)\n",
            "  Downloading nvidia_curand_cu12-10.3.5.147-py3-none-manylinux2014_x86_64.whl.metadata (1.5 kB)\n",
            "Collecting nvidia-cusolver-cu12==11.6.1.9 (from torch>=1.11.0->sentence-transformers==3.0.1)\n",
            "  Downloading nvidia_cusolver_cu12-11.6.1.9-py3-none-manylinux2014_x86_64.whl.metadata (1.6 kB)\n",
            "Collecting nvidia-cusparse-cu12==12.3.1.170 (from torch>=1.11.0->sentence-transformers==3.0.1)\n",
            "  Downloading nvidia_cusparse_cu12-12.3.1.170-py3-none-manylinux2014_x86_64.whl.metadata (1.6 kB)\n",
            "Requirement already satisfied: nvidia-nccl-cu12==2.21.5 in /usr/local/lib/python3.11/dist-packages (from torch>=1.11.0->sentence-transformers==3.0.1) (2.21.5)\n",
            "Requirement already satisfied: nvidia-nvtx-cu12==12.4.127 in /usr/local/lib/python3.11/dist-packages (from torch>=1.11.0->sentence-transformers==3.0.1) (12.4.127)\n",
            "Collecting nvidia-nvjitlink-cu12==12.4.127 (from torch>=1.11.0->sentence-transformers==3.0.1)\n",
            "  Downloading nvidia_nvjitlink_cu12-12.4.127-py3-none-manylinux2014_x86_64.whl.metadata (1.5 kB)\n",
            "Requirement already satisfied: triton==3.1.0 in /usr/local/lib/python3.11/dist-packages (from torch>=1.11.0->sentence-transformers==3.0.1) (3.1.0)\n",
            "Requirement already satisfied: sympy==1.13.1 in /usr/local/lib/python3.11/dist-packages (from torch>=1.11.0->sentence-transformers==3.0.1) (1.13.1)\n",
            "Requirement already satisfied: mpmath<1.4,>=1.1.0 in /usr/local/lib/python3.11/dist-packages (from sympy==1.13.1->torch>=1.11.0->sentence-transformers==3.0.1) (1.3.0)\n",
            "Requirement already satisfied: regex!=2019.12.17 in /usr/local/lib/python3.11/dist-packages (from transformers<5.0.0,>=4.34.0->sentence-transformers==3.0.1) (2024.11.6)\n",
            "Requirement already satisfied: tokenizers<0.22,>=0.21 in /usr/local/lib/python3.11/dist-packages (from transformers<5.0.0,>=4.34.0->sentence-transformers==3.0.1) (0.21.0)\n",
            "Requirement already satisfied: safetensors>=0.4.1 in /usr/local/lib/python3.11/dist-packages (from transformers<5.0.0,>=4.34.0->sentence-transformers==3.0.1) (0.5.3)\n",
            "Requirement already satisfied: joblib>=1.2.0 in /usr/local/lib/python3.11/dist-packages (from scikit-learn->sentence-transformers==3.0.1) (1.4.2)\n",
            "Requirement already satisfied: threadpoolctl>=3.1.0 in /usr/local/lib/python3.11/dist-packages (from scikit-learn->sentence-transformers==3.0.1) (3.5.0)\n",
            "Requirement already satisfied: MarkupSafe>=2.0 in /usr/local/lib/python3.11/dist-packages (from jinja2->torch>=1.11.0->sentence-transformers==3.0.1) (3.0.2)\n",
            "Requirement already satisfied: charset-normalizer<4,>=2 in /usr/local/lib/python3.11/dist-packages (from requests->huggingface-hub>=0.15.1->sentence-transformers==3.0.1) (3.4.1)\n",
            "Requirement already satisfied: idna<4,>=2.5 in /usr/local/lib/python3.11/dist-packages (from requests->huggingface-hub>=0.15.1->sentence-transformers==3.0.1) (3.10)\n",
            "Requirement already satisfied: urllib3<3,>=1.21.1 in /usr/local/lib/python3.11/dist-packages (from requests->huggingface-hub>=0.15.1->sentence-transformers==3.0.1) (2.3.0)\n",
            "Requirement already satisfied: certifi>=2017.4.17 in /usr/local/lib/python3.11/dist-packages (from requests->huggingface-hub>=0.15.1->sentence-transformers==3.0.1) (2025.1.31)\n",
            "Downloading sentence_transformers-3.0.1-py3-none-any.whl (227 kB)\n",
            "\u001b[2K   \u001b[90m━━━━━━━━━━━━━━━━━━━━━━━━━━━━━━━━━━━━━━━━\u001b[0m \u001b[32m227.1/227.1 kB\u001b[0m \u001b[31m3.2 MB/s\u001b[0m eta \u001b[36m0:00:00\u001b[0m\n",
            "\u001b[?25hDownloading nvidia_cublas_cu12-12.4.5.8-py3-none-manylinux2014_x86_64.whl (363.4 MB)\n",
            "\u001b[2K   \u001b[90m━━━━━━━━━━━━━━━━━━━━━━━━━━━━━━━━━━━━━━━━\u001b[0m \u001b[32m363.4/363.4 MB\u001b[0m \u001b[31m4.6 MB/s\u001b[0m eta \u001b[36m0:00:00\u001b[0m\n",
            "\u001b[?25hDownloading nvidia_cuda_cupti_cu12-12.4.127-py3-none-manylinux2014_x86_64.whl (13.8 MB)\n",
            "\u001b[2K   \u001b[90m━━━━━━━━━━━━━━━━━━━━━━━━━━━━━━━━━━━━━━━━\u001b[0m \u001b[32m13.8/13.8 MB\u001b[0m \u001b[31m62.2 MB/s\u001b[0m eta \u001b[36m0:00:00\u001b[0m\n",
            "\u001b[?25hDownloading nvidia_cuda_nvrtc_cu12-12.4.127-py3-none-manylinux2014_x86_64.whl (24.6 MB)\n",
            "\u001b[2K   \u001b[90m━━━━━━━━━━━━━━━━━━━━━━━━━━━━━━━━━━━━━━━━\u001b[0m \u001b[32m24.6/24.6 MB\u001b[0m \u001b[31m51.6 MB/s\u001b[0m eta \u001b[36m0:00:00\u001b[0m\n",
            "\u001b[?25hDownloading nvidia_cuda_runtime_cu12-12.4.127-py3-none-manylinux2014_x86_64.whl (883 kB)\n",
            "\u001b[2K   \u001b[90m━━━━━━━━━━━━━━━━━━━━━━━━━━━━━━━━━━━━━━━━\u001b[0m \u001b[32m883.7/883.7 kB\u001b[0m \u001b[31m37.3 MB/s\u001b[0m eta \u001b[36m0:00:00\u001b[0m\n",
            "\u001b[?25hDownloading nvidia_cudnn_cu12-9.1.0.70-py3-none-manylinux2014_x86_64.whl (664.8 MB)\n",
            "\u001b[2K   \u001b[90m━━━━━━━━━━━━━━━━━━━━━━━━━━━━━━━━━━━━━━━━\u001b[0m \u001b[32m664.8/664.8 MB\u001b[0m \u001b[31m1.2 MB/s\u001b[0m eta \u001b[36m0:00:00\u001b[0m\n",
            "\u001b[?25hDownloading nvidia_cufft_cu12-11.2.1.3-py3-none-manylinux2014_x86_64.whl (211.5 MB)\n",
            "\u001b[2K   \u001b[90m━━━━━━━━━━━━━━━━━━━━━━━━━━━━━━━━━━━━━━━━\u001b[0m \u001b[32m211.5/211.5 MB\u001b[0m \u001b[31m6.0 MB/s\u001b[0m eta \u001b[36m0:00:00\u001b[0m\n",
            "\u001b[?25hDownloading nvidia_curand_cu12-10.3.5.147-py3-none-manylinux2014_x86_64.whl (56.3 MB)\n",
            "\u001b[2K   \u001b[90m━━━━━━━━━━━━━━━━━━━━━━━━━━━━━━━━━━━━━━━━\u001b[0m \u001b[32m56.3/56.3 MB\u001b[0m \u001b[31m13.0 MB/s\u001b[0m eta \u001b[36m0:00:00\u001b[0m\n",
            "\u001b[?25hDownloading nvidia_cusolver_cu12-11.6.1.9-py3-none-manylinux2014_x86_64.whl (127.9 MB)\n",
            "\u001b[2K   \u001b[90m━━━━━━━━━━━━━━━━━━━━━━━━━━━━━━━━━━━━━━━━\u001b[0m \u001b[32m127.9/127.9 MB\u001b[0m \u001b[31m7.5 MB/s\u001b[0m eta \u001b[36m0:00:00\u001b[0m\n",
            "\u001b[?25hDownloading nvidia_cusparse_cu12-12.3.1.170-py3-none-manylinux2014_x86_64.whl (207.5 MB)\n",
            "\u001b[2K   \u001b[90m━━━━━━━━━━━━━━━━━━━━━━━━━━━━━━━━━━━━━━━━\u001b[0m \u001b[32m207.5/207.5 MB\u001b[0m \u001b[31m5.7 MB/s\u001b[0m eta \u001b[36m0:00:00\u001b[0m\n",
            "\u001b[?25hDownloading nvidia_nvjitlink_cu12-12.4.127-py3-none-manylinux2014_x86_64.whl (21.1 MB)\n",
            "\u001b[2K   \u001b[90m━━━━━━━━━━━━━━━━━━━━━━━━━━━━━━━━━━━━━━━━\u001b[0m \u001b[32m21.1/21.1 MB\u001b[0m \u001b[31m75.4 MB/s\u001b[0m eta \u001b[36m0:00:00\u001b[0m\n",
            "\u001b[?25hInstalling collected packages: nvidia-nvjitlink-cu12, nvidia-curand-cu12, nvidia-cufft-cu12, nvidia-cuda-runtime-cu12, nvidia-cuda-nvrtc-cu12, nvidia-cuda-cupti-cu12, nvidia-cublas-cu12, nvidia-cusparse-cu12, nvidia-cudnn-cu12, nvidia-cusolver-cu12, sentence-transformers\n",
            "  Attempting uninstall: nvidia-nvjitlink-cu12\n",
            "    Found existing installation: nvidia-nvjitlink-cu12 12.5.82\n",
            "    Uninstalling nvidia-nvjitlink-cu12-12.5.82:\n",
            "      Successfully uninstalled nvidia-nvjitlink-cu12-12.5.82\n",
            "  Attempting uninstall: nvidia-curand-cu12\n",
            "    Found existing installation: nvidia-curand-cu12 10.3.6.82\n",
            "    Uninstalling nvidia-curand-cu12-10.3.6.82:\n",
            "      Successfully uninstalled nvidia-curand-cu12-10.3.6.82\n",
            "  Attempting uninstall: nvidia-cufft-cu12\n",
            "    Found existing installation: nvidia-cufft-cu12 11.2.3.61\n",
            "    Uninstalling nvidia-cufft-cu12-11.2.3.61:\n",
            "      Successfully uninstalled nvidia-cufft-cu12-11.2.3.61\n",
            "  Attempting uninstall: nvidia-cuda-runtime-cu12\n",
            "    Found existing installation: nvidia-cuda-runtime-cu12 12.5.82\n",
            "    Uninstalling nvidia-cuda-runtime-cu12-12.5.82:\n",
            "      Successfully uninstalled nvidia-cuda-runtime-cu12-12.5.82\n",
            "  Attempting uninstall: nvidia-cuda-nvrtc-cu12\n",
            "    Found existing installation: nvidia-cuda-nvrtc-cu12 12.5.82\n",
            "    Uninstalling nvidia-cuda-nvrtc-cu12-12.5.82:\n",
            "      Successfully uninstalled nvidia-cuda-nvrtc-cu12-12.5.82\n",
            "  Attempting uninstall: nvidia-cuda-cupti-cu12\n",
            "    Found existing installation: nvidia-cuda-cupti-cu12 12.5.82\n",
            "    Uninstalling nvidia-cuda-cupti-cu12-12.5.82:\n",
            "      Successfully uninstalled nvidia-cuda-cupti-cu12-12.5.82\n",
            "  Attempting uninstall: nvidia-cublas-cu12\n",
            "    Found existing installation: nvidia-cublas-cu12 12.5.3.2\n",
            "    Uninstalling nvidia-cublas-cu12-12.5.3.2:\n",
            "      Successfully uninstalled nvidia-cublas-cu12-12.5.3.2\n",
            "  Attempting uninstall: nvidia-cusparse-cu12\n",
            "    Found existing installation: nvidia-cusparse-cu12 12.5.1.3\n",
            "    Uninstalling nvidia-cusparse-cu12-12.5.1.3:\n",
            "      Successfully uninstalled nvidia-cusparse-cu12-12.5.1.3\n",
            "  Attempting uninstall: nvidia-cudnn-cu12\n",
            "    Found existing installation: nvidia-cudnn-cu12 9.3.0.75\n",
            "    Uninstalling nvidia-cudnn-cu12-9.3.0.75:\n",
            "      Successfully uninstalled nvidia-cudnn-cu12-9.3.0.75\n",
            "  Attempting uninstall: nvidia-cusolver-cu12\n",
            "    Found existing installation: nvidia-cusolver-cu12 11.6.3.83\n",
            "    Uninstalling nvidia-cusolver-cu12-11.6.3.83:\n",
            "      Successfully uninstalled nvidia-cusolver-cu12-11.6.3.83\n",
            "  Attempting uninstall: sentence-transformers\n",
            "    Found existing installation: sentence-transformers 3.4.1\n",
            "    Uninstalling sentence-transformers-3.4.1:\n",
            "      Successfully uninstalled sentence-transformers-3.4.1\n",
            "Successfully installed nvidia-cublas-cu12-12.4.5.8 nvidia-cuda-cupti-cu12-12.4.127 nvidia-cuda-nvrtc-cu12-12.4.127 nvidia-cuda-runtime-cu12-12.4.127 nvidia-cudnn-cu12-9.1.0.70 nvidia-cufft-cu12-11.2.1.3 nvidia-curand-cu12-10.3.5.147 nvidia-cusolver-cu12-11.6.1.9 nvidia-cusparse-cu12-12.3.1.170 nvidia-nvjitlink-cu12-12.4.127 sentence-transformers-3.0.1\n"
          ]
        }
      ],
      "source": [
        "!pip install sentence-transformers==3.0.1"
      ]
    },
    {
      "cell_type": "code",
      "source": [
        "#Retrieving and setting the OpenAI API key\n",
        "f = open(\"drive/MyDrive/files/api_key.txt\", \"r\")\n",
        "API_KEY=f.readline().strip()\n",
        "f.close()\n",
        "\n",
        "#The OpenAI KeyActiveloop and OpenAI API keys\n",
        "import os\n",
        "import openai\n",
        "os.environ['OPENAI_API_KEY'] =API_KEY\n",
        "openai.api_key = os.getenv(\"OPENAI_API_KEY\")"
      ],
      "metadata": {
        "id": "Oefvqp21Ba07"
      },
      "execution_count": null,
      "outputs": []
    },
    {
      "cell_type": "code",
      "source": [
        "#Retrieving and setting the Activeloop API token\n",
        "# f = open(\"drive/MyDrive/files/activeloop.txt\", \"r\")\n",
        "# API_token=f.readline().strip()\n",
        "# f.close()\n",
        "# ACTIVELOOP_TOKEN=API_token\n",
        "import os\n",
        "import openai\n",
        "os.environ['ACTIVELOOP_TOKEN'] ='eyJhbGciOiJub25lIiwidHlwIjoiSldUIn0.eyJpZCI6Im93bGxpbWluZyIsImFwaV9rZXkiOiIwRWN4WkRSakpBQkdIeTVfc1dpdlJrZ05ITlFTQlJvS1dMNjNEVGVaSXVBeVUifQ.'"
      ],
      "metadata": {
        "id": "Iba6wGaaBgPQ"
      },
      "execution_count": 6,
      "outputs": []
    },
    {
      "cell_type": "code",
      "source": [
        "# For Google Colab and Activeloop while waiting for Activeloop (April 2024) pending new version\n",
        "#This line writes the string \"nameserver 8.8.8.8\" to the file. This is specifying that the DNS server the system\n",
        "#should use is at the IP address 8.8.8.8, which is one of Google's Public DNS servers.\n",
        "with open('/etc/resolv.conf', 'w') as file:\n",
        "   file.write(\"nameserver 8.8.8.8\")"
      ],
      "metadata": {
        "id": "vv0TB4Q8fCfT"
      },
      "execution_count": 7,
      "outputs": []
    },
    {
      "cell_type": "markdown",
      "metadata": {
        "id": "KttJwsU-wDPd"
      },
      "source": [
        "# Pipeline 1 : Collecting and preparing the documents"
      ]
    },
    {
      "cell_type": "code",
      "source": [
        "!mkdir data"
      ],
      "metadata": {
        "id": "TW5upfyvxelp"
      },
      "execution_count": 8,
      "outputs": []
    },
    {
      "cell_type": "code",
      "source": [
        "import requests\n",
        "from bs4 import BeautifulSoup\n",
        "import re\n",
        "import os\n",
        "\n",
        "urls = [\n",
        "    \"https://github.com/VisDrone/VisDrone-Dataset\",\n",
        "    \"https://paperswithcode.com/dataset/visdrone\",\n",
        "    \"https://openaccess.thecvf.com/content_ECCVW_2018/papers/11133/Zhu_VisDrone-DET2018_The_Vision_Meets_Drone_Object_Detection_in_Image_Challenge_ECCVW_2018_paper.pdf\",\n",
        "    \"https://github.com/VisDrone/VisDrone2018-MOT-toolkit\",\n",
        "    \"https://en.wikipedia.org/wiki/Object_detection\",\n",
        "    \"https://en.wikipedia.org/wiki/Computer_vision\",\n",
        "    \"https://en.wikipedia.org/wiki/Convolutional_neural_network\",\n",
        "    \"https://en.wikipedia.org/wiki/Unmanned_aerial_vehicle\",\n",
        "    \"https://www.faa.gov/uas/\",\n",
        "    \"https://www.tensorflow.org/\",\n",
        "    \"https://pytorch.org/\",\n",
        "    \"https://keras.io/\",\n",
        "    \"https://arxiv.org/abs/1804.06985\",\n",
        "    \"https://arxiv.org/abs/2202.11983\",\n",
        "    \"https://motchallenge.net/\",\n",
        "    \"http://www.cvlibs.net/datasets/kitti/\",\n",
        "    \"https://www.dronedeploy.com/\",\n",
        "    \"https://www.dji.com/\",\n",
        "    \"https://arxiv.org/\",\n",
        "    \"https://openaccess.thecvf.com/\",\n",
        "    \"https://roboflow.com/\",\n",
        "    \"https://www.kaggle.com/\",\n",
        "    \"htptps://paperswithcode.com/\",\n",
        "    \"https://github.com/\"\n",
        "]"
      ],
      "metadata": {
        "id": "ES8Q6jvjEmW6"
      },
      "execution_count": 9,
      "outputs": []
    },
    {
      "cell_type": "code",
      "source": [
        "import requests\n",
        "import re\n",
        "import os\n",
        "from bs4 import BeautifulSoup\n",
        "\n",
        "def clean_text(content):\n",
        "    # Remove references and unwanted characters\n",
        "    content = re.sub(r'\\[\\d+\\]', '', content)   # Remove references\n",
        "    content = re.sub(r'[^\\w\\s\\.]', '', content)  # Remove punctuation (except periods)\n",
        "    return content\n",
        "\n",
        "def fetch_and_clean(url):\n",
        "    try:\n",
        "        response = requests.get(url)\n",
        "        response.raise_for_status()  # Raise exception for bad responses (e.g., 404)\n",
        "        soup = BeautifulSoup(response.content, 'html.parser')\n",
        "\n",
        "        # Prioritize \"mw-parser-output\" but fall back to \"content\" class if not found\n",
        "        content = soup.find('div', {'class': 'mw-parser-output'}) or soup.find('div', {'id': 'content'})\n",
        "        if content is None:\n",
        "            return None\n",
        "\n",
        "        # Remove specific sections, including nested ones\n",
        "        for section_title in ['References', 'Bibliography', 'External links', 'See also', 'Notes']:\n",
        "            section = content.find('span', id=section_title)\n",
        "            while section:\n",
        "                for sib in section.parent.find_next_siblings():\n",
        "                    sib.decompose()\n",
        "                section.parent.decompose()\n",
        "                section = content.find('span', id=section_title)\n",
        "\n",
        "        # Extract and clean text\n",
        "        text = content.get_text(separator=' ', strip=True)\n",
        "        text = clean_text(text)\n",
        "        return text\n",
        "    except requests.exceptions.RequestException as e:\n",
        "        print(f\"Error fetching content from {url}: {e}\")\n",
        "        return None  # Return None on error\n",
        "\n",
        "# Directory to store the output files\n",
        "output_dir = './data/'  # More descriptive name\n",
        "os.makedirs(output_dir, exist_ok=True)\n",
        "\n",
        "# Processing each URL (and skipping invalid ones)\n",
        "for url in urls:\n",
        "    article_name = url.split('/')[-1].replace('.html', '')  # Handle .html extension\n",
        "    filename = os.path.join(output_dir, f\"{article_name}.txt\")\n",
        "\n",
        "    clean_article_text = fetch_and_clean(url)\n",
        "    if clean_article_text:  # Only write to file if content exists\n",
        "        with open(filename, 'w', encoding='utf-8') as file:\n",
        "            file.write(clean_article_text)\n",
        "\n",
        "print(f\"Content(ones that were possible) written to files in the '{output_dir}' directory.\")"
      ],
      "metadata": {
        "colab": {
          "base_uri": "https://localhost:8080/"
        },
        "id": "bfIuA3FAD7Tv",
        "outputId": "7959ade9-e4bf-4a65-94d3-2757fdb61e22"
      },
      "execution_count": 10,
      "outputs": [
        {
          "output_type": "stream",
          "name": "stderr",
          "text": [
            "WARNING:bs4.dammit:Some characters could not be decoded, and were replaced with REPLACEMENT CHARACTER.\n"
          ]
        },
        {
          "output_type": "stream",
          "name": "stdout",
          "text": [
            "Content(ones that were possible) written to files in the './data/' directory.\n"
          ]
        }
      ]
    },
    {
      "cell_type": "code",
      "execution_count": 11,
      "metadata": {
        "id": "dRNMEPiAwDPd"
      },
      "outputs": [],
      "source": [
        "# load documents\n",
        "documents = SimpleDirectoryReader(\"./data/\").load_data()"
      ]
    },
    {
      "cell_type": "code",
      "source": [
        "documents[0]"
      ],
      "metadata": {
        "colab": {
          "base_uri": "https://localhost:8080/"
        },
        "id": "SXntxjTMMt3L",
        "outputId": "50b6349c-b608-4f2c-eda6-b4c957dd05b4"
      },
      "execution_count": 12,
      "outputs": [
        {
          "output_type": "execute_result",
          "data": {
            "text/plain": [
              "Document(id_='86399a0a-4f0f-4091-8db6-f6e1d758fd5e', embedding=None, metadata={'file_path': '/content/data/1804.06985.txt', 'file_name': '1804.06985.txt', 'file_type': 'text/plain', 'file_size': 3798, 'creation_date': '2025-03-07', 'last_modified_date': '2025-03-07'}, excluded_embed_metadata_keys=['file_name', 'file_type', 'file_size', 'creation_date', 'last_modified_date', 'last_accessed_date'], excluded_llm_metadata_keys=['file_name', 'file_type', 'file_size', 'creation_date', 'last_modified_date', 'last_accessed_date'], relationships={}, text='High Energy Physics  Theory arXiv1804.06985 hepth Submitted on 19 Apr 2018 Title A Near Horizon Extreme Binary Black Hole Geometry Authors Jacob Ciafre  Maria J. Rodriguez View a PDF of the paper titled A Near Horizon Extreme Binary Black Hole Geometry by Jacob Ciafre and Maria J. Rodriguez View PDF Abstract A new solution of fourdimensional vacuum General Relativity is presented. It describes the near horizon region of the extreme maximally spinning binary black hole system with two identical extreme Kerr black holes held in equilibrium by a massless strut. This is the first example of a nonsupersymmetric asymptotically flat near horizon extreme binary black hole geometry of two uncharged black holes. The black holes are corotating and the solution is uniquely specified by the mass. The binary extreme system has finite entropy. The distance between the black holes is fixed but there is a zerodistance limit where the objects collapse into one. This limiting geometry corresponds to the near horizon extreme Kerr NHEK black hole. Comments 1 figure Subjects High Energy Physics  Theory hepth  High Energy Astrophysical Phenomena astroph.HE General Relativity and Quantum Cosmology grqc Cite as arXiv1804.06985 hepth or arXiv1804.06985v1 hepth for this version httpsdoi.org10.48550arXiv.1804.06985 Focus to learn more arXivissued DOI via DataCite Related DOI  httpsdoi.org10.1140epjcs1005201971883 Focus to learn more DOIs linking to related resources Submission history From Maria J. Rodriguez  view email  v1 Thu 19 Apr 2018 031545 UTC 173 KB Fulltext links Access Paper View a PDF of the paper titled A Near Horizon Extreme Binary Black Hole Geometry by Jacob Ciafre and Maria J. Rodriguez View PDF TeX Source Other Formats view license Current browse context hepth \\xa0prev  next\\xa0 new  recent  201804 Change to browse by astroph astroph.HE grqc References  Citations INSPIRE HEP NASA ADS Google Scholar Semantic Scholar a export BibTeX citation Loading... BibTeX formatted citation  loading... Data provided by Bookmark Bibliographic Tools Bibliographic and Citation Tools Bibliographic Explorer Toggle Bibliographic Explorer  What is the Explorer  Connected Papers Toggle Connected Papers  What is Connected Papers  Litmaps Toggle Litmaps  What is Litmaps  scite.ai Toggle scite Smart Citations  What are Smart Citations  Code Data Media Code Data and Media Associated with this Article alphaXiv Toggle alphaXiv  What is alphaXiv  Links to Code Toggle CatalyzeX Code Finder for Papers  What is CatalyzeX  DagsHub Toggle DagsHub  What is DagsHub  GotitPub Toggle Gotit.pub  What is GotitPub  Huggingface Toggle Hugging Face  What is Huggingface  Links to Code Toggle Papers with Code  What is Papers with Code  ScienceCast Toggle ScienceCast  What is ScienceCast  Demos Demos Replicate Toggle Replicate  What is Replicate  Spaces Toggle Hugging Face Spaces  What is Spaces  Spaces Toggle TXYZ.AI  What is TXYZ.AI  Related Papers Recommenders and Search Tools Link to Influence Flower Influence Flower  What are Influence Flowers  Core recommender toggle CORE Recommender  What is CORE  IArxiv recommender toggle IArxiv Recommender  What is IArxiv  Author Venue Institution Topic About arXivLabs arXivLabs experimental projects with community collaborators arXivLabs is a framework that allows collaborators to develop and share new arXiv features directly on our website. Both individuals and organizations that work with arXivLabs have embraced and accepted our values of openness community excellence and user data privacy. arXiv is committed to these values and only works with partners that adhere to them. Have an idea for a project that will add value for arXivs community Learn more about arXivLabs . Which authors of this paper are endorsers  Disable MathJax  What is MathJax ', mimetype='text/plain', start_char_idx=None, end_char_idx=None, text_template='{metadata_str}\\n\\n{content}', metadata_template='{key}: {value}', metadata_seperator='\\n')"
            ]
          },
          "metadata": {},
          "execution_count": 12
        }
      ]
    },
    {
      "cell_type": "markdown",
      "source": [
        "# Pipeline 2 : Creating and populating a Deep Lake Vector Store\n",
        "\n",
        "**Replace `hub://denis76/drone_v2` by your organization and dataset name**"
      ],
      "metadata": {
        "id": "rvtrIvyygGte"
      }
    },
    {
      "cell_type": "code",
      "execution_count": 14,
      "metadata": {
        "outputId": "789ea29a-9da0-4229-af7a-93060b7d5818",
        "colab": {
          "base_uri": "https://localhost:8080/"
        },
        "id": "6hoayqOE1kvj"
      },
      "outputs": [
        {
          "output_type": "stream",
          "name": "stdout",
          "text": [
            "Your Deep Lake dataset has been successfully created!\n"
          ]
        },
        {
          "output_type": "stream",
          "name": "stderr",
          "text": []
        },
        {
          "output_type": "stream",
          "name": "stdout",
          "text": [
            "Uploading data to deeplake dataset.\n"
          ]
        },
        {
          "output_type": "stream",
          "name": "stderr",
          "text": [
            "100%|██████████| 87/87 [00:00<00:00, 108.02it/s]\n",
            "/"
          ]
        },
        {
          "output_type": "stream",
          "name": "stdout",
          "text": [
            "Dataset(path='hub://owlliming/drone', tensors=['text', 'metadata', 'embedding', 'id'])\n",
            "\n",
            "  tensor      htype      shape      dtype  compression\n",
            "  -------    -------    -------    -------  ------- \n",
            "   text       text      (87, 1)      str     None   \n",
            " metadata     json      (87, 1)      str     None   \n",
            " embedding  embedding  (87, 1536)  float32   None   \n",
            "    id        text      (87, 1)      str     None   \n"
          ]
        },
        {
          "output_type": "stream",
          "name": "stderr",
          "text": [
            "\r \r"
          ]
        }
      ],
      "source": [
        "from llama_index.core import StorageContext\n",
        "\n",
        "vector_store_path = \"hub://owlliming/drone\"\n",
        "dataset_path = \"hub://owlliming/drone\"\n",
        "\n",
        "# overwrite=True will overwrite dataset, False will append it\n",
        "vector_store = DeepLakeVectorStore(dataset_path=dataset_path, overwrite=True)\n",
        "storage_context = StorageContext.from_defaults(vector_store=vector_store)\n",
        "# Create an index over the documents\n",
        "index = VectorStoreIndex.from_documents(documents, storage_context=storage_context)"
      ]
    },
    {
      "cell_type": "code",
      "source": [
        "import deeplake\n",
        "ds = deeplake.load(dataset_path)  # Load the dataset"
      ],
      "metadata": {
        "colab": {
          "base_uri": "https://localhost:8080/"
        },
        "id": "BLOzm5hfQfq3",
        "outputId": "74694c5b-cc52-4026-834d-23fa112bec5e"
      },
      "execution_count": 15,
      "outputs": [
        {
          "output_type": "stream",
          "name": "stderr",
          "text": [
            "-"
          ]
        },
        {
          "output_type": "stream",
          "name": "stdout",
          "text": [
            "This dataset can be visualized in Jupyter Notebook by ds.visualize() or at https://app.activeloop.ai/owlliming/drone\n",
            "\n"
          ]
        },
        {
          "output_type": "stream",
          "name": "stderr",
          "text": [
            "-"
          ]
        },
        {
          "output_type": "stream",
          "name": "stdout",
          "text": [
            "hub://owlliming/drone loaded successfully.\n",
            "\n"
          ]
        },
        {
          "output_type": "stream",
          "name": "stderr",
          "text": [
            "\r \r\r\r"
          ]
        }
      ]
    },
    {
      "cell_type": "code",
      "source": [
        "import json\n",
        "import pandas as pd\n",
        "import numpy as np\n",
        "\n",
        "# Assuming 'ds' is your loaded Deep Lake dataset\n",
        "\n",
        "# Create a dictionary to hold the data\n",
        "data = {}\n",
        "\n",
        "# Iterate through the tensors in the dataset\n",
        "for tensor_name in ds.tensors:\n",
        "    tensor_data = ds[tensor_name].numpy()\n",
        "\n",
        "    # Check if the tensor is multi-dimensional\n",
        "    if tensor_data.ndim > 1:\n",
        "        # Flatten multi-dimensional tensors\n",
        "        data[tensor_name] = [np.array(e).flatten().tolist() for e in tensor_data]\n",
        "    else:\n",
        "        # Convert 1D tensors directly to lists and decode text\n",
        "        if tensor_name == \"text\":\n",
        "            data[tensor_name] = [t.tobytes().decode('utf-8') if t else \"\" for t in tensor_data]\n",
        "        else:\n",
        "            data[tensor_name] = tensor_data.tolist()\n",
        "\n",
        "# Create a Pandas DataFrame from the dictionary\n",
        "df = pd.DataFrame(data)"
      ],
      "metadata": {
        "id": "LfBNR2xUP8EO"
      },
      "execution_count": 16,
      "outputs": []
    },
    {
      "cell_type": "code",
      "source": [
        "ds.tensors['id'].numpy()"
      ],
      "metadata": {
        "collapsed": true,
        "id": "maFzcTKi7kiV",
        "outputId": "af84284e-0174-41fc-cbe3-6eb92164531b",
        "colab": {
          "base_uri": "https://localhost:8080/"
        }
      },
      "execution_count": 53,
      "outputs": [
        {
          "output_type": "execute_result",
          "data": {
            "text/plain": [
              "array([['ca5c45a8-bc56-4012-9721-8e0b344e5a2a'],\n",
              "       ['0b5099cf-3614-45b2-b01c-0df33ff5171a'],\n",
              "       ['2c9ae3a1-1140-41b3-823f-3a7b5533bb91'],\n",
              "       ['86705a4e-211d-483d-b853-a284e5bf4977'],\n",
              "       ['94b97038-9417-43e4-ac93-f52ab4bbcb47'],\n",
              "       ['300448bd-bb7f-40ea-9697-c4eb5076139b'],\n",
              "       ['50e75429-ec3d-46ab-9877-d4a99af8598b'],\n",
              "       ['944e9585-4484-4dfe-9e3d-6c7dd0b6f847'],\n",
              "       ['9e57e17e-b31c-4714-a7d1-a0fc39734b69'],\n",
              "       ['aaf72b23-175e-43e8-9623-27fc1f8f37fb'],\n",
              "       ['d0df62c6-af96-43c6-a430-08bfbb5542b8'],\n",
              "       ['7125de01-c6c2-499c-9beb-9a2c9319a0b1'],\n",
              "       ['71963f72-1aaf-44e0-ba6b-630602d481d4'],\n",
              "       ['59b138d0-43f0-49d8-a1d2-35c278d9cc5c'],\n",
              "       ['ae0c0da8-2082-4349-99b2-c5d54a97f6d9'],\n",
              "       ['2fcc61e2-d2ef-42a1-816d-ee7922490108'],\n",
              "       ['5b84404b-0a57-4b98-9f86-f29f7102adb3'],\n",
              "       ['ba8efb7d-5329-4049-a2f2-8c01fb60d5b1'],\n",
              "       ['d779d0a7-6ebb-4cf4-aa08-2710d7a8595d'],\n",
              "       ['fe4f1530-c778-41c7-9226-c04046eabfd8'],\n",
              "       ['59966303-26e8-4f0a-b7e5-54bee39a30c0'],\n",
              "       ['9f60f7f9-b9ad-4324-ba56-1f118be624af'],\n",
              "       ['8a5e53b2-d52d-445f-9174-a75285164a13'],\n",
              "       ['9f2f979c-8524-4a81-9e01-4af7eaf3e9f9'],\n",
              "       ['44dcac94-88fa-4baa-b5b0-df25c3e350ed'],\n",
              "       ['12139b00-66b4-4c20-8115-9ed89eb72805'],\n",
              "       ['a5d67797-fde7-4016-ab84-6b3b0c858731'],\n",
              "       ['60d0cad0-5cd2-497e-9a40-f0e72e2459b4'],\n",
              "       ['26cb56ed-e915-4e6b-a20b-cacdb51f20af'],\n",
              "       ['544ccd35-edf4-4f40-9e3b-7cac3937d020'],\n",
              "       ['cf86738e-1ec3-4e45-b153-5547eaaa9df3'],\n",
              "       ['0817e5b4-380c-4e9c-abac-e9126ef79c60'],\n",
              "       ['22dc0cd7-8038-4ba1-b008-3db23e88274a'],\n",
              "       ['1f92d33c-1b5d-4411-8b3e-d03d704c8a2d'],\n",
              "       ['50f0ddee-ad26-41c3-8804-955ab7a728d5'],\n",
              "       ['3086fff5-2f33-45c2-a5d3-7491fb00ac85'],\n",
              "       ['4a167061-c69f-44f7-acfb-204d1e8b3156'],\n",
              "       ['205fe2ed-d8f3-4ee7-b795-da3fa320e6d2'],\n",
              "       ['96f8d5d9-ef5b-4949-a9c1-60f44fa18830'],\n",
              "       ['ff80af29-b834-4867-9005-0cd8ee1072d1'],\n",
              "       ['48300b98-156d-4371-a3b6-eb6381530e12'],\n",
              "       ['bbb0a607-7146-4339-8ebe-2e727054ee9e'],\n",
              "       ['8f9531fe-e110-4ca4-913d-afece84bf929'],\n",
              "       ['715e8d46-367b-4dc6-8adb-1075a37135c0'],\n",
              "       ['61a3bcc9-fda3-4373-995f-e00fdcd89dd5'],\n",
              "       ['5337c7c0-f2ea-4656-a831-a75117dd926f'],\n",
              "       ['c6186c65-84f4-4031-a036-64417d199159'],\n",
              "       ['db466dfe-e9f3-405a-9aa3-f53936279af1'],\n",
              "       ['ecc5ad10-2e29-4224-8318-81b7ed5767e5'],\n",
              "       ['171b7022-fcfc-460f-93e0-87866e3854e5'],\n",
              "       ['20c93692-1ab4-4aef-a8db-626022104734'],\n",
              "       ['62828ae5-4a97-450c-b3de-8ee1d829b18f'],\n",
              "       ['bb1154db-6263-4d1a-8e9a-c7b8a3811402'],\n",
              "       ['0d734de9-79fc-42e9-a8e7-2893c2ab93ff'],\n",
              "       ['ab118354-0502-4c0d-b442-71e3f68a88d1'],\n",
              "       ['109372ac-e466-4efc-b63b-1e3c4da2b4b5'],\n",
              "       ['5e69fe5d-6abd-4f16-878e-d582512c0c84'],\n",
              "       ['5f9cc3ed-3159-45f8-a9f4-77715121e7ed'],\n",
              "       ['4b9bc532-63ec-4e95-a823-fc39cfce3867'],\n",
              "       ['d0c75770-dfb2-4c03-afbc-1c521d3f63d0'],\n",
              "       ['d40324f8-d5be-4f31-92ca-7385294bab0e'],\n",
              "       ['a4ab86e0-6f93-49b3-a88f-85100445c4aa'],\n",
              "       ['dfb9c9be-ed41-4558-a54c-579b73ac60c1'],\n",
              "       ['773c2705-f83c-4f81-84ad-38a01308f027'],\n",
              "       ['8b7c13ee-8558-4a1c-9873-6d80b8a019fa'],\n",
              "       ['3714fd30-4331-4a44-b4de-14e34e7dc699'],\n",
              "       ['572f0084-5b9b-43b1-9f51-096b9a605428'],\n",
              "       ['c31dd890-09dc-4df8-8e22-739edabc7caa'],\n",
              "       ['6629febc-2202-4149-a615-d6072b10416d'],\n",
              "       ['80e98e72-0de1-44b3-b6e3-59a228224a05'],\n",
              "       ['2362ce06-af15-4798-9fe3-161eaf6d734d'],\n",
              "       ['346f9536-a234-4e91-acaa-c50994df2e80'],\n",
              "       ['d9d9b0f1-c432-4a64-972f-1b5afb5b7df7'],\n",
              "       ['a489acd2-85a9-432a-a3c5-1ea20cb5ff64'],\n",
              "       ['ca7a1c39-43db-4ccc-99e2-26ac0a13e31c'],\n",
              "       ['781c7bc4-60ef-480d-9111-bf8976734de3'],\n",
              "       ['98c822ff-11b0-4cf5-b8c5-db03cfdf713c'],\n",
              "       ['e84612ed-27f4-42cf-8c94-4a61417f20f1'],\n",
              "       ['52fb2cab-a23b-4637-9706-09fda1d5e59d'],\n",
              "       ['4c5c010d-d0c6-45dc-9329-f0990c9143ac'],\n",
              "       ['abc65c5a-54fd-4ec9-8f53-1c4ef830c18d'],\n",
              "       ['81d4aa2a-69e2-4846-b72f-930878cde012'],\n",
              "       ['083d83c4-d109-4e47-8689-f02ba6148265'],\n",
              "       ['7510d901-3c94-4f0a-a8a5-b7a7d25ef229'],\n",
              "       ['92f97768-a48f-4e46-8eea-10d6d85df87d'],\n",
              "       ['9985ac13-5426-48d6-8037-07ab04bc4257'],\n",
              "       ['d3be6aa6-2175-4830-9b54-4a938014922f']], dtype='<U36')"
            ]
          },
          "metadata": {},
          "execution_count": 53
        }
      ]
    },
    {
      "cell_type": "code",
      "source": [
        "# Function to display a selected record\n",
        "def display_record(record_number):\n",
        "    record = df.iloc[record_number]\n",
        "    display_data = {\n",
        "        \"ID\": record.get(\"id\", \"N/A\"),\n",
        "        \"Metadata\": record.get(\"metadata\", \"N/A\"),\n",
        "        \"Text\": record.get(\"text\", \"N/A\"),\n",
        "        \"Embedding\": record.get(\"embedding\", \"N/A\")\n",
        "    }\n",
        "\n",
        "    # Print the ID\n",
        "    print(\"ID:\")\n",
        "    print(display_data[\"ID\"])\n",
        "    print()\n",
        "\n",
        "    # Print the metadata in a structured format\n",
        "    print(\"Metadata:\")\n",
        "    metadata = display_data[\"Metadata\"]\n",
        "    if isinstance(metadata, list):\n",
        "        for item in metadata:\n",
        "            for key, value in item.items():\n",
        "                print(f\"{key}: {value}\")\n",
        "            print()\n",
        "    else:\n",
        "        print(metadata)\n",
        "    print()\n",
        "\n",
        "    # Print the text\n",
        "    print(\"Text:\")\n",
        "    print(display_data[\"Text\"])\n",
        "    print()\n",
        "\n",
        "    # Print the embedding\n",
        "    print(\"Embedding:\")\n",
        "    print(display_data[\"Embedding\"])\n",
        "    print()\n",
        "\n",
        "# Function call to display a record\n",
        "rec = 0  # Replace with the desired record number\n",
        "display_record(rec)"
      ],
      "metadata": {
        "colab": {
          "base_uri": "https://localhost:8080/"
        },
        "id": "irBoyv_tfXjN",
        "outputId": "2ea1ba80-700c-459b-f3bd-491fc295ddd2"
      },
      "execution_count": 17,
      "outputs": [
        {
          "output_type": "stream",
          "name": "stdout",
          "text": [
            "ID:\n",
            "['ca5c45a8-bc56-4012-9721-8e0b344e5a2a']\n",
            "\n",
            "Metadata:\n",
            "file_path: /content/data/1804.06985.txt\n",
            "file_name: 1804.06985.txt\n",
            "file_type: text/plain\n",
            "file_size: 3798\n",
            "creation_date: 2025-03-07\n",
            "last_modified_date: 2025-03-07\n",
            "_node_content: {\"id_\": \"ca5c45a8-bc56-4012-9721-8e0b344e5a2a\", \"embedding\": null, \"metadata\": {\"file_path\": \"/content/data/1804.06985.txt\", \"file_name\": \"1804.06985.txt\", \"file_type\": \"text/plain\", \"file_size\": 3798, \"creation_date\": \"2025-03-07\", \"last_modified_date\": \"2025-03-07\"}, \"excluded_embed_metadata_keys\": [\"file_name\", \"file_type\", \"file_size\", \"creation_date\", \"last_modified_date\", \"last_accessed_date\"], \"excluded_llm_metadata_keys\": [\"file_name\", \"file_type\", \"file_size\", \"creation_date\", \"last_modified_date\", \"last_accessed_date\"], \"relationships\": {\"1\": {\"node_id\": \"86399a0a-4f0f-4091-8db6-f6e1d758fd5e\", \"node_type\": \"4\", \"metadata\": {\"file_path\": \"/content/data/1804.06985.txt\", \"file_name\": \"1804.06985.txt\", \"file_type\": \"text/plain\", \"file_size\": 3798, \"creation_date\": \"2025-03-07\", \"last_modified_date\": \"2025-03-07\"}, \"hash\": \"5a090704e94c2089f2b86ba07ea0e3bea721141cddd805825186422b95481e32\", \"class_name\": \"RelatedNodeInfo\"}}, \"text\": \"High Energy Physics  Theory arXiv1804.06985 hepth Submitted on 19 Apr 2018 Title A Near Horizon Extreme Binary Black Hole Geometry Authors Jacob Ciafre  Maria J. Rodriguez View a PDF of the paper titled A Near Horizon Extreme Binary Black Hole Geometry by Jacob Ciafre and Maria J. Rodriguez View PDF Abstract A new solution of fourdimensional vacuum General Relativity is presented. It describes the near horizon region of the extreme maximally spinning binary black hole system with two identical extreme Kerr black holes held in equilibrium by a massless strut. This is the first example of a nonsupersymmetric asymptotically flat near horizon extreme binary black hole geometry of two uncharged black holes. The black holes are corotating and the solution is uniquely specified by the mass. The binary extreme system has finite entropy. The distance between the black holes is fixed but there is a zerodistance limit where the objects collapse into one. This limiting geometry corresponds to the near horizon extreme Kerr NHEK black hole. Comments 1 figure Subjects High Energy Physics  Theory hepth  High Energy Astrophysical Phenomena astroph.HE General Relativity and Quantum Cosmology grqc Cite as arXiv1804.06985 hepth or arXiv1804.06985v1 hepth for this version httpsdoi.org10.48550arXiv.1804.06985 Focus to learn more arXivissued DOI via DataCite Related DOI  httpsdoi.org10.1140epjcs1005201971883 Focus to learn more DOIs linking to related resources Submission history From Maria J. Rodriguez  view email  v1 Thu 19 Apr 2018 031545 UTC 173 KB Fulltext links Access Paper View a PDF of the paper titled A Near Horizon Extreme Binary Black Hole Geometry by Jacob Ciafre and Maria J. Rodriguez View PDF TeX Source Other Formats view license Current browse context hepth \\u00a0prev  next\\u00a0 new  recent  201804 Change to browse by astroph astroph.HE grqc References  Citations INSPIRE HEP NASA ADS Google Scholar Semantic Scholar a export BibTeX citation Loading... BibTeX formatted citation  loading... Data provided by Bookmark Bibliographic Tools Bibliographic and Citation Tools Bibliographic Explorer Toggle Bibliographic Explorer  What is the Explorer  Connected Papers Toggle Connected Papers  What is Connected Papers  Litmaps Toggle Litmaps  What is Litmaps  scite.ai Toggle scite Smart Citations  What are Smart Citations  Code Data Media Code Data and Media Associated with this Article alphaXiv Toggle alphaXiv  What is alphaXiv  Links to Code Toggle CatalyzeX Code Finder for Papers  What is CatalyzeX  DagsHub Toggle DagsHub  What is DagsHub  GotitPub Toggle Gotit.pub  What is GotitPub  Huggingface Toggle Hugging Face  What is Huggingface  Links to Code Toggle Papers with Code  What is Papers with Code  ScienceCast Toggle ScienceCast  What is ScienceCast  Demos Demos Replicate Toggle Replicate  What is Replicate  Spaces Toggle Hugging Face Spaces  What is Spaces  Spaces Toggle TXYZ.AI  What is TXYZ.AI  Related Papers Recommenders and Search Tools Link to Influence Flower Influence Flower  What are Influence Flowers  Core recommender toggle CORE Recommender  What is CORE  IArxiv recommender toggle IArxiv Recommender  What is IArxiv  Author Venue Institution Topic About arXivLabs arXivLabs experimental projects with community collaborators arXivLabs is a framework that allows collaborators to develop and share new arXiv features directly on our website. Both individuals and organizations that work with arXivLabs have embraced and accepted our values of openness community excellence and user data privacy. arXiv is committed to these values and only works with partners that adhere to them. Have an idea for a project that will add value for arXivs community Learn more about arXivLabs . Which authors of this paper are endorsers  Disable MathJax  What is MathJax\", \"mimetype\": \"text/plain\", \"start_char_idx\": 0, \"end_char_idx\": 3795, \"text_template\": \"{metadata_str}\\n\\n{content}\", \"metadata_template\": \"{key}: {value}\", \"metadata_seperator\": \"\\n\", \"class_name\": \"TextNode\"}\n",
            "_node_type: TextNode\n",
            "document_id: 86399a0a-4f0f-4091-8db6-f6e1d758fd5e\n",
            "doc_id: 86399a0a-4f0f-4091-8db6-f6e1d758fd5e\n",
            "ref_doc_id: 86399a0a-4f0f-4091-8db6-f6e1d758fd5e\n",
            "\n",
            "\n",
            "Text:\n",
            "['High Energy Physics  Theory arXiv1804.06985 hepth Submitted on 19 Apr 2018 Title A Near Horizon Extreme Binary Black Hole Geometry Authors Jacob Ciafre  Maria J. Rodriguez View a PDF of the paper titled A Near Horizon Extreme Binary Black Hole Geometry by Jacob Ciafre and Maria J. Rodriguez View PDF Abstract A new solution of fourdimensional vacuum General Relativity is presented. It describes the near horizon region of the extreme maximally spinning binary black hole system with two identical extreme Kerr black holes held in equilibrium by a massless strut. This is the first example of a nonsupersymmetric asymptotically flat near horizon extreme binary black hole geometry of two uncharged black holes. The black holes are corotating and the solution is uniquely specified by the mass. The binary extreme system has finite entropy. The distance between the black holes is fixed but there is a zerodistance limit where the objects collapse into one. This limiting geometry corresponds to the near horizon extreme Kerr NHEK black hole. Comments 1 figure Subjects High Energy Physics  Theory hepth  High Energy Astrophysical Phenomena astroph.HE General Relativity and Quantum Cosmology grqc Cite as arXiv1804.06985 hepth or arXiv1804.06985v1 hepth for this version httpsdoi.org10.48550arXiv.1804.06985 Focus to learn more arXivissued DOI via DataCite Related DOI  httpsdoi.org10.1140epjcs1005201971883 Focus to learn more DOIs linking to related resources Submission history From Maria J. Rodriguez  view email  v1 Thu 19 Apr 2018 031545 UTC 173 KB Fulltext links Access Paper View a PDF of the paper titled A Near Horizon Extreme Binary Black Hole Geometry by Jacob Ciafre and Maria J. Rodriguez View PDF TeX Source Other Formats view license Current browse context hepth \\xa0prev  next\\xa0 new  recent  201804 Change to browse by astroph astroph.HE grqc References  Citations INSPIRE HEP NASA ADS Google Scholar Semantic Scholar a export BibTeX citation Loading... BibTeX formatted citation  loading... Data provided by Bookmark Bibliographic Tools Bibliographic and Citation Tools Bibliographic Explorer Toggle Bibliographic Explorer  What is the Explorer  Connected Papers Toggle Connected Papers  What is Connected Papers  Litmaps Toggle Litmaps  What is Litmaps  scite.ai Toggle scite Smart Citations  What are Smart Citations  Code Data Media Code Data and Media Associated with this Article alphaXiv Toggle alphaXiv  What is alphaXiv  Links to Code Toggle CatalyzeX Code Finder for Papers  What is CatalyzeX  DagsHub Toggle DagsHub  What is DagsHub  GotitPub Toggle Gotit.pub  What is GotitPub  Huggingface Toggle Hugging Face  What is Huggingface  Links to Code Toggle Papers with Code  What is Papers with Code  ScienceCast Toggle ScienceCast  What is ScienceCast  Demos Demos Replicate Toggle Replicate  What is Replicate  Spaces Toggle Hugging Face Spaces  What is Spaces  Spaces Toggle TXYZ.AI  What is TXYZ.AI  Related Papers Recommenders and Search Tools Link to Influence Flower Influence Flower  What are Influence Flowers  Core recommender toggle CORE Recommender  What is CORE  IArxiv recommender toggle IArxiv Recommender  What is IArxiv  Author Venue Institution Topic About arXivLabs arXivLabs experimental projects with community collaborators arXivLabs is a framework that allows collaborators to develop and share new arXiv features directly on our website. Both individuals and organizations that work with arXivLabs have embraced and accepted our values of openness community excellence and user data privacy. arXiv is committed to these values and only works with partners that adhere to them. Have an idea for a project that will add value for arXivs community Learn more about arXivLabs . Which authors of this paper are endorsers  Disable MathJax  What is MathJax']\n",
            "\n",
            "Embedding:\n",
            "[-0.00044166759471409023, 0.010050706565380096, -0.011638406664133072, -0.001786162261851132, -0.006970994174480438, 0.021618233993649483, -0.014983916655182838, -0.02764298766851425, -0.008051905781030655, -0.03481598570942879, 0.012347200885415077, 0.015154027380049229, -0.01285044476389885, 0.008973338641226292, -0.007357287220656872, 0.015735238790512085, 0.022241972386837006, 0.015876997262239456, 0.02290823869407177, -0.00868273340165615, -0.012595279142260551, 0.013537975959479809, -0.007350199390202761, -0.007704596500843763, -0.008774876594543457, 0.010525599122047424, 0.018414482474327087, -0.005337222944945097, -0.007095033302903175, -0.02069680020213127, 0.010468895547091961, -0.00037765459273941815, -0.021320540457963943, 0.014260945841670036, -0.00963960587978363, 0.030166296288371086, 0.022256148979067802, 0.0040968325920403, 0.029599260538816452, 0.014182978309690952, 0.015480072237551212, 0.020838558673858643, -0.009710485115647316, -0.013091434724628925, 0.012283409014344215, -0.010135761462152004, 0.022100213915109634, -0.019562728703022003, -0.001647061319090426, -0.00026601945864968, 0.026792433112859726, 0.026806609705090523, -0.025970231741666794, 0.004203151445835829, 0.018216019496321678, -0.022397907450795174, 0.0010826836805790663, 0.02089526318013668, -0.003838122356683016, -0.011113897897303104, 0.008966251276433468, -0.02354615367949009, -0.008066081441938877, -0.0016319993883371353, -0.015338313765823841, -0.0064925579354166985, -0.0198178943246603, -0.004174799658358097, -0.011170601472258568, -0.014062483794987202, 0.02384384721517563, 0.01781909540295601, -0.017067773267626762, -0.03240608796477318, 0.024311652407050133, -0.028663650155067444, -0.013566327281296253, -0.0029149174224585295, -0.010780764743685722, -0.0010924296220764518, 0.006800883449614048, 0.0030992040410637856, -0.0018410937627777457, 0.016316449269652367, 0.004972193855792284, -0.005085601005703211, -0.0029149174224585295, 0.02652309089899063, -0.009037130512297153, -0.009015866555273533, 0.02061174437403679, -0.016670847311615944, 0.027231885120272636, 0.003572324523702264, -0.002044872147962451, -0.0014991004718467593, 0.00586173078045249, 0.026395509019494057, -0.016330625861883163, -0.015820294618606567, -0.012637806124985218, 0.002790878526866436, -0.016883485019207, -0.02115042880177498, -0.01650073751807213, 0.006287007592618465, -0.010610654018819332, -0.002884793793782592, 0.00718363281339407, 0.0017852762248367071, 0.00406139250844717, -0.012687422335147858, -0.0016319993883371353, -0.03858677297830582, 0.025913529098033905, 0.017606455832719803, 0.016288097947835922, -0.015267434529960155, -0.010057794861495495, -0.01576359011232853, 0.017634807154536247, 0.024878688156604767, -0.0004948271671310067, -0.0038310345262289047, 0.019265035167336464, 0.03147047758102417, -0.0035422006621956825, -0.022327028214931488, 0.00490485830232501, -0.019761191681027412, 6.916284473845735e-05, 0.015721062198281288, -0.000850110431201756, 0.024056486785411835, -0.007562837563455105, 0.022624721750617027, -0.04655362665653229, -0.028025735169649124, -0.01737964153289795, -0.033993784338235855, 0.009611253626644611, 0.0313287191092968, -0.013410392217338085, 0.007435254752635956, -0.014615342952311039, 0.025998583063483238, -0.002785562537610531, 0.003958617337048054, 0.0012005207827314734, -0.016032932326197624, 0.004447685554623604, 0.0025853279512375593, 0.012304672971367836, 0.019463498145341873, 0.011858132667839527, 0.002580012194812298, -0.016727551817893982, 0.02799738384783268, -0.025218909606337547, -0.04967232048511505, -0.02526143752038479, 0.0030797121580690145, 0.019364267587661743, -0.01399869192391634, 0.03504280000925064, 0.0254457239061594, 0.006237391848117113, 0.0045965323224663734, 0.011120986193418503, -0.02324846014380455, -0.01499809231609106, 0.02382967248558998, -0.031300365924835205, -0.016897661611437798, -0.005943241994827986, 0.018145140260457993, 0.022525491192936897, 0.007073769345879555, -0.03498609736561775, -0.004359086509793997, -0.003393353894352913, -0.004607164300978184, 0.017138652503490448, 0.03107355162501335, -0.0006033613462932408, 0.011957364156842232, 0.037509407848119736, -0.029485853388905525, 0.016032932326197624, -0.020186468958854675, 0.008349599316716194, 0.02416989393532276, -0.03044981323182583, 0.014239681884646416, -0.6287291049957275, -0.014112099073827267, 0.0064110467210412025, -0.0244675874710083, -0.022156916558742523, -0.00683986721560359, 0.005868818610906601, 0.019832070916891098, -0.009526198729872704, 0.01800338178873062, -0.028451012447476387, 0.001315699890255928, 0.0017569244373589754, -0.02158988080918789, -0.020328227430582047, -0.0103980153799057, -0.004135815892368555, -0.0024506570771336555, -0.007378551177680492, -0.0013307617045938969, -0.012581102550029755, 0.002815686399117112, -0.01257401518523693, 0.0071021211333572865, 0.02187339961528778, 0.00912927370518446, 0.03382367640733719, -0.015366665087640285, -0.012021155096590519, 0.0072190724313259125, -0.011985715478658676, -0.0013449375983327627, -0.0016089635901153088, -0.008335423655807972, 0.04717736318707466, -0.05298947915434837, 0.019789543002843857, 0.017167003825306892, 0.012177090160548687, 0.03495774790644646, -0.017294587567448616, -0.005585300736129284, 0.021263835951685905, 0.005298239178955555, -0.0009223188972100616, -0.0031133799348026514, 0.009753013029694557, -0.024736929684877396, -0.008548062294721603, -0.019265035167336464, -0.018045909702777863, 0.012581102550029755, 0.00751322228461504, 0.011567526496946812, 0.007087945472449064, -0.015593479387462139, 0.03546807914972305, -0.015650182962417603, -0.011291096918284893, -0.005085601005703211, -0.01042636763304472, -0.004915490280836821, -0.009802628308534622, -0.019449321553111076, -0.008966251276433468, -0.009157625027000904, -0.015480072237551212, 0.012311761267483234, 0.007973938249051571, 0.01820184290409088, 0.015820294618606567, 0.026494739577174187, -0.02373044192790985, 0.004784363321959972, 0.025715066120028496, 0.025459900498390198, 0.034674227237701416, -0.002558748237788677, -0.006581157445907593, 0.008867019787430763, 0.005670356098562479, 0.012581102550029755, -0.017507225275039673, -0.00915053766220808, 0.021207133308053017, 0.010071970522403717, -0.008420479483902454, 0.011163514107465744, 0.0016231394838541746, -0.0076620690524578094, 0.013693910092115402, 0.009377351962029934, -0.0024382532574236393, -0.030364757403731346, -0.00747778220102191, 0.019888775423169136, 0.007598277181386948, 0.015239082276821136, 0.018145140260457993, -0.011397415772080421, -0.002108663786202669, -0.026608146727085114, 0.004667412023991346, -0.019690312445163727, 0.004284663125872612, 0.00900169089436531, -0.007201352622359991, -0.031215311959385872, 0.034475766122341156, -0.05123166739940643, -0.0081936651840806, -0.00045495748054236174, -0.026111990213394165, 0.02207186259329319, -5.0030925194732845e-05, -0.03246279060840607, 0.006666212808340788, 0.00802355445921421, -0.009951475076377392, -0.013141050934791565, 0.04527779668569565, 0.018853934481739998, 0.006552805658429861, 0.0029857968911528587, 0.011787253431975842, 0.007456518709659576, 0.026026934385299683, -0.024254949763417244, -0.05851807817816734, -0.012517311610281467, 0.009497846476733685, 0.015791941434144974, 0.03512785583734512, -0.010249168612062931, 0.04703560471534729, 0.0013369637308642268, 0.019945478066802025, 0.015990404412150383, 0.0032515949569642544, -0.024340003728866577, -0.018868111073970795, -0.013630119152367115, 0.012439344078302383, -0.0014193610986694694, -0.009653781540691853, -0.021476473659276962, -0.006970994174480438, 0.008186576887965202, 0.017606455832719803, -0.005564037244766951, -0.012035330757498741, 0.01159587875008583, -0.001064963755197823, 0.011645494028925896, -0.003919633571058512, -0.02530396543443203, -0.0058510988019406796, -0.05270596221089363, -0.003155907616019249, -0.002089171903207898, 0.023943079635500908, 0.02163240872323513, -0.02173164114356041, 0.01027752086520195, 0.0064110467210412025, 0.002790878526866436, 0.0010631917975842953, 0.01820184290409088, -0.011333624832332134, -0.02731694094836712, -0.009363175369799137, -0.008540973998606205, -0.028210021555423737, -0.0006467750063166022, -0.02500627189874649, 0.005578212905675173, -0.016883485019207, -0.010043618269264698, -0.007406902965158224, 0.004826890770345926, 0.007917234674096107, 0.0057624997571110725, -0.04332152009010315, -3.754395947908051e-05, 0.01304181944578886, 0.018187668174505234, 0.0056916200555861, -0.002282318426296115, 0.0026562074199318886, 0.00995856337249279, -0.007056049536913633, 0.03158388286828995, -0.013204841874539852, 0.026126166805624962, -0.01849953643977642, -0.01746469736099243, 0.0020608201157301664, 0.0156643595546484, -0.013219018466770649, 0.02829507738351822, 0.02755793184041977, -0.0010206641163676977, 0.019803719595074654, -0.00785344373434782, 0.004809170961380005, -0.014629519544541836, 0.00944823119789362, -0.015139850787818432, 0.0006046903436072171, -0.008540973998606205, 0.00995856337249279, -0.028748705983161926, -0.0039373538456857204, -0.02188757434487343, 0.008838667534291744, 0.01781909540295601, -0.0027501226868480444, 0.03390873223543167, -0.004203151445835829, 0.012524398975074291, -0.0039160898886621, 0.013268633745610714, 0.01414753869175911, 0.01255275122821331, -0.014126274734735489, -0.006900114938616753, 0.02486451156437397, 0.02578594535589218, 0.0137009983882308, -0.02001635730266571, 0.005390382371842861, 0.0003550617548171431, 0.008214928209781647, -0.0031576796900480986, 0.027175182476639748, 0.031300365924835205, 0.005936154164373875, -0.007527397945523262, 0.02726023830473423, 0.0014273349661380053, -0.005893626715987921, 0.0023496539797633886, 0.006630772724747658, -0.003239191137254238, -0.000657849945127964, -0.006683932617306709, 0.01684095896780491, 0.007048961706459522, 0.0010729377390816808, -0.02183087170124054, -0.01614633947610855, 0.02025734819471836, -0.015480072237551212, 0.03268960490822792, 0.04346328228712082, 0.009242680855095387, -0.004642604384571314, 0.010213728994131088, 0.006393326912075281, 0.02158988080918789, 0.009866420179605484, -0.0007451202254742384, -0.005089144688099623, -0.03223597630858421, 0.017691511660814285, -0.02115042880177498, -0.01889646239578724, -0.002638487610965967, -0.010738236829638481, 0.009483670815825462, -0.021320540457963943, -0.015494248829782009, 0.008746524341404438, -0.005237991455942392, 0.015848645940423012, -0.0009249768918380141, -0.007038329727947712, -0.00441579008474946, 0.028224198147654533, 0.01206368301063776, -0.036687206476926804, -0.033284991979599, 0.026438036933541298, 0.023531978949904442, 0.0016373153775930405, -0.010681533254683018, 0.006198408082127571, 0.019406793639063835, 0.007066681515425444, 0.035950057208538055, 0.00829998403787613, -0.014700398780405521, 0.0019350090296939015, -0.011943187564611435, -0.02819584682583809, -0.017507225275039673, 0.02378714457154274, -0.01835777796804905, 0.010497246868908405, -0.006545717362314463, 0.0003205080283805728, -0.0013732893858104944, -0.021079549565911293, 0.003464233363047242, 0.03478763625025749, -0.01815931685268879, 0.0010658497922122478, -0.016670847311615944, -0.012325936928391457, -0.023914728313684464, 0.010582302697002888, -0.012715773656964302, -0.0052025518380105495, -0.0027483508456498384, -0.006095632910728455, -0.02416989393532276, -0.01576359011232853, 0.017648983746767044, 0.019704487174749374, -0.00284581002779305, -0.012127474881708622, -0.004614252597093582, -0.018471185117959976, -0.0062161278910934925, 0.06691020727157593, 0.018187668174505234, -0.021604057401418686, 0.01947767287492752, -0.007860531099140644, -0.009852243587374687, 0.004334278404712677, 0.0015726378187537193, 0.007070225663483143, 0.00109863153193146, 0.026650674641132355, -0.01678425446152687, -0.011248569004237652, 0.012425168417394161, 0.03266125172376633, -0.01189357228577137, 0.010986315086483955, -0.028124967589974403, 0.002884793793782592, 0.022582193836569786, -0.017067773267626762, 0.00699934596195817, 0.0021547353826463223, 0.012304672971367836, 0.014445232227444649, -0.015848645940423012, 0.027572106570005417, 0.005326590966433287, 0.001263426267541945, -0.025814296677708626, 0.010064882226288319, -0.006471293978393078, -0.003742435248568654, -0.006219672039151192, -0.004433509893715382, -0.005145848263055086, 0.030137943103909492, -0.00537266256287694, 0.019009869545698166, -0.021462298929691315, 0.0013316477416083217, 0.0021015757229179144, 0.008725260384380817, 0.0018659016350284219, 0.0025888720992952585, 0.0016036476008594036, -0.001403413130901754, 0.028394309803843498, -0.027728041633963585, 0.008115697652101517, 0.01712447591125965, -0.0002626969653647393, -0.01766316033899784, -0.023900551721453667, -0.014494848437607288, 0.012566926889121532, -0.0025835561100393534, -0.021958455443382263, -0.00555340526625514, -0.018527889624238014, -0.007211984600871801, -0.026310453191399574, 0.016614144667983055, 0.012481871992349625, -0.012106210924685001, -0.026438036933541298, -0.027246061712503433, -0.013374952599406242, -0.01703942008316517, 0.008158224634826183, -0.009667957201600075, -0.025233086198568344, -0.03166893869638443, 0.02221362106502056, 0.009193064644932747, -0.004029497038573027, -0.00456463685259223, -0.00878905225545168, -0.011050106957554817, -0.017535576596856117, -0.027983209118247032, -0.0011748269898816943, 0.012304672971367836, -0.022185269743204117, -0.0004277132102288306, 0.00554277328774333, -0.0024772367905825377, 0.0014831526204943657, -0.004819802939891815, 0.028706178069114685, -0.003070852253586054, 0.0032905787229537964, 0.014480672776699066, -0.0064500304870307446, 0.007903059013187885, -0.0011553351068869233, 0.013296985067427158, -0.001752494485117495, -0.0047134836204349995, -0.009079658426344395, -0.020399106666445732, -0.005617196671664715, 0.0011659669689834118, -0.009653781540691853, 0.010965051129460335, 0.01516820304095745, 0.003572324523702264, 0.02295076660811901, -0.002718226984143257, -0.015281610190868378, -0.002487868769094348, -0.005932610481977463, 0.006652036681771278, 0.0015814978396520019, 0.010695709846913815, 0.009575814008712769, 0.03368191793560982, 0.011886483989655972, -0.02059756964445114, -0.012609454803168774, 0.0031381878070533276, -0.01057521440088749, 0.023376043885946274, 0.006921378429979086, -0.00014308789104688913, 0.02314922958612442, -0.013495448045432568, -0.022539665922522545, -0.035808298736810684, 0.005897170398384333, -0.010809116996824741, -0.006322447210550308, 0.0007553091854788363, -0.021618233993649483, -0.029599260538816452, -0.01614633947610855, -0.004628428258001804, -0.014558639377355576, 0.01604710891842842, -0.016897661611437798, 0.014813805930316448, -0.00993729941546917, -0.005138760432600975, -0.01089417189359665, -0.020668448880314827, -0.031101904809474945, -0.023631209507584572, 0.025856824591755867, -0.00798102654516697, -0.0047099394723773, -0.0014016411732882261, -0.016018755733966827, 0.0058050272054970264, -0.025516603142023087, -0.020767679437994957, -0.0322926789522171, 0.004029497038573027, 0.0035492887254804373, 0.03263289853930473, 0.017493048682808876, 0.03416389599442482, -0.004341366700828075, 0.011021754704415798, 0.043633390218019485, 0.011418679729104042, 0.005358486901968718, 0.0076478929258883, 0.007867619395256042, -0.014324737712740898, 0.012921323999762535, 0.02051251381635666, -0.007084401324391365, -0.008073169738054276, -0.03317158296704292, 0.014884685166180134, 0.023943079635500908, 0.0152957858517766, 0.001561119919642806, -0.004259855020791292, -0.05568289756774902, -0.009568726643919945, -0.013615942560136318, 0.004500845447182655, -0.004887138493359089, -0.043831855058670044, -0.024340003728866577, 0.012177090160548687, 0.006730004213750362, 0.011858132667839527, -0.004203151445835829, 0.01995965465903282, -0.010093234479427338, 0.021802520379424095, 0.003784962696954608, 0.03509950637817383, -0.031045200303196907, -0.006662668660283089, -0.0006627229158766568, 0.014799630269408226, 0.02270977757871151, 0.0018499537836760283, 0.02398560754954815, 0.012014067731797695, -0.023078350350260735, 0.01669919863343239, -0.001806540065445006, 0.010100321844220161, 0.0045929886400699615, -0.014027044177055359, -0.01712447591125965, -0.0005271659465506673, -0.03382367640733719, -0.0019757647532969713, -0.013927812688052654, -0.01899569295346737, 0.01465787086635828, -0.0010472439462319016, 0.031300365924835205, -0.022397907450795174, -0.008399215526878834, 0.0006166512612253428, 0.011340712197124958, 0.037707868963479996, 0.01648656092584133, 0.02769969031214714, 0.04510768502950668, 0.011135161854326725, -0.01446649618446827, 0.011865220963954926, -0.011524999514222145, 0.015253257937729359, 0.026352981105446815, 0.01268033403903246, -0.0352412648499012, -0.028167495504021645, 0.02931574173271656, 0.004330734722316265, -0.027189359068870544, -0.03855842351913452, 0.02069680020213127, -0.02496374398469925, 0.01927921175956726, -0.00014419539365917444, 0.0015628919936716557, -0.018230196088552475, -0.009398615919053555, -0.007959762588143349, 0.01240390446037054, -0.02027152292430401, -0.0037530669942498207, -0.002420533448457718, 0.01909492537379265, -0.0020271523389965296, 0.03994765877723694, 0.01465787086635828, -0.02035657875239849, 0.009391527622938156, -0.013304073363542557, -0.0054789818823337555, 0.009582902304828167, -0.021178780123591423, 0.03909710794687271, -0.021065372973680496, -0.0004128728178329766, 0.017847446724772453, -0.0032250152435153723, -0.00456463685259223, -0.02999618463218212, -0.0027235429733991623, 0.02794068120419979, -0.00017343315994367003, -0.008540973998606205, -0.010433455929160118, -0.025615833699703217, 0.0046319724060595036, 0.0033685460221022367, 0.0007172114565037191, 0.00034132887958548963, 0.012588190846145153, 0.009923123754560947, 0.011128074489533901, 0.02255384251475334, 0.004543372895568609, -0.014799630269408226, 0.003919633571058512, -0.0049970014952123165, -0.027246061712503433, 0.004422877915203571, -0.015621831640601158, -0.03887029364705086, -0.03495774790644646, -0.009405703283846378, 0.0013927812688052654, 0.012496047653257847, 0.002076768083497882, -0.007782564032822847, -0.010752413421869278, 0.02692001685500145, -0.023177580907940865, 0.008817403577268124, 0.02614034153521061, 0.019747015088796616, -0.02945750020444393, -0.004628428258001804, -0.00037898359005339444, 0.026834961026906967, 0.01658579148352146, -0.006946186535060406, -0.0034305655863136053, -0.02965596318244934, -0.003749523079022765, 0.02115042880177498, 0.012956764549016953, 0.006162968464195728, -0.006375606637448072, 0.006581157445907593, 0.008696909062564373, -0.017252059653401375, 6.196415051817894e-05, 0.03631863370537758, -0.008285808376967907, -0.005237991455942392, -0.009731749072670937, -0.017237883061170578, 0.005652636289596558, -0.007087945472449064, -0.008214928209781647, -0.006641404703259468, -0.02105119824409485, 0.006503189913928509, -0.00212815566919744, 0.003069080412387848, -0.021745815873146057, -0.022100213915109634, -0.020384930074214935, -0.021363066509366035, -0.029145631939172745, -0.00037610408617183566, 0.015224906615912914, 0.01219126582145691, 0.00973883643746376, 0.026409683749079704, -0.007818004116415977, -0.003439425490796566, -0.005418734159320593, -0.006357886828482151, 0.01610381156206131, 0.017252059653401375, -0.055030807852745056, -0.001395439263433218, 0.006354343146085739, 0.031186958774924278, 0.008994602598249912, -0.0305915717035532, 0.00802355445921421, -0.031158607453107834, -0.01106428261846304, 0.02207186259329319, -0.016217218711972237, 0.019350090995430946, 0.01771986298263073, -0.00042992818634957075, 0.026352981105446815, 0.037566110491752625, 0.021164605394005775, 0.031442124396562576, 0.010872907936573029, 0.006457118317484856, -0.0033242462668567896, 0.010610654018819332, 0.01512567512691021, -0.019902950152754784, -0.046667031943798065, -0.003969249315559864, 0.03665885329246521, 0.010185377672314644, 0.01757810451090336, 0.04286789521574974, 0.00883158016949892, 0.004263399168848991, 0.03297312185168266, -0.010837468318641186, -0.005539229139685631, 0.01698271743953228, 0.006212584208697081, -0.06520909816026688, -0.024495938792824745, 0.005209639668464661, -0.004359086509793997, -0.02398560754954815, 0.0008992830407805741, 0.011319449171423912, 0.0038912820164114237, 0.012921323999762535, -0.008370863273739815, -0.01991712674498558, 0.017436346039175987, -0.0401461236178875, 0.03005288913846016, 0.017110299319028854, 0.007867619395256042, 0.026905840262770653, 0.03161223605275154, -0.00973883643746376, 0.000985224382020533, 0.006524453870952129, -0.01654326356947422, 0.002323074033483863, 0.0073856390081346035, -0.016557440161705017, 0.020044708624482155, -0.017975028604269028, 0.00878905225545168, -0.010646093636751175, 0.013743526302278042, -0.031895752996206284, -0.024042310193181038, -0.019988005980849266, 0.022284500300884247, 0.0156643595546484, -0.028153318911790848, -0.02123548462986946, 0.00893081072717905, -0.009292296133935452, 0.014388528652489185, 0.007654980756342411, -0.013219018466770649, -0.007144649047404528, 0.012106210924685001, -0.0007070225547067821, -0.017875798046588898, -0.012524398975074291, 0.02099449373781681, 0.007378551177680492, 0.0021068917121738195, 0.014884685166180134, 0.18904967606067657, -0.02428330108523369, 0.018570417538285255, 0.015678534284234047, -0.030619923025369644, -0.007364375051110983, 0.011000490747392178, 0.0063649751245975494, -0.00407556863501668, 0.021845048293471336, 0.004922578111290932, 0.010709885507822037, -0.009972739033401012, -0.001844637794420123, 0.024992095306515694, -0.02687748894095421, -0.03220762312412262, -0.023560330271720886, -0.00106407783459872, -0.004968649707734585, -0.006868219003081322, 0.019250860437750816, -0.007052505388855934, -0.009108009748160839, 0.026537267491221428, -0.023432746529579163, -0.013722262345254421, -0.02187339961528778, -0.001998800551518798, -0.006857587024569511, -0.015636008232831955, -0.024552643299102783, 0.026055287569761276, -0.00636143097653985, -0.005932610481977463, 0.014105010777711868, 0.02466605044901371, 0.015508424490690231, 0.01089417189359665, 0.02354615367949009, -0.009051306173205376, 0.0006764557911083102, 0.0074636065401136875, -0.013899460434913635, 0.015380841679871082, 0.010057794861495495, -0.005719971843063831, 0.008214928209781647, -0.006893026642501354, 0.0032267870847135782, -0.022426258772611618, -0.0027642985805869102, 0.037084128707647324, 0.03195245936512947, -0.011142250150442123, -0.012985115870833397, -0.0023106702137738466, 0.008845755830407143, 0.0017223707400262356, 0.021519001573324203, -0.02212856523692608, 0.013941988348960876, -0.007584101520478725, 0.042754486203193665, -0.008767788298428059, 0.01634480245411396, -0.010383839718997478, -0.015820294618606567, 0.01042636763304472, -0.02119295671582222, 0.014558639377355576, -0.01419006660580635, -0.013183577917516232, -0.018768878653645515, -0.013219018466770649, -0.021646585315465927, 0.009263944812119007, -0.007155281025916338, 0.018768878653645515, 0.025289788842201233, 0.01350962370634079, -0.01204241905361414, 0.020625920966267586, -0.01929338648915291, -0.02005888521671295, -0.042556025087833405, 0.004805626813322306, 0.006772531662136316, -0.01830107532441616, -0.010965051129460335, 0.0005448858137242496, 0.019732840359210968, -0.009823892265558243, -0.013941988348960876, 0.005571125075221062, -0.0056880759075284, -0.021419771015644073, -0.006939098704606295, -0.04369009658694267, 0.011248569004237652, -0.013608855195343494, 0.04689384624361992, -0.00211752369068563, -0.011411592364311218, 0.0036821875255554914, -0.013105611316859722, 0.003061992349103093, 0.009582902304828167, 0.02764298766851425, -0.011822693049907684, 0.020838558673858643, -0.021419771015644073, -0.007676244713366032, -0.005659724585711956, 0.004291750956326723, 0.02295076660811901, 0.016798431053757668, -0.015621831640601158, -0.012737037613987923, -0.023900551721453667, -0.010348400101065636, -0.024340003728866577, 0.002328390022739768, 0.0017914781346917152, -0.010305872187018394, -0.031498830765485764, -0.012262145057320595, -0.011517911218106747, -0.017237883061170578, -0.013141050934791565, 0.01125565730035305, -0.01668502390384674, 0.04017447307705879, -0.004798538982868195, 0.007470694370567799, 0.0017179407877847552, 0.013417480513453484, -0.02891881763935089, -0.021221308037638664, 0.011000490747392178, -0.012616543099284172, -0.0034571452997624874, 0.0052734315395355225, 0.004047216847538948, 0.02344692312180996, -0.03748105466365814, 0.0227523036301136, -0.018783055245876312, -0.006403958424925804, -0.020625920966267586, -0.014544463716447353, -0.006173600442707539, -0.005106864497065544, 0.002659751567989588, 0.011836868710815907, -0.015820294618606567, -0.026225397363305092, -0.05230903625488281, -0.0009285208652727306, 0.0029220054857432842, -0.028847938403487206, 0.009504934772849083, 0.009986914694309235, -0.02270977757871151, -0.006822147406637669, -0.0027642985805869102, -0.18326590955257416, 0.004359086509793997, 0.01776239089667797, -0.00751322228461504, 0.01600458100438118, 0.022794831544160843, 0.009568726643919945, 0.007119840942323208, -0.008916635066270828, -0.0021511914674192667, 0.012425168417394161, -0.0006609509000554681, -0.01546589657664299, -0.022185269743204117, 0.022794831544160843, -0.0031771715730428696, -0.0017205987824127078, 0.001892481348477304, 0.01604710891842842, 0.004837522748857737, 0.01450902409851551, -0.03192410618066788, 0.04638351500034332, 0.0036963634192943573, 0.007959762588143349, 0.0077967396937310696, -0.008314159698784351, 0.03566654026508331, 0.0021051198709756136, 0.0026756993029266596, 0.011999891139566898, -0.006871763151139021, 0.03657379746437073, 0.002473692875355482, 0.012581102550029755, 0.007293495815247297, -0.014757102355360985, 0.02157570607960224, -0.018853934481739998, 0.008243280462920666, 0.043633390218019485, -0.013077259063720703, -0.007442342583090067, -0.008746524341404438, -0.021745815873146057, 0.016231395304203033, 0.0010596478823572397, 0.0028192303143441677, 0.006549261510372162, -0.03436236083507538, 0.003115152008831501, -0.03490104153752327, 0.020030533894896507, 0.00949075911194086, 0.019449321553111076, -0.003784962696954608, -0.02286571078002453, 0.025119679048657417, 0.005454173777252436, -0.007839267142117023, -0.02857859618961811, -0.011794340796768665, -0.002957445103675127, -0.012170001864433289, 0.013552151620388031, -0.027543755248188972, 0.018244370818138123, -0.007279319688677788, -0.02402813546359539, -0.010603566654026508, -0.01630227454006672, -0.012148737907409668, -0.00024342662072740495, -0.00013921168283559382, 0.013219018466770649, 0.01953437738120556, -0.027728041633963585, 0.006939098704606295, 0.009830980561673641, -0.004986369516700506, -0.004812715109437704, 0.012630718760192394, -0.011135161854326725, -0.008987514302134514, 0.006605965085327625, -0.008519710041582584, -0.026211222633719444, -0.010688621550798416, -0.003777874866500497, -0.006666212808340788, 0.011773076839745045, -0.02853606827557087, 0.016316449269652367, -0.021122077479958534, 0.007640805095434189, -0.0029078295920044184, -0.006751268170773983, -0.008498446084558964, 0.01776239089667797, -0.006790251471102238, 0.03969249501824379, 0.014615342952311039, -0.006524453870952129, -0.010171202011406422, 0.028606947511434555, 0.009887684136629105, -0.02785562537610531, 0.019222507253289223, 0.04394526034593582, -0.010872907936573029, -0.011765989474952221, -0.0039444416761398315, 0.02168911322951317, 0.010660270228981972, 0.004029497038573027, 0.023234285414218903, 0.00749904615804553, -0.024410882964730263, 0.011957364156842232, -0.011688021942973137, 0.04320811480283737, -0.001528338179923594, -0.04607164487242699, 0.010922524146735668, -0.013183577917516232, -0.02089526318013668, -0.10115915536880493, -0.0156643595546484, -0.0006033613462932408, 0.013148138299584389, 0.00039758943603374064, 0.0072190724313259125, -0.0094198789447546, -0.008307072333991528, -0.010412191972136497, 0.0318106971681118, -0.027331117540597916, -0.019123276695609093, -0.0043094707652926445, 0.010483071208000183, -0.0028280902188271284, -0.011737637221813202, 0.007605365477502346, -0.023092525079846382, -0.003802682738751173, 0.015196554362773895, 0.0024187613744288683, -0.0038983698468655348, -0.01482798159122467, 0.007867619395256042, 0.013892373070120811, 0.0011260972823947668, -0.02412736602127552, 0.028791233897209167, 0.01387819740921259, -0.005865274928510189, -0.014416880905628204, 0.0004062278603669256, -0.01353088766336441, -0.02428330108523369, -0.018570417538285255, -0.017053596675395966, 0.0016842730110511184, -0.0013741754228249192, 0.012247969396412373, -0.03895534574985504, 0.002168911276385188, 0.024552643299102783, 0.02382967248558998, 0.006276375614106655, -0.010001091286540031, -0.015976229682564735, -0.021079549565911293, 0.02212856523692608, -0.004203151445835829, -0.00798102654516697, -0.023319339379668236, -0.012786653824150562, -0.028748705983161926, 0.0036999075673520565, 0.03166893869638443, -0.019449321553111076, 0.011936100199818611, 0.020640097558498383, -0.011652582325041294, -0.003480181097984314, -0.014672046527266502, 0.021759992465376854, -0.0022521945647895336, 0.02588517591357231, 0.018244370818138123, 0.013545063324272633, -0.02320593222975731, -0.027203533798456192, -0.0039160898886621, -0.0198178943246603, -0.015012267976999283, 0.031300365924835205, 0.002124611521139741, 0.0013653155183419585, -0.01869799941778183, -0.012779565528035164, -0.024921216070652008, -0.022199444472789764, 0.006074368953704834, -0.019591080024838448, -0.020427457988262177, -0.024354180321097374, -0.0008700452744960785, -0.010858732275664806, 0.000925862870644778, 0.012134562246501446, 0.0036024481523782015, -0.002402813406661153, 0.035212911665439606, -0.03039310872554779, 0.013431656174361706, 0.0386718288064003, 0.020399106666445732, -0.03838831186294556, 0.007988114841282368, 0.004167711827903986, 0.015451720915734768, -0.00900169089436531, 0.01401995588093996, -0.007839267142117023, -0.04811297357082367, 0.015182378701865673, -0.06339458376169205, 0.046525273472070694, 0.02173164114356041, -0.019846247509121895, -0.027969032526016235, -0.03870018199086189, 0.016755903139710426, 0.004773731343448162, -0.015068971551954746, 0.018329426646232605, -0.010412191972136497, 0.005716427695006132, -0.00997982732951641, -0.031215311959385872, -0.02005888521671295, -0.033937081694602966, -0.002255738712847233, 0.0017347746761515737, 0.0073076714761555195, 0.005351398605853319, 0.005096232518553734, 0.01947767287492752, 0.02187339961528778, 0.025672538205981255, -0.014282209798693657, 0.01987459883093834, -0.03362521156668663, 0.0247227530926466, -0.0018464097520336509, -0.016132162883877754, 0.025530779734253883, -0.0274019967764616, 0.010830380022525787, 0.04978572949767113, 0.0015026443870738149, -0.006740636192262173, 0.0024152174592018127, 0.007226160261780024, 0.022454610094428062, 0.04635516181588173, -0.03079003468155861, -0.035950057208538055, -0.010036530904471874, 0.0070985774509608746, 0.02416989393532276, 0.03549642860889435, 0.009533286094665527, 0.013715174049139023, 0.018230196088552475, -0.0008199866861104965, 0.027515403926372528, 0.021958455443382263, -0.004422877915203571, -0.0401461236178875, 0.0002573810052126646, 0.0033118424471467733, -0.03422059863805771, 0.000353954266756773, 0.007740036118775606, -0.005610108841210604, 0.04459735378623009, 0.0117447255179286, 0.017351290211081505, -0.013311161659657955, 0.03079003468155861, 1.9464161596260965e-05, -0.014423969201743603, -0.015154027380049229, 0.0048304349184036255, -0.03589335456490517, -0.014941388741135597, 0.006545717362314463, 0.005950330290943384, 0.03705577924847603, -0.005181287880986929, -0.025871001183986664, -0.01820184290409088, 0.01668502390384674, -0.005028897430747747, -0.002627855632454157, 0.008165312930941582, -0.009838067926466465, -0.01899569295346737, -0.012914236634969711, 0.026749905198812485, 0.006524453870952129, -0.007265144027769566, 0.012056594714522362, -0.0003891724918503314, 0.019350090995430946, 0.005737691652029753, 0.021533178165555, 0.009256856516003609, 0.013559238985180855, 0.005564037244766951, 0.006978082004934549, -0.004624884109944105, -0.025431547313928604, 0.03053486905992031, 0.014034131541848183, 0.018130963668227196, 0.007321847602725029, 0.0008164427126757801, -0.027416173368692398, -0.010327136144042015, 0.021079549565911293, -0.026891665533185005, -0.031101904809474945, 0.006524453870952129, 0.010738236829638481, 0.011305272579193115, -0.0023407938424497843, 0.0113761518150568, 0.019988005980849266, -0.030960144475102425, 0.024510115385055542, -0.01219126582145691, -0.025573307648301125, 0.0020608201157301664, 0.031980808824300766, 0.004320102743804455, 0.0043094707652926445, 0.01874052733182907, 0.005007633473724127, 0.019364267587661743, 0.02344692312180996, 0.042074043303728104, -0.012481871992349625, 0.016288097947835922, -0.03558148443698883, 0.017989205196499825, -0.004259855020791292, -0.005776675418019295, 0.0016178234945982695, -0.03960743919014931, -0.005060792900621891, 0.008711084723472595, -0.008519710041582584, 0.027586283162236214, 0.09616924077272415, 0.019491849467158318, -0.0030531324446201324, 0.02931574173271656, -0.024595171213150024, 0.022086037322878838, 0.018414482474327087, -0.003090344136580825, -0.006403958424925804, -0.06974538415670395, -0.01478545367717743, -0.012070771306753159, 0.014005780220031738, -0.04340657591819763, 0.00021241686772555113, 0.014275121502578259, -0.01499809231609106, 0.013126874342560768, -0.029202334582805634, -0.019761191681027412, 0.006630772724747658, -0.012744125910103321, 0.03441906347870827, 0.009894771501421928, -0.026990896090865135, 0.01937844231724739, 0.010589390061795712, 0.02001635730266571, 0.01042636763304472, -0.002353197894990444, -0.004727659747004509, 0.006556349340826273, -0.031782347708940506, -0.03192410618066788, -0.000431700173066929, -0.015919525176286697, -0.018216019496321678, -0.0017781882779672742, 0.042215801775455475, 0.009540374390780926, 0.007279319688677788, 0.028323428705334663, -0.010490159504115582, -0.015111499466001987, -0.00878905225545168, -0.007222616113722324, -0.006513821892440319, 0.008824491873383522, -0.03960743919014931]\n",
            "\n"
          ]
        }
      ]
    },
    {
      "cell_type": "markdown",
      "source": [
        "# Original documents"
      ],
      "metadata": {
        "id": "MAdhB_6Ap-6C"
      }
    },
    {
      "cell_type": "code",
      "source": [
        "# Ensure 'text' column is of type string\n",
        "df['text'] = df['text'].astype(str)\n",
        "# Create documents with IDs\n",
        "documents = [Document(text=row['text'], doc_id=str(row['id'])) for _, row in df.iterrows()]"
      ],
      "metadata": {
        "id": "7T5fIdlDp-6C"
      },
      "execution_count": 18,
      "outputs": []
    },
    {
      "cell_type": "code",
      "source": [
        "documents[0]"
      ],
      "metadata": {
        "id": "m2fGtNUx_NTe",
        "outputId": "b103162f-2fa9-4341-d84b-b14e7313e520",
        "colab": {
          "base_uri": "https://localhost:8080/"
        }
      },
      "execution_count": 55,
      "outputs": [
        {
          "output_type": "execute_result",
          "data": {
            "text/plain": [
              "Document(id_=\"['ca5c45a8-bc56-4012-9721-8e0b344e5a2a']\", embedding=None, metadata={}, excluded_embed_metadata_keys=[], excluded_llm_metadata_keys=[], relationships={}, text=\"['High Energy Physics  Theory arXiv1804.06985 hepth Submitted on 19 Apr 2018 Title A Near Horizon Extreme Binary Black Hole Geometry Authors Jacob Ciafre  Maria J. Rodriguez View a PDF of the paper titled A Near Horizon Extreme Binary Black Hole Geometry by Jacob Ciafre and Maria J. Rodriguez View PDF Abstract A new solution of fourdimensional vacuum General Relativity is presented. It describes the near horizon region of the extreme maximally spinning binary black hole system with two identical extreme Kerr black holes held in equilibrium by a massless strut. This is the first example of a nonsupersymmetric asymptotically flat near horizon extreme binary black hole geometry of two uncharged black holes. The black holes are corotating and the solution is uniquely specified by the mass. The binary extreme system has finite entropy. The distance between the black holes is fixed but there is a zerodistance limit where the objects collapse into one. This limiting geometry corresponds to the near horizon extreme Kerr NHEK black hole. Comments 1 figure Subjects High Energy Physics  Theory hepth  High Energy Astrophysical Phenomena astroph.HE General Relativity and Quantum Cosmology grqc Cite as arXiv1804.06985 hepth or arXiv1804.06985v1 hepth for this version httpsdoi.org10.48550arXiv.1804.06985 Focus to learn more arXivissued DOI via DataCite Related DOI  httpsdoi.org10.1140epjcs1005201971883 Focus to learn more DOIs linking to related resources Submission history From Maria J. Rodriguez  view email  v1 Thu 19 Apr 2018 031545 UTC 173 KB Fulltext links Access Paper View a PDF of the paper titled A Near Horizon Extreme Binary Black Hole Geometry by Jacob Ciafre and Maria J. Rodriguez View PDF TeX Source Other Formats view license Current browse context hepth \\\\xa0prev  next\\\\xa0 new  recent  201804 Change to browse by astroph astroph.HE grqc References  Citations INSPIRE HEP NASA ADS Google Scholar Semantic Scholar a export BibTeX citation Loading... BibTeX formatted citation  loading... Data provided by Bookmark Bibliographic Tools Bibliographic and Citation Tools Bibliographic Explorer Toggle Bibliographic Explorer  What is the Explorer  Connected Papers Toggle Connected Papers  What is Connected Papers  Litmaps Toggle Litmaps  What is Litmaps  scite.ai Toggle scite Smart Citations  What are Smart Citations  Code Data Media Code Data and Media Associated with this Article alphaXiv Toggle alphaXiv  What is alphaXiv  Links to Code Toggle CatalyzeX Code Finder for Papers  What is CatalyzeX  DagsHub Toggle DagsHub  What is DagsHub  GotitPub Toggle Gotit.pub  What is GotitPub  Huggingface Toggle Hugging Face  What is Huggingface  Links to Code Toggle Papers with Code  What is Papers with Code  ScienceCast Toggle ScienceCast  What is ScienceCast  Demos Demos Replicate Toggle Replicate  What is Replicate  Spaces Toggle Hugging Face Spaces  What is Spaces  Spaces Toggle TXYZ.AI  What is TXYZ.AI  Related Papers Recommenders and Search Tools Link to Influence Flower Influence Flower  What are Influence Flowers  Core recommender toggle CORE Recommender  What is CORE  IArxiv recommender toggle IArxiv Recommender  What is IArxiv  Author Venue Institution Topic About arXivLabs arXivLabs experimental projects with community collaborators arXivLabs is a framework that allows collaborators to develop and share new arXiv features directly on our website. Both individuals and organizations that work with arXivLabs have embraced and accepted our values of openness community excellence and user data privacy. arXiv is committed to these values and only works with partners that adhere to them. Have an idea for a project that will add value for arXivs community Learn more about arXivLabs . Which authors of this paper are endorsers  Disable MathJax  What is MathJax']\", mimetype='text/plain', start_char_idx=None, end_char_idx=None, text_template='{metadata_str}\\n\\n{content}', metadata_template='{key}: {value}', metadata_seperator='\\n')"
            ]
          },
          "metadata": {},
          "execution_count": 55
        }
      ]
    },
    {
      "cell_type": "markdown",
      "source": [
        "# Pipeline 3:Index-based RAG"
      ],
      "metadata": {
        "id": "LUkP-cuv9blu"
      }
    },
    {
      "cell_type": "markdown",
      "source": [
        "## User input and RAG parameters"
      ],
      "metadata": {
        "id": "KXtVtTxPZCkC"
      }
    },
    {
      "cell_type": "code",
      "source": [
        "user_input=\"How do drones identify vehicles?\"\n",
        "\n",
        "#similarity_top_k\n",
        "k=3\n",
        "#temperature\n",
        "temp=0.1\n",
        "#num_output\n",
        "mt=1024"
      ],
      "metadata": {
        "id": "qwOHg08CZENh"
      },
      "execution_count": 19,
      "outputs": []
    },
    {
      "cell_type": "markdown",
      "source": [
        "## Cosine similarity metric"
      ],
      "metadata": {
        "id": "IieaLOBFSkgy"
      }
    },
    {
      "cell_type": "code",
      "source": [
        "from sklearn.feature_extraction.text import TfidfVectorizer\n",
        "from sklearn.metrics.pairwise import cosine_similarity"
      ],
      "metadata": {
        "id": "Zbn2Ci2PazeO"
      },
      "execution_count": 20,
      "outputs": []
    },
    {
      "cell_type": "code",
      "source": [
        "import sklearn\n",
        "print(sklearn.__version__)"
      ],
      "metadata": {
        "id": "-4HiQ0pxCoNG",
        "outputId": "4fa13fcb-3e8e-4104-8aa2-f94f6dfc51f1",
        "colab": {
          "base_uri": "https://localhost:8080/"
        }
      },
      "execution_count": 57,
      "outputs": [
        {
          "output_type": "stream",
          "name": "stdout",
          "text": [
            "1.6.1\n"
          ]
        }
      ]
    },
    {
      "cell_type": "code",
      "execution_count": 21,
      "metadata": {
        "colab": {
          "base_uri": "https://localhost:8080/",
          "height": 525,
          "referenced_widgets": [
            "adf32f7f94e34535a53aa5ac586e1de0",
            "88eb5b7b509644e58d67f3e01525bd2a",
            "50744db246d64d1caf45ab2bbf7b584d",
            "21c964f3bf9945b491dd3cce5cbfa6b4",
            "6a724ba78c254cab83785c73317cea50",
            "3a508fd5132d4a5c87875c969668869a",
            "de4c474e9d5f4ce8982345701dbc9386",
            "302019b75bd444539bb08f5561cda17d",
            "24af5055d2eb43d0a7443426734f646d",
            "3204f6cec28c4576882fd0a23e9dad71",
            "316abcf7d02c407e894fee1fe8ea724f",
            "41b58113f8b0419790d5e1be34ff0921",
            "8c123b5c39d64720b96317e1e9ab41a0",
            "9b3efb8432a744dd93429156954c91ca",
            "7b652f6367c84fc9a4c1027f93301737",
            "8907adcfaed1480a9a346aae1e9d52ca",
            "e4ec23c126574e218ca4b4262a99d12f",
            "fc739456afab4e39ac8d28560b41ff50",
            "487a512bbac8422287e0e33b24478b18",
            "a98cf6ba8fd84200a94964cd2533de90",
            "8e0b108f62464b1baadffe50a1d6139d",
            "a544a2e76c1b42a7aaa44eaa626c2c93",
            "a049afb9f8fd49fe82968a78a81dcada",
            "718005f47087422699ddb80b175f5038",
            "bdf9740f53f647569b0c344cc30613b1",
            "6e64488dedfa4c809f729e10010eb4ea",
            "bc471af321524f38a52fce691a6a4d50",
            "acb2c3b058cc4bed87b6ebee6526daa1",
            "45e106646c0146f89f5ae7541c57d50b",
            "f7a3996e04764795ae187004db4337a9",
            "f006284551c6468a9aa9fb78c538405b",
            "7f4e4bb3f52448efb8154408b945b44c",
            "4545d5c51d3146fe816c762f5261088f",
            "59ed1c3a50ca4a19b8496065bcd503db",
            "7a4f26f5dc8a4c8a86397a5c7141d54e",
            "a35a22b0e5b84becaf5b99de8b4b1144",
            "ea4d4561ee5a44f49df6c279a5a728e5",
            "c0a36f3e0ab44ad5a05c5ae955588a38",
            "97d78eb39cba4fbb8bd59322a3a7e357",
            "0902fafd751d40a98647cca9c178b2d5",
            "227cd470a04741a4a4bdce347a03599f",
            "79f1747d77d446f3b3e494bda3dec7f2",
            "b4ff589b52d345c7b0ce82b93f35e12b",
            "6086a44978ba4abcb13f7a3941a35709",
            "1fda4f86b6274347a436547c3e5c924c",
            "056341f9ec1348ea9aef6f4b78f4e710",
            "272131a15ef44213865411cce3313893",
            "234f3bfbc930413a9d5a26da60cfc83e",
            "8d9c1531b83d4e0fb746c96a983dfa5d",
            "88badb89ee044c3f853f7ca7c2ca53a1",
            "15614acb3da84445bae45944ed8657d8",
            "eb37d369ec98420dac323b6fef408dbd",
            "b3bdfecbd82a41b49f288f61190cbc67",
            "18a34478616c47deaa96a6afc1ef9d29",
            "3d06bee2f17042948eb5a8852503f658",
            "e37b07ff8d0a49dabcbce17a72851cef",
            "801b044e82da4acb8ed608abc188d20a",
            "16147d27bca3403cbcd57d4854c6c8aa",
            "902c42362537486abc053db6c0f174b6",
            "8ea2763770b848e595692dfca222fc54",
            "aead091add0442f0b8474973beaa00bf",
            "3da6a82002cd4b11913d6fced8a27ed1",
            "1f982f79a97c458aa6114fb72ca5e139",
            "6b523724d1e94d67b9caa74af42a6a46",
            "ba896d6f315040a4bbe22b15a96e6a65",
            "d7fee404887f4b9b980d31026629952b",
            "03ed2251d37a4089a18282e8196afa56",
            "02398dc2f633419b8b4d9c572475a9a3",
            "4a00ac7fdcc34b7b974de79b523c7535",
            "d46bb3ca615f4c75a13a081d2a83c90f",
            "5471d89f96ab41439807dbd87953d7b4",
            "1af1d522e81143a19591334d5c96c24a",
            "2d375f4864ab4c4e9b4246bc7849c8f1",
            "d3ecbe9c262c40e88ccf9ede60d0aa0e",
            "6bb197157d3349d3b88232aef3c6bcf2",
            "85ca2ecf8bce424ba0bcdf1b127bccf2",
            "4647ce66dd734d39bde7cc476c838c92",
            "69021253539e41b6bcd42dfe50e06b3c",
            "519a87445f00435d9c7c26712b92a5fb",
            "6452ad7c90064bf683f135377c76978d",
            "d4005b9ac978416fa2c73d806822ecb0",
            "2fc15b63e4aa4561842ba39edcfca2a7",
            "bf9d1385a6b84d1bb5731395ee1525a9",
            "9b4cda851c704f4fbb88905902ae8cc2",
            "0fecc59f16554594847700d9249ab25c",
            "0171ab32b0f94898a308801b32ebd181",
            "4328647aed704e1c8bd373c8d237a5f1",
            "1d80b82e05e9432ab6d56d0229419e48",
            "67d1af3cbcd8418b974afab1b644f254",
            "79113b2b014d448cab37b4db01f02dc5",
            "bf92f22c86634f40ac1c4d8312fd522a",
            "8ea2ad9bd47742a3b520b3d547b8ad1d",
            "0bbad09a3c7d4faa859d1e0336c571f9",
            "1b86326e7265427a8523213cc3985ed5",
            "aa5d82101e9a408ea79dbb6472184802",
            "c4328fb1d2014f6e8c38887905320e10",
            "4310b53bfe5445dc84735373d3bfcd09",
            "044e6ca3a7d14279b41d4a235e2504bf",
            "654d5f4f9e3647dea61c5002d5c35409",
            "c390ff3b214d41ddb4cc2d950448a835",
            "96a5443bee28407586177bb7f3dcdfc9",
            "ab4a8e158993400f9ce44616cf9047a8",
            "091bb154df4e4ccfbfdb2b7c2252ed7a",
            "d79526ec77b448cd8f00fdbd2b6b575d",
            "236ac4cb55794018aa414734b80334d3",
            "f6989523b690470e901398215e6c25ed",
            "f3a3338b8f464fef8be9569524b08805",
            "bb11021f924945caa29da8da3022686e",
            "2e3d6686c14d4c09adfe6db18c898228",
            "ea75ade712104ecdaf7c22f63efce8f6",
            "9429594c0769425dbede3a442079985b",
            "0b7216f31e424c8e9a94153aabc1e1d6",
            "726d4114c8474c30b6804ccca2dadc91",
            "a2f9336b090045d5bb5673f338538aa6",
            "74426cf8f2d64776af9a71f00f497a4b",
            "9b8fb2f8bd7e4781bef5ac5183a43d9d",
            "66a8bc34c9ad4d6eaffc78e47c96eb1d",
            "f075c205fa3743dbba2e7bbff5ff8f63",
            "639e084a7f974e599e2e700397f3ab03",
            "22c9d58999d84874bac099cadca65a33",
            "35d3b442ce6f4e49bbc54919998e7f92"
          ]
        },
        "id": "TorTwpZiSqGX",
        "outputId": "9993ebba-e78c-4966-83ed-f40cab8528af"
      },
      "outputs": [
        {
          "output_type": "stream",
          "name": "stderr",
          "text": [
            "/usr/local/lib/python3.11/dist-packages/sentence_transformers/cross_encoder/CrossEncoder.py:11: TqdmExperimentalWarning: Using `tqdm.autonotebook.tqdm` in notebook mode. Use `tqdm.tqdm` instead to force console mode (e.g. in jupyter console)\n",
            "  from tqdm.autonotebook import tqdm, trange\n",
            "/usr/local/lib/python3.11/dist-packages/huggingface_hub/utils/_auth.py:94: UserWarning: \n",
            "The secret `HF_TOKEN` does not exist in your Colab secrets.\n",
            "To authenticate with the Hugging Face Hub, create a token in your settings tab (https://huggingface.co/settings/tokens), set it as secret in your Google Colab and restart your session.\n",
            "You will be able to reuse this secret in all of your notebooks.\n",
            "Please note that authentication is recommended but still optional to access public models or datasets.\n",
            "  warnings.warn(\n"
          ]
        },
        {
          "output_type": "display_data",
          "data": {
            "text/plain": [
              "modules.json:   0%|          | 0.00/349 [00:00<?, ?B/s]"
            ],
            "application/vnd.jupyter.widget-view+json": {
              "version_major": 2,
              "version_minor": 0,
              "model_id": "adf32f7f94e34535a53aa5ac586e1de0"
            }
          },
          "metadata": {}
        },
        {
          "output_type": "display_data",
          "data": {
            "text/plain": [
              "config_sentence_transformers.json:   0%|          | 0.00/116 [00:00<?, ?B/s]"
            ],
            "application/vnd.jupyter.widget-view+json": {
              "version_major": 2,
              "version_minor": 0,
              "model_id": "41b58113f8b0419790d5e1be34ff0921"
            }
          },
          "metadata": {}
        },
        {
          "output_type": "display_data",
          "data": {
            "text/plain": [
              "README.md:   0%|          | 0.00/10.5k [00:00<?, ?B/s]"
            ],
            "application/vnd.jupyter.widget-view+json": {
              "version_major": 2,
              "version_minor": 0,
              "model_id": "a049afb9f8fd49fe82968a78a81dcada"
            }
          },
          "metadata": {}
        },
        {
          "output_type": "display_data",
          "data": {
            "text/plain": [
              "sentence_bert_config.json:   0%|          | 0.00/53.0 [00:00<?, ?B/s]"
            ],
            "application/vnd.jupyter.widget-view+json": {
              "version_major": 2,
              "version_minor": 0,
              "model_id": "59ed1c3a50ca4a19b8496065bcd503db"
            }
          },
          "metadata": {}
        },
        {
          "output_type": "display_data",
          "data": {
            "text/plain": [
              "config.json:   0%|          | 0.00/612 [00:00<?, ?B/s]"
            ],
            "application/vnd.jupyter.widget-view+json": {
              "version_major": 2,
              "version_minor": 0,
              "model_id": "1fda4f86b6274347a436547c3e5c924c"
            }
          },
          "metadata": {}
        },
        {
          "output_type": "display_data",
          "data": {
            "text/plain": [
              "model.safetensors:   0%|          | 0.00/90.9M [00:00<?, ?B/s]"
            ],
            "application/vnd.jupyter.widget-view+json": {
              "version_major": 2,
              "version_minor": 0,
              "model_id": "e37b07ff8d0a49dabcbce17a72851cef"
            }
          },
          "metadata": {}
        },
        {
          "output_type": "display_data",
          "data": {
            "text/plain": [
              "tokenizer_config.json:   0%|          | 0.00/350 [00:00<?, ?B/s]"
            ],
            "application/vnd.jupyter.widget-view+json": {
              "version_major": 2,
              "version_minor": 0,
              "model_id": "03ed2251d37a4089a18282e8196afa56"
            }
          },
          "metadata": {}
        },
        {
          "output_type": "display_data",
          "data": {
            "text/plain": [
              "vocab.txt:   0%|          | 0.00/232k [00:00<?, ?B/s]"
            ],
            "application/vnd.jupyter.widget-view+json": {
              "version_major": 2,
              "version_minor": 0,
              "model_id": "69021253539e41b6bcd42dfe50e06b3c"
            }
          },
          "metadata": {}
        },
        {
          "output_type": "display_data",
          "data": {
            "text/plain": [
              "tokenizer.json:   0%|          | 0.00/466k [00:00<?, ?B/s]"
            ],
            "application/vnd.jupyter.widget-view+json": {
              "version_major": 2,
              "version_minor": 0,
              "model_id": "67d1af3cbcd8418b974afab1b644f254"
            }
          },
          "metadata": {}
        },
        {
          "output_type": "display_data",
          "data": {
            "text/plain": [
              "special_tokens_map.json:   0%|          | 0.00/112 [00:00<?, ?B/s]"
            ],
            "application/vnd.jupyter.widget-view+json": {
              "version_major": 2,
              "version_minor": 0,
              "model_id": "c390ff3b214d41ddb4cc2d950448a835"
            }
          },
          "metadata": {}
        },
        {
          "output_type": "display_data",
          "data": {
            "text/plain": [
              "config.json:   0%|          | 0.00/190 [00:00<?, ?B/s]"
            ],
            "application/vnd.jupyter.widget-view+json": {
              "version_major": 2,
              "version_minor": 0,
              "model_id": "9429594c0769425dbede3a442079985b"
            }
          },
          "metadata": {}
        }
      ],
      "source": [
        "from sentence_transformers import SentenceTransformer\n",
        "model = SentenceTransformer('all-MiniLM-L6-v2')\n",
        "\n",
        "def calculate_cosine_similarity_with_embeddings(text1, text2):\n",
        "    embeddings1 = model.encode(text1)\n",
        "    embeddings2 = model.encode(text2)\n",
        "    similarity = cosine_similarity([embeddings1], [embeddings2])\n",
        "    return similarity[0][0]"
      ]
    },
    {
      "cell_type": "markdown",
      "source": [
        "# Vector store index query engine"
      ],
      "metadata": {
        "id": "IJFVccYkmQkc"
      }
    },
    {
      "cell_type": "code",
      "source": [
        "from llama_index.core import VectorStoreIndex\n",
        "vector_store_index = VectorStoreIndex.from_documents(documents)"
      ],
      "metadata": {
        "id": "PrBA5RZ3emV1"
      },
      "execution_count": 22,
      "outputs": []
    },
    {
      "cell_type": "code",
      "source": [
        "print(type(vector_store_index))"
      ],
      "metadata": {
        "colab": {
          "base_uri": "https://localhost:8080/"
        },
        "id": "uk_hTSdcbntf",
        "outputId": "24248ddf-7d00-4b86-883c-8541fd9f4bd5"
      },
      "execution_count": 23,
      "outputs": [
        {
          "output_type": "stream",
          "name": "stdout",
          "text": [
            "<class 'llama_index.core.indices.vector_store.base.VectorStoreIndex'>\n"
          ]
        }
      ]
    },
    {
      "cell_type": "code",
      "source": [
        "vector_query_engine = vector_store_index.as_query_engine(similarity_top_k=k, temperature=temp, num_output=mt)"
      ],
      "metadata": {
        "id": "w6g6JTOtemV9"
      },
      "execution_count": 24,
      "outputs": []
    },
    {
      "cell_type": "code",
      "source": [
        "print(type(vector_query_engine))"
      ],
      "metadata": {
        "colab": {
          "base_uri": "https://localhost:8080/"
        },
        "id": "-Eq-AVSicTrg",
        "outputId": "21c11ad9-18f6-4fe0-de0d-5929d9c4096a"
      },
      "execution_count": 25,
      "outputs": [
        {
          "output_type": "stream",
          "name": "stdout",
          "text": [
            "<class 'llama_index.core.query_engine.retriever_query_engine.RetrieverQueryEngine'>\n"
          ]
        }
      ]
    },
    {
      "cell_type": "markdown",
      "source": [
        "## Query response and source"
      ],
      "metadata": {
        "id": "RSAMGVyTmU9_"
      }
    },
    {
      "cell_type": "code",
      "source": [
        "import pandas as pd\n",
        "import textwrap\n",
        "\n",
        "def index_query(input_query):\n",
        "    response = vector_query_engine.query(input_query)\n",
        "\n",
        "    # Optional: Print a formatted view of the response (remove if you don't need it in the output)\n",
        "    print(textwrap.fill(str(response), 100))\n",
        "\n",
        "    node_data = []\n",
        "    for node_with_score in response.source_nodes:\n",
        "        node = node_with_score.node\n",
        "        node_info = {\n",
        "            'Node ID': node.id_,\n",
        "            'Score': node_with_score.score,\n",
        "            'Text': node.text\n",
        "        }\n",
        "        node_data.append(node_info)\n",
        "\n",
        "    df = pd.DataFrame(node_data)\n",
        "\n",
        "    # Instead of printing, return the DataFrame and the response object\n",
        "    return df, response\n"
      ],
      "metadata": {
        "id": "_4a9dRIdEeZa"
      },
      "execution_count": 26,
      "outputs": []
    },
    {
      "cell_type": "code",
      "source": [
        "import time\n",
        "#start the timer\n",
        "start_time = time.time()\n",
        "df, response = index_query(user_input)\n",
        "# Stop the timer\n",
        "end_time = time.time()\n",
        "# Calculate and print the execution time\n",
        "elapsed_time = end_time - start_time\n",
        "print(f\"Query execution time: {elapsed_time:.4f} seconds\")\n",
        "\n",
        "print(df.to_markdown(index=False, numalign=\"left\", stralign=\"left\"))  # Display the DataFrame using markdown"
      ],
      "metadata": {
        "colab": {
          "base_uri": "https://localhost:8080/"
        },
        "id": "QzZGn0aEEhza",
        "outputId": "303622cb-7290-4824-bfaf-d915d8f4188f"
      },
      "execution_count": 27,
      "outputs": [
        {
          "output_type": "stream",
          "name": "stdout",
          "text": [
            "Drones can identify vehicles using deep learning-based machine learning algorithms for automatic\n",
            "tracking and detection. Additionally, reidentification methods allow for the automatic\n",
            "identification of vehicles across different cameras with varying viewpoints and hardware\n",
            "specifications.\n",
            "Query execution time: 2.4004 seconds\n",
            "| Node ID                              | Score    | Text                                                                                                                                                                                                                                                                                                                                                                                                                                                                                                                                                                                                                                                                                                                                                                                                                                                                                                                                                                                                                                                                                                                                                                                                                                                                                                                                                                                                                                                                                                                                                                                                                                                                                                                                                                                                                                                                                                                                                                                                                                                                                                                                                                                                                                                                                                                                                                                                                                                                                                                                                                                                                                                                                                                                                                                                                                                                                                                                                                                                                                                                                                                                                                                                                                                                                                                                                                                                                                                                                                                                                                                                                                                                                                                                                                                                                                                                                                                                                                                                                                                                                                                                                                                                                                                                                                                                                                                                                                                                                                                                                                                                                                                                                                                                                                                                                                                                              |\n",
            "|:-------------------------------------|:---------|:----------------------------------------------------------------------------------------------------------------------------------------------------------------------------------------------------------------------------------------------------------------------------------------------------------------------------------------------------------------------------------------------------------------------------------------------------------------------------------------------------------------------------------------------------------------------------------------------------------------------------------------------------------------------------------------------------------------------------------------------------------------------------------------------------------------------------------------------------------------------------------------------------------------------------------------------------------------------------------------------------------------------------------------------------------------------------------------------------------------------------------------------------------------------------------------------------------------------------------------------------------------------------------------------------------------------------------------------------------------------------------------------------------------------------------------------------------------------------------------------------------------------------------------------------------------------------------------------------------------------------------------------------------------------------------------------------------------------------------------------------------------------------------------------------------------------------------------------------------------------------------------------------------------------------------------------------------------------------------------------------------------------------------------------------------------------------------------------------------------------------------------------------------------------------------------------------------------------------------------------------------------------------------------------------------------------------------------------------------------------------------------------------------------------------------------------------------------------------------------------------------------------------------------------------------------------------------------------------------------------------------------------------------------------------------------------------------------------------------------------------------------------------------------------------------------------------------------------------------------------------------------------------------------------------------------------------------------------------------------------------------------------------------------------------------------------------------------------------------------------------------------------------------------------------------------------------------------------------------------------------------------------------------------------------------------------------------------------------------------------------------------------------------------------------------------------------------------------------------------------------------------------------------------------------------------------------------------------------------------------------------------------------------------------------------------------------------------------------------------------------------------------------------------------------------------------------------------------------------------------------------------------------------------------------------------------------------------------------------------------------------------------------------------------------------------------------------------------------------------------------------------------------------------------------------------------------------------------------------------------------------------------------------------------------------------------------------------------------------------------------------------------------------------------------------------------------------------------------------------------------------------------------------------------------------------------------------------------------------------------------------------------------------------------------------------------------------------------------------------------------------------------------------------------------------------------------------------------------------------------------------|\n",
            "| b8c9457e-ae14-427d-bbdb-dd406c695a36 | 0.832032 | ['Tice Brian P. Spring 1991. Unmanned Aerial Vehicles  The Force Multiplier of the 1990s . Airpower Journal . Archived from the original on 24 July 2009 . Retrieved 6 June 2013 . When used UAVs should generally perform missions characterized by the three Ds dull dirty and dangerous.  a b Alvarado Ed 3 May 2021. 237 Ways Drone Applications Revolutionize Business . Drone Industry Insights . Archived from the original on 11 May 2021 . Retrieved 11 May 2021 .  F.  RekabiBana Hu J. T. Krajník Arvin F.  Unified Robust Path Planning and Optimal Trajectory Generation for Efficient 3D Area Coverage of Quadrotor UAVs  IEEE Transactions on Intelligent Transportation Systems 2023.  a b Hu J. Niu H. Carrasco J. Lennox B. Arvin F.  Faulttolerant cooperative navigation of networked UAV swarms for forest fire monitoring  Aerospace Science and Technology 2022.  a b Remote sensing of the environment using unmanned aerial systems UAS . S.l. ELSEVIER  HEALTH SCIENCE. 2023. ISBN 9780323852838 . OCLC 1329422815 . Archived from the original on 27 February 2023 . Retrieved 11 January 2023 .  Perks Matthew T. Dal Sasso Silvano Fortunato Hauet Alexandre Jamieson Elizabeth Le Coz Jérôme Pearce Sophie PeñaHaro Salvador Pizarro Alonso Strelnikova Dariia Tauro Flavia Bomhof James Grimaldi Salvatore Goulet Alain Hortobágyi Borbála Jodeau Magali 8 July 2020. Towards harmonisation of image velocimetry techniques for river surface velocity observations . Earth System Science Data . 12 3 1545 1559. Bibcode  2020ESSD...12.1545P . doi  10.5194essd1215452020 . hdl  11563161555 . ISSN 18663516 . Archived from the original on 12 January 2023 . Retrieved 12 January 2023 .  Koparan Cengiz Koc A. Bulent Privette Charles V. Sawyer Calvin B. March 2020. Adaptive Water Sampling Device for Aerial Robots . Drones . 4 1 5. Bibcode  2020Drone...4....5K . doi  10.3390drones4010005 . ISSN 2504446X .  Koparan Cengiz Koc Ali Bulent Privette Charles V. Sawyer Calvin B. Sharp Julia L. May 2018. Evaluation of a UAVAssisted Autonomous Water Sampling . Water . 10 5 655. Bibcode  2018Water..10..655K . doi  10.3390w10050655 .  Koparan Cengiz Koc Ali Bulent Privette Charles V. Sawyer Calvin B. March 2018. In Situ Water Quality Measurements Using an Unmanned Aerial Vehicle UAV System . Water . 10 3 264. Bibcode  2018Water..10..264K . doi  10.3390w10030264 .  Koparan Cengiz Koc Ali Bulent Privette Charles V. Sawyer Calvin B. March 2019. Autonomous In Situ Measurements of Noncontaminant Water Quality Indicators and Sample Collection with a UAV . Water . 11 3 604. Bibcode  2019Water..11..604K . doi  10.3390w11030604 .  Drones smuggling porn drugs to inmates around the world . Fox News . 17 April 2017. Archived from the original on 31 August 2018 . Retrieved 17 April 2017 .  Note the term  drone  refers to the male bee that serves only to fertilize the queen bee  hence the use of the name in reference to the DH Queen Bee aerial target.  Drones and Artificial Intelligence . Drone Industry Insights . 28 August 2018. Archived from the original on 17 September 2020 . Retrieved 11 April 2020 .  What is the difference between a drone and an RC plane or helicopter . Drones Etc . Drones Etc. Archived from the original on 17 November 2015 .']                                                                                                                                                                                                                                                                                                                                                                                                                                                                                                                                                                                                                                                                                                                                                                                                                                                                                                                                                                                                                                                                                                                                                                                                                                                                                                                                                                                                                                                                                                                        |\n",
            "| 6acd05b8-df6c-4ef8-9caa-d435d739a1dc | 0.828381 | ['How Can Drones Be Hacked The updated list of vulnerable drones  attack tools . Medium . Archived from the original on 23 July 2018 . Retrieved 6 December 2016 .  Glaser April 4 January 2017. The U.S. government showed just how easy it is to hack drones made by Parrot DBPower and Cheerson . Recode . Archived from the original on 5 January 2017 . Retrieved 6 January 2017 .  Antidrone technology to be test flown on UK base amid terror fears . 6 March 2017. Archived from the original on 7 May 2017 . Retrieved 9 May 2017 .  IsaacMedina Brian K. S. Poyser Matthew Organisciak Daniel Willcocks Chris G. Breckon Toby P. Shum Hubert P. H. 2021. Unmanned Aerial Vehicle Visual Detection and Tracking using Deep Neural Networks A Performance Benchmark . pp. 1223 1232. arXiv  2103.13933 .  Organisciak Daniel Poyser Matthew Alsehaim Aishah Hu Shanfeng IsaacMedina Brian K. S. Breckon Toby P. Shum Hubert P. H. 2022. UAVReID A Benchmark on Unmanned Aerial Vehicle Reidentification in Video Imagery. Proceedings of the 17th International Joint Conference on Computer Vision Imaging and Computer Graphics Theory and Applications . SciTePress. pp. 136 146. arXiv  2104.06219 . doi  10.52200010836600003124 . ISBN 9789897585555 .  Heathrow picks CUAS to combat drone disruption . Archived from the original on 9 November 2019 . Retrieved 13 March 2019 .  Muscat International Airport to install USD10 million Aaronia counterUAS system . 21 January 2019. Archived from the original on 9 November 2019 . Retrieved 21 January 2019 .  GrandClément Sarah Bajon Theò 19 October 2022. Uncrewed Aerial Systems A Primer . United Nations Institute for Disarmament Research . Archived from the original on 5 January 2023 . Retrieved 5 January 2023 .  cite journal    CS1 maint bot original URL status unknown  link   Hartley John Shum Hubert P. H. Ho Edmond S. L. Wang He Ramamoorthy Subramanian 2022. Formation Control for UAVs Using a Flux Guided Approach. Expert Systems with Applications . 205 . Elsevier 117665. arXiv  2103.09184 . doi  10.1016j.eswa.2022.117665 . ISSN 09574174 . S2CID 232240581 .  What is unmanned traffic management . Airbus . Archived from the original on 8 February 2021 . Retrieved 28 January 2021 .  Cary Leslie Coyne James. ICAO Unmanned Aircraft Systems UAS Circular 328. 20112012 UAS Yearbook  UAS The Global Perspective PDF . Blyenburgh  Co. pp. 112 115. Archived from the original PDF on 4 March 2016 . Retrieved 26 February 2022 .  Boedecker Hendrik. The 2021 Drone Regulation  What is new What is planned . Drone Industry Insights . Archived from the original on 17 May 2021 . Retrieved 17 May 2021 .  UAS Remote Identification Overview . www.faa.gov . Archived from the original on 27 May 2021 . Retrieved 29 May 2021 .  FAA Legal Battle  Challenging Remote ID . RaceDayQuads . Archived from the original on 27 May 2021 . Retrieved 29 May 2021 .  UAS Class Label . www.eudronport.com . August 2022. Archived from the original on 5 October 2022 . Retrieved 21 February 2023 .  Consolidated text Commission Delegated Regulation EU 2019945 of 12 March 2019 on unmanned aircraft systems and on thirdcountry operators of unmanned aircraft systems Bibliography  edit  Axe David 2021. Drone War Vietnam . Yorkshire Pen  Sword Military . ISBN 9781526770264 . Sayler Kelley June 2015.']                                                                                                                                                                                                                                                                                                                                                                                                                                                                                                                                                                                                                                                                                                                                                                                                                                                                                                                                                                                                                                                                                                                                                                                                                                                                                                                                                                                                                                                   |\n",
            "| b5c3b2f1-9a13-495e-a568-154befe9d89d | 0.825722 | ['Such developments have occurred despite the difficulties. As J. Rogers stated in a 2017 interview to AT There is a big debate out there at the moment about what the best way is to counter these small UAVs whether they are used by hobbyists causing a bit of a nuisance or in a more sinister manner by a terrorist actor.  216  Countermeasures  edit  Counter unmanned air system  edit  Further information Electronic warfare Italian Army soldiers of the 17th Antiaircraft Artillery Regiment Sforzesca with a portable drone jammer in Rome Cannon antidrone system The malicious use of UAVs has led to the development of counter unmanned air system CUAS technologies. Automatic tracking and detection of UAVs from commercial cameras have become accurate thanks to the development of deep learning based machine learning algorithms.  217  It is also possible to automatically identify UAVs across different cameras with different viewpoints and hardware specification with reidentification methods.  218  Commercial systems such as the Aaronia AARTOS have been installed on major international airports.  219   220  Once a UAV is detected it can be countered with kinetic force missiles projectiles or another UAV or by nonkinetic force laser microwaves communications jamming.  221  Antiaircraft missile systems such as the Iron Dome are also being enhanced with CUAS technologies. Utilising a smart UAV swarm to counter one or more hostile UAVs is also proposed.  222  Regulation  edit  Main article Regulation of unmanned aerial vehicles Regulatory bodies around the world are developing unmanned aircraft system traffic management solutions to better integrate UAVs into airspace.  223  The use of unmanned aerial vehicles is becoming increasingly regulated by the civil aviation authorities of individual countries. Regulatory regimes can differ significantly according to drone size and use. The International Civil Aviation Organization ICAO began exploring the use of drone technology as far back as 2005 which resulted in a 2011 report.  224  France was among the first countries to set a national framework based on this report and larger aviation bodies such as the FAA and the EASA quickly followed suit.  225  In 2021 the FAA published a rule requiring all commercially used UAVs and all UAVs regardless of intent weighing 250 g or more to participate in Remote ID  which makes drone locations controller locations and other information public from takeoff to shutdown this rule has since been challenged in the pending federal lawsuit RaceDayQuads v. FAA .  226   227  EU Drone Certification  Class Identification Label  edit  The implementation of the Class Identification Label serves a crucial purpose in the regulation and operation of drones.  228  The label is a verification mechanism designed to confirm that drones within a specific class meet the rigorous standards set by administrations for design and manufacturing.  229  These standards are necessary to ensure the safety and reliability of drones in various industries and applications. By providing this assurance to customers the Class Identification Label helps to increase confidence in drone technology and encourages wider adoption across industries. This in turn contributes to the growth and development of the drone industry and supports the integration of drones into society. Export controls  edit  The export of UAVs or technology capable of carrying a 500\\xa0kg payload at least 300\\xa0km is restricted in many countries by the Missile Technology Control Regime . See also  edit  List of unmanned aerial vehicles Delivery drone Drone in a Box Glide bomb International Aerial Robotics Competition List of films featuring drones List of military electronics of the United States MARSS Interceptor Micromechanical Flying Insect ParcAberporth Quadcopter Radiocontrolled aircraft Autonomous aircraft Optionally piloted vehicle Sypaq Corvo Precision Payload Delivery System Satellite Sentinel Project Tactical Control System UAV ground control station Unmanned underwater vehicle Portals  Aviation Systems science Engineering Telecommunication References  edit  Citations  edit   De Gruyter Handbook of Drone Warfare 2024. eISBN PDF 9783110742039.  Tice Brian P. Spring 1991. Unmanned Aerial Vehicles  The Force Multiplier of the 1990s . Airpower Journal . Archived from the original on 24 July 2009 . Retrieved 6 June 2013 . When used UAVs should generally perform missions characterized by the three Ds dull dirty and dangerous.  a b Alvarado Ed 3 May 2021. 237 Ways Drone Applications Revolutionize Business . Drone Industry Insights . Archived from the original on 11 May 2021 . Retrieved 11 May 2021 .'] |\n"
          ]
        }
      ]
    },
    {
      "cell_type": "markdown",
      "source": [
        "Node information and relationships"
      ],
      "metadata": {
        "id": "l1fnBnGFcejp"
      }
    },
    {
      "cell_type": "code",
      "source": [
        "nodeid=response.source_nodes[0].node_id\n",
        "nodeid"
      ],
      "metadata": {
        "colab": {
          "base_uri": "https://localhost:8080/",
          "height": 35
        },
        "id": "uqhXA3Fxd11A",
        "outputId": "31d3f6bd-daf3-4940-f09c-efd5acf93ea6"
      },
      "execution_count": 28,
      "outputs": [
        {
          "output_type": "execute_result",
          "data": {
            "text/plain": [
              "'b8c9457e-ae14-427d-bbdb-dd406c695a36'"
            ],
            "application/vnd.google.colaboratory.intrinsic+json": {
              "type": "string"
            }
          },
          "metadata": {},
          "execution_count": 28
        }
      ]
    },
    {
      "cell_type": "code",
      "source": [
        "response.source_nodes[0].get_text()"
      ],
      "metadata": {
        "colab": {
          "base_uri": "https://localhost:8080/",
          "height": 154
        },
        "id": "iuRhyM8NfyGn",
        "outputId": "7ed293d4-e85e-468f-d85a-22c8852fceb4",
        "collapsed": true
      },
      "execution_count": 29,
      "outputs": [
        {
          "output_type": "execute_result",
          "data": {
            "text/plain": [
              "\"['Tice Brian P. Spring 1991. Unmanned Aerial Vehicles  The Force Multiplier of the 1990s . Airpower Journal . Archived from the original on 24 July 2009 . Retrieved 6 June 2013 . When used UAVs should generally perform missions characterized by the three Ds dull dirty and dangerous.  a b Alvarado Ed 3 May 2021. 237 Ways Drone Applications Revolutionize Business . Drone Industry Insights . Archived from the original on 11 May 2021 . Retrieved 11 May 2021 .  F.  RekabiBana Hu J. T. Krajník Arvin F.  Unified Robust Path Planning and Optimal Trajectory Generation for Efficient 3D Area Coverage of Quadrotor UAVs  IEEE Transactions on Intelligent Transportation Systems 2023.  a b Hu J. Niu H. Carrasco J. Lennox B. Arvin F.  Faulttolerant cooperative navigation of networked UAV swarms for forest fire monitoring  Aerospace Science and Technology 2022.  a b Remote sensing of the environment using unmanned aerial systems UAS . S.l. ELSEVIER  HEALTH SCIENCE. 2023. ISBN 9780323852838 . OCLC 1329422815 . Archived from the original on 27 February 2023 . Retrieved 11 January 2023 .  Perks Matthew T. Dal Sasso Silvano Fortunato Hauet Alexandre Jamieson Elizabeth Le Coz Jérôme Pearce Sophie PeñaHaro Salvador Pizarro Alonso Strelnikova Dariia Tauro Flavia Bomhof James Grimaldi Salvatore Goulet Alain Hortobágyi Borbála Jodeau Magali 8 July 2020. Towards harmonisation of image velocimetry techniques for river surface velocity observations . Earth System Science Data . 12 3 1545 1559. Bibcode  2020ESSD...12.1545P . doi  10.5194essd1215452020 . hdl  11563161555 . ISSN 18663516 . Archived from the original on 12 January 2023 . Retrieved 12 January 2023 .  Koparan Cengiz Koc A. Bulent Privette Charles V. Sawyer Calvin B. March 2020. Adaptive Water Sampling Device for Aerial Robots . Drones . 4 1 5. Bibcode  2020Drone...4....5K . doi  10.3390drones4010005 . ISSN 2504446X .  Koparan Cengiz Koc Ali Bulent Privette Charles V. Sawyer Calvin B. Sharp Julia L. May 2018. Evaluation of a UAVAssisted Autonomous Water Sampling . Water . 10 5 655. Bibcode  2018Water..10..655K . doi  10.3390w10050655 .  Koparan Cengiz Koc Ali Bulent Privette Charles V. Sawyer Calvin B. March 2018. In Situ Water Quality Measurements Using an Unmanned Aerial Vehicle UAV System . Water . 10 3 264. Bibcode  2018Water..10..264K . doi  10.3390w10030264 .  Koparan Cengiz Koc Ali Bulent Privette Charles V. Sawyer Calvin B. March 2019. Autonomous In Situ Measurements of Noncontaminant Water Quality Indicators and Sample Collection with a UAV . Water . 11 3 604. Bibcode  2019Water..11..604K . doi  10.3390w11030604 .  Drones smuggling porn drugs to inmates around the world . Fox News . 17 April 2017. Archived from the original on 31 August 2018 . Retrieved 17 April 2017 .  Note the term  drone  refers to the male bee that serves only to fertilize the queen bee  hence the use of the name in reference to the DH Queen Bee aerial target.  Drones and Artificial Intelligence . Drone Industry Insights . 28 August 2018. Archived from the original on 17 September 2020 . Retrieved 11 April 2020 .  What is the difference between a drone and an RC plane or helicopter . Drones Etc . Drones Etc. Archived from the original on 17 November 2015 .']\""
            ],
            "application/vnd.google.colaboratory.intrinsic+json": {
              "type": "string"
            }
          },
          "metadata": {},
          "execution_count": 29
        }
      ]
    },
    {
      "cell_type": "markdown",
      "source": [
        "## Optimized chunking"
      ],
      "metadata": {
        "id": "lDDyAsa-oswp"
      }
    },
    {
      "cell_type": "code",
      "source": [
        "# Assuming you have the 'response' object from query_engine.query()\n",
        "\n",
        "for node_with_score in response.source_nodes:\n",
        "    node = node_with_score.node  # Extract the Node object from NodeWithScore\n",
        "    chunk_size = len(node.text)\n",
        "    print(f\"Node ID: {node.id_}, Chunk Size: {chunk_size} characters\")"
      ],
      "metadata": {
        "colab": {
          "base_uri": "https://localhost:8080/"
        },
        "id": "MmW4MFSdopQE",
        "outputId": "75f349ac-c737-4e9f-d9e3-28f1bc533dac"
      },
      "execution_count": 30,
      "outputs": [
        {
          "output_type": "stream",
          "name": "stdout",
          "text": [
            "Node ID: b8c9457e-ae14-427d-bbdb-dd406c695a36, Chunk Size: 3226 characters\n",
            "Node ID: 6acd05b8-df6c-4ef8-9caa-d435d739a1dc, Chunk Size: 3295 characters\n",
            "Node ID: b5c3b2f1-9a13-495e-a568-154befe9d89d, Chunk Size: 4689 characters\n"
          ]
        }
      ]
    },
    {
      "cell_type": "markdown",
      "source": [
        "## Performance metric"
      ],
      "metadata": {
        "id": "_XQiH9ImiHW8"
      }
    },
    {
      "cell_type": "code",
      "source": [
        "import numpy as np\n",
        "\n",
        "def info_metrics(response):\n",
        "  # Calculate the performance (handling None scores)\n",
        "  scores = [node.score for node in response.source_nodes if node.score is not None]\n",
        "  if scores:  # Check if there are any valid scores\n",
        "      weights = np.exp(scores) / np.sum(np.exp(scores))\n",
        "      perf = np.average(scores, weights=weights) / elapsed_time\n",
        "  else:\n",
        "      perf = 0  # Or some other default value if all scores are None\n",
        "\n",
        "  average_score=np.average(scores, weights=weights)\n",
        "  print(f\"Average score: {average_score:.4f}\")\n",
        "  print(f\"Query execution time: {elapsed_time:.4f} seconds\")\n",
        "  print(f\"Performance metric: {perf:.4f}\")"
      ],
      "metadata": {
        "id": "4g_H0caBiHW9"
      },
      "execution_count": 31,
      "outputs": []
    },
    {
      "cell_type": "code",
      "source": [
        "info_metrics(response)"
      ],
      "metadata": {
        "colab": {
          "base_uri": "https://localhost:8080/"
        },
        "outputId": "6d5c2108-575b-49aa-ade6-fc5396a990ca",
        "id": "-3K48RuAiHW9"
      },
      "execution_count": 32,
      "outputs": [
        {
          "output_type": "stream",
          "name": "stdout",
          "text": [
            "Average score: 0.8287\n",
            "Query execution time: 2.4004 seconds\n",
            "Performance metric: 0.3452\n"
          ]
        }
      ]
    },
    {
      "cell_type": "markdown",
      "source": [
        "# Tree index query engine"
      ],
      "metadata": {
        "id": "_dqduDJ6rn7M"
      }
    },
    {
      "cell_type": "code",
      "source": [
        "from llama_index.core import TreeIndex\n",
        "tree_index = TreeIndex.from_documents(documents)"
      ],
      "metadata": {
        "id": "l-YeiE-PrpjV"
      },
      "execution_count": 33,
      "outputs": []
    },
    {
      "cell_type": "code",
      "source": [
        "print(type(tree_index))"
      ],
      "metadata": {
        "colab": {
          "base_uri": "https://localhost:8080/"
        },
        "id": "Hb5pji6Sr5rc",
        "outputId": "4e68be98-6aad-4711-9a7b-2bcddda20bee"
      },
      "execution_count": 34,
      "outputs": [
        {
          "output_type": "stream",
          "name": "stdout",
          "text": [
            "<class 'llama_index.core.indices.tree.base.TreeIndex'>\n"
          ]
        }
      ]
    },
    {
      "cell_type": "code",
      "source": [
        "tree_query_engine = tree_index.as_query_engine(similarity_top_k=k, temperature=temp, num_output=mt)"
      ],
      "metadata": {
        "id": "vXx5PyzVsId_"
      },
      "execution_count": 35,
      "outputs": []
    },
    {
      "cell_type": "code",
      "source": [
        "import time\n",
        "import textwrap\n",
        "# Start the timer\n",
        "start_time = time.time()\n",
        "response = tree_query_engine.query(user_input)\n",
        "# Stop the timer\n",
        "end_time = time.time()\n",
        "# Calculate and print the execution time\n",
        "elapsed_time = end_time - start_time\n",
        "print(f\"Query execution time: {elapsed_time:.4f} seconds\")\n",
        "\n",
        "print(textwrap.fill(str(response), 100))"
      ],
      "metadata": {
        "colab": {
          "base_uri": "https://localhost:8080/"
        },
        "id": "b8E9RQz3sPM6",
        "outputId": "9260da46-eca4-460f-ecd6-a5594d7c7cb9"
      },
      "execution_count": 36,
      "outputs": [
        {
          "output_type": "stream",
          "name": "stdout",
          "text": [
            "Query execution time: 3.4512 seconds\n",
            "Drones identify vehicles using computer vision technology related to object detection. They can\n",
            "detect vehicles by analyzing digital images and videos captured by their cameras. This process\n",
            "involves recognizing instances of semantic objects belonging to a specific class, such as cars,\n",
            "within the images or video footage.\n"
          ]
        }
      ]
    },
    {
      "cell_type": "markdown",
      "source": [
        "## Performance metric"
      ],
      "metadata": {
        "id": "vQxSpKTOSSHr"
      }
    },
    {
      "cell_type": "code",
      "source": [
        "similarity_score = calculate_cosine_similarity_with_embeddings(user_input, str(response))\n",
        "print(f\"Cosine Similarity Score: {similarity_score:.3f}\")\n",
        "print(f\"Query execution time: {elapsed_time:.4f} seconds\")\n",
        "performance=similarity_score/elapsed_time\n",
        "print(f\"Performance metric: {performance:.4f}\")"
      ],
      "metadata": {
        "colab": {
          "base_uri": "https://localhost:8080/"
        },
        "id": "F8Cqhr1sSYRC",
        "outputId": "cc7ed59e-8a49-478d-a8a7-ae9e1d405236"
      },
      "execution_count": 37,
      "outputs": [
        {
          "output_type": "stream",
          "name": "stdout",
          "text": [
            "Cosine Similarity Score: 0.815\n",
            "Query execution time: 3.4512 seconds\n",
            "Performance metric: 0.2361\n"
          ]
        }
      ]
    },
    {
      "cell_type": "markdown",
      "source": [
        "# List index query engine"
      ],
      "metadata": {
        "id": "3fOB37e6sWaJ"
      }
    },
    {
      "cell_type": "code",
      "source": [
        "from llama_index.core import ListIndex\n",
        "list_index = ListIndex.from_documents(documents)"
      ],
      "metadata": {
        "id": "pleYlYs3tInK"
      },
      "execution_count": 38,
      "outputs": []
    },
    {
      "cell_type": "code",
      "source": [
        "print(type(list_index))"
      ],
      "metadata": {
        "colab": {
          "base_uri": "https://localhost:8080/"
        },
        "id": "2vo8re-wtHpR",
        "outputId": "feafddb1-1935-4417-95fc-ad76207dbf58"
      },
      "execution_count": 39,
      "outputs": [
        {
          "output_type": "stream",
          "name": "stdout",
          "text": [
            "<class 'llama_index.core.indices.list.base.SummaryIndex'>\n"
          ]
        }
      ]
    },
    {
      "cell_type": "code",
      "source": [
        "list_query_engine = list_index.as_query_engine(similarity_top_k=k, temperature=temp, num_output=mt)"
      ],
      "metadata": {
        "id": "gtFOCgNutZd3"
      },
      "execution_count": 40,
      "outputs": []
    },
    {
      "cell_type": "code",
      "source": [
        "#start the timer\n",
        "start_time = time.time()\n",
        "response = list_query_engine.query(user_input)\n",
        "# Stop the timer\n",
        "end_time = time.time()\n",
        "# Calculate and print the execution time\n",
        "elapsed_time = end_time - start_time\n",
        "print(f\"Query execution time: {elapsed_time:.4f} seconds\")\n",
        "\n",
        "print(textwrap.fill(str(response), 100))"
      ],
      "metadata": {
        "colab": {
          "base_uri": "https://localhost:8080/"
        },
        "id": "Bf3KTyc2tnzA",
        "outputId": "5b590819-97e3-4416-f3db-9fd9034027cc"
      },
      "execution_count": 41,
      "outputs": [
        {
          "output_type": "stream",
          "name": "stdout",
          "text": [
            "Query execution time: 17.1937 seconds\n",
            "Drones can identify vehicles using computer vision techniques, such as convolutional neural networks\n",
            "(CNNs). These networks are trained on large datasets of vehicle images to learn the features that\n",
            "distinguish vehicles from other objects. By processing the visual data captured by the drone's\n",
            "camera through these trained CNN models, drones can accurately detect and classify vehicles in real-\n",
            "time.\n"
          ]
        }
      ]
    },
    {
      "cell_type": "markdown",
      "source": [
        "## Performance metric"
      ],
      "metadata": {
        "id": "0gSORzLPbGRS"
      }
    },
    {
      "cell_type": "code",
      "source": [
        "similarity_score = calculate_cosine_similarity_with_embeddings(user_input, str(response))\n",
        "print(f\"Cosine Similarity Score: {similarity_score:.3f}\")\n",
        "print(f\"Query execution time: {elapsed_time:.4f} seconds\")\n",
        "performance=similarity_score/elapsed_time\n",
        "print(f\"Performance metric: {performance:.4f}\")"
      ],
      "metadata": {
        "colab": {
          "base_uri": "https://localhost:8080/"
        },
        "outputId": "99fdbf6d-68b4-4638-c705-97c409fc1008",
        "id": "tfTWqYP3bBeY"
      },
      "execution_count": 42,
      "outputs": [
        {
          "output_type": "stream",
          "name": "stdout",
          "text": [
            "Cosine Similarity Score: 0.764\n",
            "Query execution time: 17.1937 seconds\n",
            "Performance metric: 0.0444\n"
          ]
        }
      ]
    },
    {
      "cell_type": "markdown",
      "source": [
        "# Keyword index query index"
      ],
      "metadata": {
        "id": "B55WzTYgtw_0"
      }
    },
    {
      "cell_type": "code",
      "source": [
        "from llama_index.core import KeywordTableIndex\n",
        "keyword_index = KeywordTableIndex.from_documents(documents)"
      ],
      "metadata": {
        "id": "MGVAYCqxtE7L"
      },
      "execution_count": 43,
      "outputs": []
    },
    {
      "cell_type": "code",
      "source": [
        "# Extract data for DataFrame\n",
        "data = []\n",
        "for keyword, doc_ids in keyword_index.index_struct.table.items():\n",
        "    for doc_id in doc_ids:\n",
        "        data.append({\"Keyword\": keyword, \"Document ID\": doc_id})\n",
        "\n",
        "# Create the DataFrame\n",
        "df = pd.DataFrame(data)\n",
        "df"
      ],
      "metadata": {
        "colab": {
          "base_uri": "https://localhost:8080/",
          "height": 419
        },
        "id": "tp9vEYoCuEBl",
        "outputId": "d05b656d-8c71-43d4-a2aa-11234e424828"
      },
      "execution_count": 44,
      "outputs": [
        {
          "output_type": "execute_result",
          "data": {
            "text/plain": [
              "                          Keyword                           Document ID\n",
              "0                            flat  2b6f1071-2ce9-459e-a452-c6c0b92a1390\n",
              "1               nonsupersymmetric  2b6f1071-2ce9-459e-a452-c6c0b92a1390\n",
              "2                        geometry  1c8184cf-717e-4909-bdea-4a7552ed7ff2\n",
              "3                        geometry  2b6f1071-2ce9-459e-a452-c6c0b92a1390\n",
              "4                        geometry  fea52cc5-ae62-4af5-a1d2-9f69be94d4d6\n",
              "...                           ...                                   ...\n",
              "4221                       direct  c8fb3904-717d-4b3c-abe3-e2d7868bb3fe\n",
              "4222               science direct  c8fb3904-717d-4b3c-abe3-e2d7868bb3fe\n",
              "4223           stealth technology  c8fb3904-717d-4b3c-abe3-e2d7868bb3fe\n",
              "4224  authority control databases  c8fb3904-717d-4b3c-abe3-e2d7868bb3fe\n",
              "4225                        lists  c8fb3904-717d-4b3c-abe3-e2d7868bb3fe\n",
              "\n",
              "[4226 rows x 2 columns]"
            ],
            "text/html": [
              "\n",
              "  <div id=\"df-f27bf0ba-8b34-4e65-9014-4764a51ccadd\" class=\"colab-df-container\">\n",
              "    <div>\n",
              "<style scoped>\n",
              "    .dataframe tbody tr th:only-of-type {\n",
              "        vertical-align: middle;\n",
              "    }\n",
              "\n",
              "    .dataframe tbody tr th {\n",
              "        vertical-align: top;\n",
              "    }\n",
              "\n",
              "    .dataframe thead th {\n",
              "        text-align: right;\n",
              "    }\n",
              "</style>\n",
              "<table border=\"1\" class=\"dataframe\">\n",
              "  <thead>\n",
              "    <tr style=\"text-align: right;\">\n",
              "      <th></th>\n",
              "      <th>Keyword</th>\n",
              "      <th>Document ID</th>\n",
              "    </tr>\n",
              "  </thead>\n",
              "  <tbody>\n",
              "    <tr>\n",
              "      <th>0</th>\n",
              "      <td>flat</td>\n",
              "      <td>2b6f1071-2ce9-459e-a452-c6c0b92a1390</td>\n",
              "    </tr>\n",
              "    <tr>\n",
              "      <th>1</th>\n",
              "      <td>nonsupersymmetric</td>\n",
              "      <td>2b6f1071-2ce9-459e-a452-c6c0b92a1390</td>\n",
              "    </tr>\n",
              "    <tr>\n",
              "      <th>2</th>\n",
              "      <td>geometry</td>\n",
              "      <td>1c8184cf-717e-4909-bdea-4a7552ed7ff2</td>\n",
              "    </tr>\n",
              "    <tr>\n",
              "      <th>3</th>\n",
              "      <td>geometry</td>\n",
              "      <td>2b6f1071-2ce9-459e-a452-c6c0b92a1390</td>\n",
              "    </tr>\n",
              "    <tr>\n",
              "      <th>4</th>\n",
              "      <td>geometry</td>\n",
              "      <td>fea52cc5-ae62-4af5-a1d2-9f69be94d4d6</td>\n",
              "    </tr>\n",
              "    <tr>\n",
              "      <th>...</th>\n",
              "      <td>...</td>\n",
              "      <td>...</td>\n",
              "    </tr>\n",
              "    <tr>\n",
              "      <th>4221</th>\n",
              "      <td>direct</td>\n",
              "      <td>c8fb3904-717d-4b3c-abe3-e2d7868bb3fe</td>\n",
              "    </tr>\n",
              "    <tr>\n",
              "      <th>4222</th>\n",
              "      <td>science direct</td>\n",
              "      <td>c8fb3904-717d-4b3c-abe3-e2d7868bb3fe</td>\n",
              "    </tr>\n",
              "    <tr>\n",
              "      <th>4223</th>\n",
              "      <td>stealth technology</td>\n",
              "      <td>c8fb3904-717d-4b3c-abe3-e2d7868bb3fe</td>\n",
              "    </tr>\n",
              "    <tr>\n",
              "      <th>4224</th>\n",
              "      <td>authority control databases</td>\n",
              "      <td>c8fb3904-717d-4b3c-abe3-e2d7868bb3fe</td>\n",
              "    </tr>\n",
              "    <tr>\n",
              "      <th>4225</th>\n",
              "      <td>lists</td>\n",
              "      <td>c8fb3904-717d-4b3c-abe3-e2d7868bb3fe</td>\n",
              "    </tr>\n",
              "  </tbody>\n",
              "</table>\n",
              "<p>4226 rows × 2 columns</p>\n",
              "</div>\n",
              "    <div class=\"colab-df-buttons\">\n",
              "\n",
              "  <div class=\"colab-df-container\">\n",
              "    <button class=\"colab-df-convert\" onclick=\"convertToInteractive('df-f27bf0ba-8b34-4e65-9014-4764a51ccadd')\"\n",
              "            title=\"Convert this dataframe to an interactive table.\"\n",
              "            style=\"display:none;\">\n",
              "\n",
              "  <svg xmlns=\"http://www.w3.org/2000/svg\" height=\"24px\" viewBox=\"0 -960 960 960\">\n",
              "    <path d=\"M120-120v-720h720v720H120Zm60-500h600v-160H180v160Zm220 220h160v-160H400v160Zm0 220h160v-160H400v160ZM180-400h160v-160H180v160Zm440 0h160v-160H620v160ZM180-180h160v-160H180v160Zm440 0h160v-160H620v160Z\"/>\n",
              "  </svg>\n",
              "    </button>\n",
              "\n",
              "  <style>\n",
              "    .colab-df-container {\n",
              "      display:flex;\n",
              "      gap: 12px;\n",
              "    }\n",
              "\n",
              "    .colab-df-convert {\n",
              "      background-color: #E8F0FE;\n",
              "      border: none;\n",
              "      border-radius: 50%;\n",
              "      cursor: pointer;\n",
              "      display: none;\n",
              "      fill: #1967D2;\n",
              "      height: 32px;\n",
              "      padding: 0 0 0 0;\n",
              "      width: 32px;\n",
              "    }\n",
              "\n",
              "    .colab-df-convert:hover {\n",
              "      background-color: #E2EBFA;\n",
              "      box-shadow: 0px 1px 2px rgba(60, 64, 67, 0.3), 0px 1px 3px 1px rgba(60, 64, 67, 0.15);\n",
              "      fill: #174EA6;\n",
              "    }\n",
              "\n",
              "    .colab-df-buttons div {\n",
              "      margin-bottom: 4px;\n",
              "    }\n",
              "\n",
              "    [theme=dark] .colab-df-convert {\n",
              "      background-color: #3B4455;\n",
              "      fill: #D2E3FC;\n",
              "    }\n",
              "\n",
              "    [theme=dark] .colab-df-convert:hover {\n",
              "      background-color: #434B5C;\n",
              "      box-shadow: 0px 1px 3px 1px rgba(0, 0, 0, 0.15);\n",
              "      filter: drop-shadow(0px 1px 2px rgba(0, 0, 0, 0.3));\n",
              "      fill: #FFFFFF;\n",
              "    }\n",
              "  </style>\n",
              "\n",
              "    <script>\n",
              "      const buttonEl =\n",
              "        document.querySelector('#df-f27bf0ba-8b34-4e65-9014-4764a51ccadd button.colab-df-convert');\n",
              "      buttonEl.style.display =\n",
              "        google.colab.kernel.accessAllowed ? 'block' : 'none';\n",
              "\n",
              "      async function convertToInteractive(key) {\n",
              "        const element = document.querySelector('#df-f27bf0ba-8b34-4e65-9014-4764a51ccadd');\n",
              "        const dataTable =\n",
              "          await google.colab.kernel.invokeFunction('convertToInteractive',\n",
              "                                                    [key], {});\n",
              "        if (!dataTable) return;\n",
              "\n",
              "        const docLinkHtml = 'Like what you see? Visit the ' +\n",
              "          '<a target=\"_blank\" href=https://colab.research.google.com/notebooks/data_table.ipynb>data table notebook</a>'\n",
              "          + ' to learn more about interactive tables.';\n",
              "        element.innerHTML = '';\n",
              "        dataTable['output_type'] = 'display_data';\n",
              "        await google.colab.output.renderOutput(dataTable, element);\n",
              "        const docLink = document.createElement('div');\n",
              "        docLink.innerHTML = docLinkHtml;\n",
              "        element.appendChild(docLink);\n",
              "      }\n",
              "    </script>\n",
              "  </div>\n",
              "\n",
              "\n",
              "<div id=\"df-fcbb211a-3645-4545-a742-dfb220acf1ac\">\n",
              "  <button class=\"colab-df-quickchart\" onclick=\"quickchart('df-fcbb211a-3645-4545-a742-dfb220acf1ac')\"\n",
              "            title=\"Suggest charts\"\n",
              "            style=\"display:none;\">\n",
              "\n",
              "<svg xmlns=\"http://www.w3.org/2000/svg\" height=\"24px\"viewBox=\"0 0 24 24\"\n",
              "     width=\"24px\">\n",
              "    <g>\n",
              "        <path d=\"M19 3H5c-1.1 0-2 .9-2 2v14c0 1.1.9 2 2 2h14c1.1 0 2-.9 2-2V5c0-1.1-.9-2-2-2zM9 17H7v-7h2v7zm4 0h-2V7h2v10zm4 0h-2v-4h2v4z\"/>\n",
              "    </g>\n",
              "</svg>\n",
              "  </button>\n",
              "\n",
              "<style>\n",
              "  .colab-df-quickchart {\n",
              "      --bg-color: #E8F0FE;\n",
              "      --fill-color: #1967D2;\n",
              "      --hover-bg-color: #E2EBFA;\n",
              "      --hover-fill-color: #174EA6;\n",
              "      --disabled-fill-color: #AAA;\n",
              "      --disabled-bg-color: #DDD;\n",
              "  }\n",
              "\n",
              "  [theme=dark] .colab-df-quickchart {\n",
              "      --bg-color: #3B4455;\n",
              "      --fill-color: #D2E3FC;\n",
              "      --hover-bg-color: #434B5C;\n",
              "      --hover-fill-color: #FFFFFF;\n",
              "      --disabled-bg-color: #3B4455;\n",
              "      --disabled-fill-color: #666;\n",
              "  }\n",
              "\n",
              "  .colab-df-quickchart {\n",
              "    background-color: var(--bg-color);\n",
              "    border: none;\n",
              "    border-radius: 50%;\n",
              "    cursor: pointer;\n",
              "    display: none;\n",
              "    fill: var(--fill-color);\n",
              "    height: 32px;\n",
              "    padding: 0;\n",
              "    width: 32px;\n",
              "  }\n",
              "\n",
              "  .colab-df-quickchart:hover {\n",
              "    background-color: var(--hover-bg-color);\n",
              "    box-shadow: 0 1px 2px rgba(60, 64, 67, 0.3), 0 1px 3px 1px rgba(60, 64, 67, 0.15);\n",
              "    fill: var(--button-hover-fill-color);\n",
              "  }\n",
              "\n",
              "  .colab-df-quickchart-complete:disabled,\n",
              "  .colab-df-quickchart-complete:disabled:hover {\n",
              "    background-color: var(--disabled-bg-color);\n",
              "    fill: var(--disabled-fill-color);\n",
              "    box-shadow: none;\n",
              "  }\n",
              "\n",
              "  .colab-df-spinner {\n",
              "    border: 2px solid var(--fill-color);\n",
              "    border-color: transparent;\n",
              "    border-bottom-color: var(--fill-color);\n",
              "    animation:\n",
              "      spin 1s steps(1) infinite;\n",
              "  }\n",
              "\n",
              "  @keyframes spin {\n",
              "    0% {\n",
              "      border-color: transparent;\n",
              "      border-bottom-color: var(--fill-color);\n",
              "      border-left-color: var(--fill-color);\n",
              "    }\n",
              "    20% {\n",
              "      border-color: transparent;\n",
              "      border-left-color: var(--fill-color);\n",
              "      border-top-color: var(--fill-color);\n",
              "    }\n",
              "    30% {\n",
              "      border-color: transparent;\n",
              "      border-left-color: var(--fill-color);\n",
              "      border-top-color: var(--fill-color);\n",
              "      border-right-color: var(--fill-color);\n",
              "    }\n",
              "    40% {\n",
              "      border-color: transparent;\n",
              "      border-right-color: var(--fill-color);\n",
              "      border-top-color: var(--fill-color);\n",
              "    }\n",
              "    60% {\n",
              "      border-color: transparent;\n",
              "      border-right-color: var(--fill-color);\n",
              "    }\n",
              "    80% {\n",
              "      border-color: transparent;\n",
              "      border-right-color: var(--fill-color);\n",
              "      border-bottom-color: var(--fill-color);\n",
              "    }\n",
              "    90% {\n",
              "      border-color: transparent;\n",
              "      border-bottom-color: var(--fill-color);\n",
              "    }\n",
              "  }\n",
              "</style>\n",
              "\n",
              "  <script>\n",
              "    async function quickchart(key) {\n",
              "      const quickchartButtonEl =\n",
              "        document.querySelector('#' + key + ' button');\n",
              "      quickchartButtonEl.disabled = true;  // To prevent multiple clicks.\n",
              "      quickchartButtonEl.classList.add('colab-df-spinner');\n",
              "      try {\n",
              "        const charts = await google.colab.kernel.invokeFunction(\n",
              "            'suggestCharts', [key], {});\n",
              "      } catch (error) {\n",
              "        console.error('Error during call to suggestCharts:', error);\n",
              "      }\n",
              "      quickchartButtonEl.classList.remove('colab-df-spinner');\n",
              "      quickchartButtonEl.classList.add('colab-df-quickchart-complete');\n",
              "    }\n",
              "    (() => {\n",
              "      let quickchartButtonEl =\n",
              "        document.querySelector('#df-fcbb211a-3645-4545-a742-dfb220acf1ac button');\n",
              "      quickchartButtonEl.style.display =\n",
              "        google.colab.kernel.accessAllowed ? 'block' : 'none';\n",
              "    })();\n",
              "  </script>\n",
              "</div>\n",
              "\n",
              "  <div id=\"id_03fb145d-9339-4716-9568-327439f0a380\">\n",
              "    <style>\n",
              "      .colab-df-generate {\n",
              "        background-color: #E8F0FE;\n",
              "        border: none;\n",
              "        border-radius: 50%;\n",
              "        cursor: pointer;\n",
              "        display: none;\n",
              "        fill: #1967D2;\n",
              "        height: 32px;\n",
              "        padding: 0 0 0 0;\n",
              "        width: 32px;\n",
              "      }\n",
              "\n",
              "      .colab-df-generate:hover {\n",
              "        background-color: #E2EBFA;\n",
              "        box-shadow: 0px 1px 2px rgba(60, 64, 67, 0.3), 0px 1px 3px 1px rgba(60, 64, 67, 0.15);\n",
              "        fill: #174EA6;\n",
              "      }\n",
              "\n",
              "      [theme=dark] .colab-df-generate {\n",
              "        background-color: #3B4455;\n",
              "        fill: #D2E3FC;\n",
              "      }\n",
              "\n",
              "      [theme=dark] .colab-df-generate:hover {\n",
              "        background-color: #434B5C;\n",
              "        box-shadow: 0px 1px 3px 1px rgba(0, 0, 0, 0.15);\n",
              "        filter: drop-shadow(0px 1px 2px rgba(0, 0, 0, 0.3));\n",
              "        fill: #FFFFFF;\n",
              "      }\n",
              "    </style>\n",
              "    <button class=\"colab-df-generate\" onclick=\"generateWithVariable('df')\"\n",
              "            title=\"Generate code using this dataframe.\"\n",
              "            style=\"display:none;\">\n",
              "\n",
              "  <svg xmlns=\"http://www.w3.org/2000/svg\" height=\"24px\"viewBox=\"0 0 24 24\"\n",
              "       width=\"24px\">\n",
              "    <path d=\"M7,19H8.4L18.45,9,17,7.55,7,17.6ZM5,21V16.75L18.45,3.32a2,2,0,0,1,2.83,0l1.4,1.43a1.91,1.91,0,0,1,.58,1.4,1.91,1.91,0,0,1-.58,1.4L9.25,21ZM18.45,9,17,7.55Zm-12,3A5.31,5.31,0,0,0,4.9,8.1,5.31,5.31,0,0,0,1,6.5,5.31,5.31,0,0,0,4.9,4.9,5.31,5.31,0,0,0,6.5,1,5.31,5.31,0,0,0,8.1,4.9,5.31,5.31,0,0,0,12,6.5,5.46,5.46,0,0,0,6.5,12Z\"/>\n",
              "  </svg>\n",
              "    </button>\n",
              "    <script>\n",
              "      (() => {\n",
              "      const buttonEl =\n",
              "        document.querySelector('#id_03fb145d-9339-4716-9568-327439f0a380 button.colab-df-generate');\n",
              "      buttonEl.style.display =\n",
              "        google.colab.kernel.accessAllowed ? 'block' : 'none';\n",
              "\n",
              "      buttonEl.onclick = () => {\n",
              "        google.colab.notebook.generateWithVariable('df');\n",
              "      }\n",
              "      })();\n",
              "    </script>\n",
              "  </div>\n",
              "\n",
              "    </div>\n",
              "  </div>\n"
            ],
            "application/vnd.google.colaboratory.intrinsic+json": {
              "type": "dataframe",
              "variable_name": "df",
              "summary": "{\n  \"name\": \"df\",\n  \"rows\": 4226,\n  \"fields\": [\n    {\n      \"column\": \"Keyword\",\n      \"properties\": {\n        \"dtype\": \"string\",\n        \"num_unique_values\": 2377,\n        \"samples\": [\n          \"military aircraft\",\n          \"hovering\",\n          \"automation\"\n        ],\n        \"semantic_type\": \"\",\n        \"description\": \"\"\n      }\n    },\n    {\n      \"column\": \"Document ID\",\n      \"properties\": {\n        \"dtype\": \"category\",\n        \"num_unique_values\": 89,\n        \"samples\": [\n          \"90a69dc7-8acb-4cee-88db-a688df0f5ea3\",\n          \"7342c9b2-5c75-47e7-874e-d1ffdfd3d8e3\",\n          \"926b1a0c-5f11-48fa-982e-bd6135f3a602\"\n        ],\n        \"semantic_type\": \"\",\n        \"description\": \"\"\n      }\n    }\n  ]\n}"
            }
          },
          "metadata": {},
          "execution_count": 44
        }
      ]
    },
    {
      "cell_type": "code",
      "source": [
        "keyword_query_engine = keyword_index.as_query_engine(similarity_top_k=k, temperature=temp, num_output=mt)"
      ],
      "metadata": {
        "id": "ix5glq4iuUk5"
      },
      "execution_count": 45,
      "outputs": []
    },
    {
      "cell_type": "code",
      "source": [
        "import time\n",
        "\n",
        "# Start the timer\n",
        "start_time = time.time()\n",
        "\n",
        "# Execute the query (using .query() method)\n",
        "response = keyword_query_engine.query(user_input)\n",
        "\n",
        "# Stop the timer\n",
        "end_time = time.time()\n",
        "\n",
        "# Calculate and print the execution time\n",
        "elapsed_time = end_time - start_time\n",
        "print(f\"Query execution time: {elapsed_time:.4f} seconds\")\n",
        "\n",
        "print(textwrap.fill(str(response), 100))"
      ],
      "metadata": {
        "colab": {
          "base_uri": "https://localhost:8080/"
        },
        "id": "tC8YzxoxuZSH",
        "outputId": "202733cb-8c9f-49b2-bcda-2d2cc00c3c6a"
      },
      "execution_count": 46,
      "outputs": [
        {
          "output_type": "stream",
          "name": "stdout",
          "text": [
            "Query execution time: 2.4031 seconds\n",
            "Drones can identify vehicles through various methods such as visual recognition, object detection,\n",
            "and tracking using computer vision technology. These systems analyze digital images captured by the\n",
            "drones to determine the presence of specific vehicles, their positions in the image, and even their\n",
            "3D poses in the scene. Detection algorithms based on convolutional neural networks are commonly used\n",
            "for this purpose, allowing drones to scan for vehicles in their field of view and identify them\n",
            "accurately.\n"
          ]
        }
      ]
    },
    {
      "cell_type": "markdown",
      "source": [
        "## Performance metric"
      ],
      "metadata": {
        "id": "Ay1I5OY2bWcM"
      }
    },
    {
      "cell_type": "code",
      "source": [
        "similarity_score = calculate_cosine_similarity_with_embeddings(user_input, str(response))\n",
        "print(f\"Cosine Similarity Score: {similarity_score:.3f}\")\n",
        "print(f\"Query execution time: {elapsed_time:.4f} seconds\")\n",
        "performance=similarity_score/elapsed_time\n",
        "print(f\"Performance metric: {performance:.4f}\")"
      ],
      "metadata": {
        "colab": {
          "base_uri": "https://localhost:8080/"
        },
        "outputId": "0c27afe3-2bd4-450f-9dcf-1ad9d0e9ffad",
        "id": "DfdJI586bWcN"
      },
      "execution_count": 47,
      "outputs": [
        {
          "output_type": "stream",
          "name": "stdout",
          "text": [
            "Cosine Similarity Score: 0.717\n",
            "Query execution time: 2.4031 seconds\n",
            "Performance metric: 0.2982\n"
          ]
        }
      ]
    },
    {
      "cell_type": "code",
      "source": [
        "!pip freeze > requirements.txt\n"
      ],
      "metadata": {
        "id": "FNUXGKJEwFJZ"
      },
      "execution_count": 56,
      "outputs": []
    },
    {
      "cell_type": "code",
      "source": [
        "import pyyaml"
      ],
      "metadata": {
        "id": "Fi_NFAhsBPWg",
        "outputId": "4eb13929-36f1-4d37-8bcf-84a24d9e2eea",
        "colab": {
          "base_uri": "https://localhost:8080/",
          "height": 310
        }
      },
      "execution_count": 58,
      "outputs": [
        {
          "output_type": "error",
          "ename": "ModuleNotFoundError",
          "evalue": "No module named 'pyyaml'",
          "traceback": [
            "\u001b[0;31m---------------------------------------------------------------------------\u001b[0m",
            "\u001b[0;31mModuleNotFoundError\u001b[0m                       Traceback (most recent call last)",
            "\u001b[0;32m<ipython-input-58-06d0b6aee234>\u001b[0m in \u001b[0;36m<cell line: 0>\u001b[0;34m()\u001b[0m\n\u001b[0;32m----> 1\u001b[0;31m \u001b[0;32mimport\u001b[0m \u001b[0mpyyaml\u001b[0m\u001b[0;34m\u001b[0m\u001b[0;34m\u001b[0m\u001b[0m\n\u001b[0m",
            "\u001b[0;31mModuleNotFoundError\u001b[0m: No module named 'pyyaml'",
            "",
            "\u001b[0;31m---------------------------------------------------------------------------\u001b[0;32m\nNOTE: If your import is failing due to a missing package, you can\nmanually install dependencies using either !pip or !apt.\n\nTo view examples of installing some common dependencies, click the\n\"Open Examples\" button below.\n\u001b[0;31m---------------------------------------------------------------------------\u001b[0m\n"
          ],
          "errorDetails": {
            "actions": [
              {
                "action": "open_url",
                "actionText": "Open Examples",
                "url": "/notebooks/snippets/importing_libraries.ipynb"
              }
            ]
          }
        }
      ]
    },
    {
      "cell_type": "code",
      "source": [
        "vector_store = DeepLakeVectorStore(dataset_path='hub://owlliming/test', overwrite=True)\n"
      ],
      "metadata": {
        "id": "RijMmuMKE3Wj",
        "outputId": "667a6528-142a-4f21-e037-a88a2d2c760c",
        "colab": {
          "base_uri": "https://localhost:8080/"
        }
      },
      "execution_count": 59,
      "outputs": [
        {
          "output_type": "stream",
          "name": "stdout",
          "text": [
            "Your Deep Lake dataset has been successfully created!\n"
          ]
        },
        {
          "output_type": "stream",
          "name": "stderr",
          "text": []
        }
      ]
    },
    {
      "cell_type": "code",
      "source": [],
      "metadata": {
        "id": "mO4mc0iDJnCt"
      },
      "execution_count": null,
      "outputs": []
    }
  ],
  "metadata": {
    "kernelspec": {
      "display_name": "Python 3 (ipykernel)",
      "language": "python",
      "name": "python3"
    },
    "language_info": {
      "codemirror_mode": {
        "name": "ipython",
        "version": 3
      },
      "file_extension": ".py",
      "mimetype": "text/x-python",
      "name": "python",
      "nbconvert_exporter": "python",
      "pygments_lexer": "ipython3"
    },
    "vscode": {
      "interpreter": {
        "hash": "6e44765f40d39e4c6e3d7a9b35e5b42b8711c1c0fb3c237b84fa62e4b3e35e04"
      }
    },
    "colab": {
      "provenance": []
    },
    "widgets": {
      "application/vnd.jupyter.widget-state+json": {
        "adf32f7f94e34535a53aa5ac586e1de0": {
          "model_module": "@jupyter-widgets/controls",
          "model_name": "HBoxModel",
          "model_module_version": "1.5.0",
          "state": {
            "_dom_classes": [],
            "_model_module": "@jupyter-widgets/controls",
            "_model_module_version": "1.5.0",
            "_model_name": "HBoxModel",
            "_view_count": null,
            "_view_module": "@jupyter-widgets/controls",
            "_view_module_version": "1.5.0",
            "_view_name": "HBoxView",
            "box_style": "",
            "children": [
              "IPY_MODEL_88eb5b7b509644e58d67f3e01525bd2a",
              "IPY_MODEL_50744db246d64d1caf45ab2bbf7b584d",
              "IPY_MODEL_21c964f3bf9945b491dd3cce5cbfa6b4"
            ],
            "layout": "IPY_MODEL_6a724ba78c254cab83785c73317cea50"
          }
        },
        "88eb5b7b509644e58d67f3e01525bd2a": {
          "model_module": "@jupyter-widgets/controls",
          "model_name": "HTMLModel",
          "model_module_version": "1.5.0",
          "state": {
            "_dom_classes": [],
            "_model_module": "@jupyter-widgets/controls",
            "_model_module_version": "1.5.0",
            "_model_name": "HTMLModel",
            "_view_count": null,
            "_view_module": "@jupyter-widgets/controls",
            "_view_module_version": "1.5.0",
            "_view_name": "HTMLView",
            "description": "",
            "description_tooltip": null,
            "layout": "IPY_MODEL_3a508fd5132d4a5c87875c969668869a",
            "placeholder": "​",
            "style": "IPY_MODEL_de4c474e9d5f4ce8982345701dbc9386",
            "value": "modules.json: 100%"
          }
        },
        "50744db246d64d1caf45ab2bbf7b584d": {
          "model_module": "@jupyter-widgets/controls",
          "model_name": "FloatProgressModel",
          "model_module_version": "1.5.0",
          "state": {
            "_dom_classes": [],
            "_model_module": "@jupyter-widgets/controls",
            "_model_module_version": "1.5.0",
            "_model_name": "FloatProgressModel",
            "_view_count": null,
            "_view_module": "@jupyter-widgets/controls",
            "_view_module_version": "1.5.0",
            "_view_name": "ProgressView",
            "bar_style": "success",
            "description": "",
            "description_tooltip": null,
            "layout": "IPY_MODEL_302019b75bd444539bb08f5561cda17d",
            "max": 349,
            "min": 0,
            "orientation": "horizontal",
            "style": "IPY_MODEL_24af5055d2eb43d0a7443426734f646d",
            "value": 349
          }
        },
        "21c964f3bf9945b491dd3cce5cbfa6b4": {
          "model_module": "@jupyter-widgets/controls",
          "model_name": "HTMLModel",
          "model_module_version": "1.5.0",
          "state": {
            "_dom_classes": [],
            "_model_module": "@jupyter-widgets/controls",
            "_model_module_version": "1.5.0",
            "_model_name": "HTMLModel",
            "_view_count": null,
            "_view_module": "@jupyter-widgets/controls",
            "_view_module_version": "1.5.0",
            "_view_name": "HTMLView",
            "description": "",
            "description_tooltip": null,
            "layout": "IPY_MODEL_3204f6cec28c4576882fd0a23e9dad71",
            "placeholder": "​",
            "style": "IPY_MODEL_316abcf7d02c407e894fee1fe8ea724f",
            "value": " 349/349 [00:00&lt;00:00, 21.6kB/s]"
          }
        },
        "6a724ba78c254cab83785c73317cea50": {
          "model_module": "@jupyter-widgets/base",
          "model_name": "LayoutModel",
          "model_module_version": "1.2.0",
          "state": {
            "_model_module": "@jupyter-widgets/base",
            "_model_module_version": "1.2.0",
            "_model_name": "LayoutModel",
            "_view_count": null,
            "_view_module": "@jupyter-widgets/base",
            "_view_module_version": "1.2.0",
            "_view_name": "LayoutView",
            "align_content": null,
            "align_items": null,
            "align_self": null,
            "border": null,
            "bottom": null,
            "display": null,
            "flex": null,
            "flex_flow": null,
            "grid_area": null,
            "grid_auto_columns": null,
            "grid_auto_flow": null,
            "grid_auto_rows": null,
            "grid_column": null,
            "grid_gap": null,
            "grid_row": null,
            "grid_template_areas": null,
            "grid_template_columns": null,
            "grid_template_rows": null,
            "height": null,
            "justify_content": null,
            "justify_items": null,
            "left": null,
            "margin": null,
            "max_height": null,
            "max_width": null,
            "min_height": null,
            "min_width": null,
            "object_fit": null,
            "object_position": null,
            "order": null,
            "overflow": null,
            "overflow_x": null,
            "overflow_y": null,
            "padding": null,
            "right": null,
            "top": null,
            "visibility": null,
            "width": null
          }
        },
        "3a508fd5132d4a5c87875c969668869a": {
          "model_module": "@jupyter-widgets/base",
          "model_name": "LayoutModel",
          "model_module_version": "1.2.0",
          "state": {
            "_model_module": "@jupyter-widgets/base",
            "_model_module_version": "1.2.0",
            "_model_name": "LayoutModel",
            "_view_count": null,
            "_view_module": "@jupyter-widgets/base",
            "_view_module_version": "1.2.0",
            "_view_name": "LayoutView",
            "align_content": null,
            "align_items": null,
            "align_self": null,
            "border": null,
            "bottom": null,
            "display": null,
            "flex": null,
            "flex_flow": null,
            "grid_area": null,
            "grid_auto_columns": null,
            "grid_auto_flow": null,
            "grid_auto_rows": null,
            "grid_column": null,
            "grid_gap": null,
            "grid_row": null,
            "grid_template_areas": null,
            "grid_template_columns": null,
            "grid_template_rows": null,
            "height": null,
            "justify_content": null,
            "justify_items": null,
            "left": null,
            "margin": null,
            "max_height": null,
            "max_width": null,
            "min_height": null,
            "min_width": null,
            "object_fit": null,
            "object_position": null,
            "order": null,
            "overflow": null,
            "overflow_x": null,
            "overflow_y": null,
            "padding": null,
            "right": null,
            "top": null,
            "visibility": null,
            "width": null
          }
        },
        "de4c474e9d5f4ce8982345701dbc9386": {
          "model_module": "@jupyter-widgets/controls",
          "model_name": "DescriptionStyleModel",
          "model_module_version": "1.5.0",
          "state": {
            "_model_module": "@jupyter-widgets/controls",
            "_model_module_version": "1.5.0",
            "_model_name": "DescriptionStyleModel",
            "_view_count": null,
            "_view_module": "@jupyter-widgets/base",
            "_view_module_version": "1.2.0",
            "_view_name": "StyleView",
            "description_width": ""
          }
        },
        "302019b75bd444539bb08f5561cda17d": {
          "model_module": "@jupyter-widgets/base",
          "model_name": "LayoutModel",
          "model_module_version": "1.2.0",
          "state": {
            "_model_module": "@jupyter-widgets/base",
            "_model_module_version": "1.2.0",
            "_model_name": "LayoutModel",
            "_view_count": null,
            "_view_module": "@jupyter-widgets/base",
            "_view_module_version": "1.2.0",
            "_view_name": "LayoutView",
            "align_content": null,
            "align_items": null,
            "align_self": null,
            "border": null,
            "bottom": null,
            "display": null,
            "flex": null,
            "flex_flow": null,
            "grid_area": null,
            "grid_auto_columns": null,
            "grid_auto_flow": null,
            "grid_auto_rows": null,
            "grid_column": null,
            "grid_gap": null,
            "grid_row": null,
            "grid_template_areas": null,
            "grid_template_columns": null,
            "grid_template_rows": null,
            "height": null,
            "justify_content": null,
            "justify_items": null,
            "left": null,
            "margin": null,
            "max_height": null,
            "max_width": null,
            "min_height": null,
            "min_width": null,
            "object_fit": null,
            "object_position": null,
            "order": null,
            "overflow": null,
            "overflow_x": null,
            "overflow_y": null,
            "padding": null,
            "right": null,
            "top": null,
            "visibility": null,
            "width": null
          }
        },
        "24af5055d2eb43d0a7443426734f646d": {
          "model_module": "@jupyter-widgets/controls",
          "model_name": "ProgressStyleModel",
          "model_module_version": "1.5.0",
          "state": {
            "_model_module": "@jupyter-widgets/controls",
            "_model_module_version": "1.5.0",
            "_model_name": "ProgressStyleModel",
            "_view_count": null,
            "_view_module": "@jupyter-widgets/base",
            "_view_module_version": "1.2.0",
            "_view_name": "StyleView",
            "bar_color": null,
            "description_width": ""
          }
        },
        "3204f6cec28c4576882fd0a23e9dad71": {
          "model_module": "@jupyter-widgets/base",
          "model_name": "LayoutModel",
          "model_module_version": "1.2.0",
          "state": {
            "_model_module": "@jupyter-widgets/base",
            "_model_module_version": "1.2.0",
            "_model_name": "LayoutModel",
            "_view_count": null,
            "_view_module": "@jupyter-widgets/base",
            "_view_module_version": "1.2.0",
            "_view_name": "LayoutView",
            "align_content": null,
            "align_items": null,
            "align_self": null,
            "border": null,
            "bottom": null,
            "display": null,
            "flex": null,
            "flex_flow": null,
            "grid_area": null,
            "grid_auto_columns": null,
            "grid_auto_flow": null,
            "grid_auto_rows": null,
            "grid_column": null,
            "grid_gap": null,
            "grid_row": null,
            "grid_template_areas": null,
            "grid_template_columns": null,
            "grid_template_rows": null,
            "height": null,
            "justify_content": null,
            "justify_items": null,
            "left": null,
            "margin": null,
            "max_height": null,
            "max_width": null,
            "min_height": null,
            "min_width": null,
            "object_fit": null,
            "object_position": null,
            "order": null,
            "overflow": null,
            "overflow_x": null,
            "overflow_y": null,
            "padding": null,
            "right": null,
            "top": null,
            "visibility": null,
            "width": null
          }
        },
        "316abcf7d02c407e894fee1fe8ea724f": {
          "model_module": "@jupyter-widgets/controls",
          "model_name": "DescriptionStyleModel",
          "model_module_version": "1.5.0",
          "state": {
            "_model_module": "@jupyter-widgets/controls",
            "_model_module_version": "1.5.0",
            "_model_name": "DescriptionStyleModel",
            "_view_count": null,
            "_view_module": "@jupyter-widgets/base",
            "_view_module_version": "1.2.0",
            "_view_name": "StyleView",
            "description_width": ""
          }
        },
        "41b58113f8b0419790d5e1be34ff0921": {
          "model_module": "@jupyter-widgets/controls",
          "model_name": "HBoxModel",
          "model_module_version": "1.5.0",
          "state": {
            "_dom_classes": [],
            "_model_module": "@jupyter-widgets/controls",
            "_model_module_version": "1.5.0",
            "_model_name": "HBoxModel",
            "_view_count": null,
            "_view_module": "@jupyter-widgets/controls",
            "_view_module_version": "1.5.0",
            "_view_name": "HBoxView",
            "box_style": "",
            "children": [
              "IPY_MODEL_8c123b5c39d64720b96317e1e9ab41a0",
              "IPY_MODEL_9b3efb8432a744dd93429156954c91ca",
              "IPY_MODEL_7b652f6367c84fc9a4c1027f93301737"
            ],
            "layout": "IPY_MODEL_8907adcfaed1480a9a346aae1e9d52ca"
          }
        },
        "8c123b5c39d64720b96317e1e9ab41a0": {
          "model_module": "@jupyter-widgets/controls",
          "model_name": "HTMLModel",
          "model_module_version": "1.5.0",
          "state": {
            "_dom_classes": [],
            "_model_module": "@jupyter-widgets/controls",
            "_model_module_version": "1.5.0",
            "_model_name": "HTMLModel",
            "_view_count": null,
            "_view_module": "@jupyter-widgets/controls",
            "_view_module_version": "1.5.0",
            "_view_name": "HTMLView",
            "description": "",
            "description_tooltip": null,
            "layout": "IPY_MODEL_e4ec23c126574e218ca4b4262a99d12f",
            "placeholder": "​",
            "style": "IPY_MODEL_fc739456afab4e39ac8d28560b41ff50",
            "value": "config_sentence_transformers.json: 100%"
          }
        },
        "9b3efb8432a744dd93429156954c91ca": {
          "model_module": "@jupyter-widgets/controls",
          "model_name": "FloatProgressModel",
          "model_module_version": "1.5.0",
          "state": {
            "_dom_classes": [],
            "_model_module": "@jupyter-widgets/controls",
            "_model_module_version": "1.5.0",
            "_model_name": "FloatProgressModel",
            "_view_count": null,
            "_view_module": "@jupyter-widgets/controls",
            "_view_module_version": "1.5.0",
            "_view_name": "ProgressView",
            "bar_style": "success",
            "description": "",
            "description_tooltip": null,
            "layout": "IPY_MODEL_487a512bbac8422287e0e33b24478b18",
            "max": 116,
            "min": 0,
            "orientation": "horizontal",
            "style": "IPY_MODEL_a98cf6ba8fd84200a94964cd2533de90",
            "value": 116
          }
        },
        "7b652f6367c84fc9a4c1027f93301737": {
          "model_module": "@jupyter-widgets/controls",
          "model_name": "HTMLModel",
          "model_module_version": "1.5.0",
          "state": {
            "_dom_classes": [],
            "_model_module": "@jupyter-widgets/controls",
            "_model_module_version": "1.5.0",
            "_model_name": "HTMLModel",
            "_view_count": null,
            "_view_module": "@jupyter-widgets/controls",
            "_view_module_version": "1.5.0",
            "_view_name": "HTMLView",
            "description": "",
            "description_tooltip": null,
            "layout": "IPY_MODEL_8e0b108f62464b1baadffe50a1d6139d",
            "placeholder": "​",
            "style": "IPY_MODEL_a544a2e76c1b42a7aaa44eaa626c2c93",
            "value": " 116/116 [00:00&lt;00:00, 3.66kB/s]"
          }
        },
        "8907adcfaed1480a9a346aae1e9d52ca": {
          "model_module": "@jupyter-widgets/base",
          "model_name": "LayoutModel",
          "model_module_version": "1.2.0",
          "state": {
            "_model_module": "@jupyter-widgets/base",
            "_model_module_version": "1.2.0",
            "_model_name": "LayoutModel",
            "_view_count": null,
            "_view_module": "@jupyter-widgets/base",
            "_view_module_version": "1.2.0",
            "_view_name": "LayoutView",
            "align_content": null,
            "align_items": null,
            "align_self": null,
            "border": null,
            "bottom": null,
            "display": null,
            "flex": null,
            "flex_flow": null,
            "grid_area": null,
            "grid_auto_columns": null,
            "grid_auto_flow": null,
            "grid_auto_rows": null,
            "grid_column": null,
            "grid_gap": null,
            "grid_row": null,
            "grid_template_areas": null,
            "grid_template_columns": null,
            "grid_template_rows": null,
            "height": null,
            "justify_content": null,
            "justify_items": null,
            "left": null,
            "margin": null,
            "max_height": null,
            "max_width": null,
            "min_height": null,
            "min_width": null,
            "object_fit": null,
            "object_position": null,
            "order": null,
            "overflow": null,
            "overflow_x": null,
            "overflow_y": null,
            "padding": null,
            "right": null,
            "top": null,
            "visibility": null,
            "width": null
          }
        },
        "e4ec23c126574e218ca4b4262a99d12f": {
          "model_module": "@jupyter-widgets/base",
          "model_name": "LayoutModel",
          "model_module_version": "1.2.0",
          "state": {
            "_model_module": "@jupyter-widgets/base",
            "_model_module_version": "1.2.0",
            "_model_name": "LayoutModel",
            "_view_count": null,
            "_view_module": "@jupyter-widgets/base",
            "_view_module_version": "1.2.0",
            "_view_name": "LayoutView",
            "align_content": null,
            "align_items": null,
            "align_self": null,
            "border": null,
            "bottom": null,
            "display": null,
            "flex": null,
            "flex_flow": null,
            "grid_area": null,
            "grid_auto_columns": null,
            "grid_auto_flow": null,
            "grid_auto_rows": null,
            "grid_column": null,
            "grid_gap": null,
            "grid_row": null,
            "grid_template_areas": null,
            "grid_template_columns": null,
            "grid_template_rows": null,
            "height": null,
            "justify_content": null,
            "justify_items": null,
            "left": null,
            "margin": null,
            "max_height": null,
            "max_width": null,
            "min_height": null,
            "min_width": null,
            "object_fit": null,
            "object_position": null,
            "order": null,
            "overflow": null,
            "overflow_x": null,
            "overflow_y": null,
            "padding": null,
            "right": null,
            "top": null,
            "visibility": null,
            "width": null
          }
        },
        "fc739456afab4e39ac8d28560b41ff50": {
          "model_module": "@jupyter-widgets/controls",
          "model_name": "DescriptionStyleModel",
          "model_module_version": "1.5.0",
          "state": {
            "_model_module": "@jupyter-widgets/controls",
            "_model_module_version": "1.5.0",
            "_model_name": "DescriptionStyleModel",
            "_view_count": null,
            "_view_module": "@jupyter-widgets/base",
            "_view_module_version": "1.2.0",
            "_view_name": "StyleView",
            "description_width": ""
          }
        },
        "487a512bbac8422287e0e33b24478b18": {
          "model_module": "@jupyter-widgets/base",
          "model_name": "LayoutModel",
          "model_module_version": "1.2.0",
          "state": {
            "_model_module": "@jupyter-widgets/base",
            "_model_module_version": "1.2.0",
            "_model_name": "LayoutModel",
            "_view_count": null,
            "_view_module": "@jupyter-widgets/base",
            "_view_module_version": "1.2.0",
            "_view_name": "LayoutView",
            "align_content": null,
            "align_items": null,
            "align_self": null,
            "border": null,
            "bottom": null,
            "display": null,
            "flex": null,
            "flex_flow": null,
            "grid_area": null,
            "grid_auto_columns": null,
            "grid_auto_flow": null,
            "grid_auto_rows": null,
            "grid_column": null,
            "grid_gap": null,
            "grid_row": null,
            "grid_template_areas": null,
            "grid_template_columns": null,
            "grid_template_rows": null,
            "height": null,
            "justify_content": null,
            "justify_items": null,
            "left": null,
            "margin": null,
            "max_height": null,
            "max_width": null,
            "min_height": null,
            "min_width": null,
            "object_fit": null,
            "object_position": null,
            "order": null,
            "overflow": null,
            "overflow_x": null,
            "overflow_y": null,
            "padding": null,
            "right": null,
            "top": null,
            "visibility": null,
            "width": null
          }
        },
        "a98cf6ba8fd84200a94964cd2533de90": {
          "model_module": "@jupyter-widgets/controls",
          "model_name": "ProgressStyleModel",
          "model_module_version": "1.5.0",
          "state": {
            "_model_module": "@jupyter-widgets/controls",
            "_model_module_version": "1.5.0",
            "_model_name": "ProgressStyleModel",
            "_view_count": null,
            "_view_module": "@jupyter-widgets/base",
            "_view_module_version": "1.2.0",
            "_view_name": "StyleView",
            "bar_color": null,
            "description_width": ""
          }
        },
        "8e0b108f62464b1baadffe50a1d6139d": {
          "model_module": "@jupyter-widgets/base",
          "model_name": "LayoutModel",
          "model_module_version": "1.2.0",
          "state": {
            "_model_module": "@jupyter-widgets/base",
            "_model_module_version": "1.2.0",
            "_model_name": "LayoutModel",
            "_view_count": null,
            "_view_module": "@jupyter-widgets/base",
            "_view_module_version": "1.2.0",
            "_view_name": "LayoutView",
            "align_content": null,
            "align_items": null,
            "align_self": null,
            "border": null,
            "bottom": null,
            "display": null,
            "flex": null,
            "flex_flow": null,
            "grid_area": null,
            "grid_auto_columns": null,
            "grid_auto_flow": null,
            "grid_auto_rows": null,
            "grid_column": null,
            "grid_gap": null,
            "grid_row": null,
            "grid_template_areas": null,
            "grid_template_columns": null,
            "grid_template_rows": null,
            "height": null,
            "justify_content": null,
            "justify_items": null,
            "left": null,
            "margin": null,
            "max_height": null,
            "max_width": null,
            "min_height": null,
            "min_width": null,
            "object_fit": null,
            "object_position": null,
            "order": null,
            "overflow": null,
            "overflow_x": null,
            "overflow_y": null,
            "padding": null,
            "right": null,
            "top": null,
            "visibility": null,
            "width": null
          }
        },
        "a544a2e76c1b42a7aaa44eaa626c2c93": {
          "model_module": "@jupyter-widgets/controls",
          "model_name": "DescriptionStyleModel",
          "model_module_version": "1.5.0",
          "state": {
            "_model_module": "@jupyter-widgets/controls",
            "_model_module_version": "1.5.0",
            "_model_name": "DescriptionStyleModel",
            "_view_count": null,
            "_view_module": "@jupyter-widgets/base",
            "_view_module_version": "1.2.0",
            "_view_name": "StyleView",
            "description_width": ""
          }
        },
        "a049afb9f8fd49fe82968a78a81dcada": {
          "model_module": "@jupyter-widgets/controls",
          "model_name": "HBoxModel",
          "model_module_version": "1.5.0",
          "state": {
            "_dom_classes": [],
            "_model_module": "@jupyter-widgets/controls",
            "_model_module_version": "1.5.0",
            "_model_name": "HBoxModel",
            "_view_count": null,
            "_view_module": "@jupyter-widgets/controls",
            "_view_module_version": "1.5.0",
            "_view_name": "HBoxView",
            "box_style": "",
            "children": [
              "IPY_MODEL_718005f47087422699ddb80b175f5038",
              "IPY_MODEL_bdf9740f53f647569b0c344cc30613b1",
              "IPY_MODEL_6e64488dedfa4c809f729e10010eb4ea"
            ],
            "layout": "IPY_MODEL_bc471af321524f38a52fce691a6a4d50"
          }
        },
        "718005f47087422699ddb80b175f5038": {
          "model_module": "@jupyter-widgets/controls",
          "model_name": "HTMLModel",
          "model_module_version": "1.5.0",
          "state": {
            "_dom_classes": [],
            "_model_module": "@jupyter-widgets/controls",
            "_model_module_version": "1.5.0",
            "_model_name": "HTMLModel",
            "_view_count": null,
            "_view_module": "@jupyter-widgets/controls",
            "_view_module_version": "1.5.0",
            "_view_name": "HTMLView",
            "description": "",
            "description_tooltip": null,
            "layout": "IPY_MODEL_acb2c3b058cc4bed87b6ebee6526daa1",
            "placeholder": "​",
            "style": "IPY_MODEL_45e106646c0146f89f5ae7541c57d50b",
            "value": "README.md: 100%"
          }
        },
        "bdf9740f53f647569b0c344cc30613b1": {
          "model_module": "@jupyter-widgets/controls",
          "model_name": "FloatProgressModel",
          "model_module_version": "1.5.0",
          "state": {
            "_dom_classes": [],
            "_model_module": "@jupyter-widgets/controls",
            "_model_module_version": "1.5.0",
            "_model_name": "FloatProgressModel",
            "_view_count": null,
            "_view_module": "@jupyter-widgets/controls",
            "_view_module_version": "1.5.0",
            "_view_name": "ProgressView",
            "bar_style": "success",
            "description": "",
            "description_tooltip": null,
            "layout": "IPY_MODEL_f7a3996e04764795ae187004db4337a9",
            "max": 10454,
            "min": 0,
            "orientation": "horizontal",
            "style": "IPY_MODEL_f006284551c6468a9aa9fb78c538405b",
            "value": 10454
          }
        },
        "6e64488dedfa4c809f729e10010eb4ea": {
          "model_module": "@jupyter-widgets/controls",
          "model_name": "HTMLModel",
          "model_module_version": "1.5.0",
          "state": {
            "_dom_classes": [],
            "_model_module": "@jupyter-widgets/controls",
            "_model_module_version": "1.5.0",
            "_model_name": "HTMLModel",
            "_view_count": null,
            "_view_module": "@jupyter-widgets/controls",
            "_view_module_version": "1.5.0",
            "_view_name": "HTMLView",
            "description": "",
            "description_tooltip": null,
            "layout": "IPY_MODEL_7f4e4bb3f52448efb8154408b945b44c",
            "placeholder": "​",
            "style": "IPY_MODEL_4545d5c51d3146fe816c762f5261088f",
            "value": " 10.5k/10.5k [00:00&lt;00:00, 151kB/s]"
          }
        },
        "bc471af321524f38a52fce691a6a4d50": {
          "model_module": "@jupyter-widgets/base",
          "model_name": "LayoutModel",
          "model_module_version": "1.2.0",
          "state": {
            "_model_module": "@jupyter-widgets/base",
            "_model_module_version": "1.2.0",
            "_model_name": "LayoutModel",
            "_view_count": null,
            "_view_module": "@jupyter-widgets/base",
            "_view_module_version": "1.2.0",
            "_view_name": "LayoutView",
            "align_content": null,
            "align_items": null,
            "align_self": null,
            "border": null,
            "bottom": null,
            "display": null,
            "flex": null,
            "flex_flow": null,
            "grid_area": null,
            "grid_auto_columns": null,
            "grid_auto_flow": null,
            "grid_auto_rows": null,
            "grid_column": null,
            "grid_gap": null,
            "grid_row": null,
            "grid_template_areas": null,
            "grid_template_columns": null,
            "grid_template_rows": null,
            "height": null,
            "justify_content": null,
            "justify_items": null,
            "left": null,
            "margin": null,
            "max_height": null,
            "max_width": null,
            "min_height": null,
            "min_width": null,
            "object_fit": null,
            "object_position": null,
            "order": null,
            "overflow": null,
            "overflow_x": null,
            "overflow_y": null,
            "padding": null,
            "right": null,
            "top": null,
            "visibility": null,
            "width": null
          }
        },
        "acb2c3b058cc4bed87b6ebee6526daa1": {
          "model_module": "@jupyter-widgets/base",
          "model_name": "LayoutModel",
          "model_module_version": "1.2.0",
          "state": {
            "_model_module": "@jupyter-widgets/base",
            "_model_module_version": "1.2.0",
            "_model_name": "LayoutModel",
            "_view_count": null,
            "_view_module": "@jupyter-widgets/base",
            "_view_module_version": "1.2.0",
            "_view_name": "LayoutView",
            "align_content": null,
            "align_items": null,
            "align_self": null,
            "border": null,
            "bottom": null,
            "display": null,
            "flex": null,
            "flex_flow": null,
            "grid_area": null,
            "grid_auto_columns": null,
            "grid_auto_flow": null,
            "grid_auto_rows": null,
            "grid_column": null,
            "grid_gap": null,
            "grid_row": null,
            "grid_template_areas": null,
            "grid_template_columns": null,
            "grid_template_rows": null,
            "height": null,
            "justify_content": null,
            "justify_items": null,
            "left": null,
            "margin": null,
            "max_height": null,
            "max_width": null,
            "min_height": null,
            "min_width": null,
            "object_fit": null,
            "object_position": null,
            "order": null,
            "overflow": null,
            "overflow_x": null,
            "overflow_y": null,
            "padding": null,
            "right": null,
            "top": null,
            "visibility": null,
            "width": null
          }
        },
        "45e106646c0146f89f5ae7541c57d50b": {
          "model_module": "@jupyter-widgets/controls",
          "model_name": "DescriptionStyleModel",
          "model_module_version": "1.5.0",
          "state": {
            "_model_module": "@jupyter-widgets/controls",
            "_model_module_version": "1.5.0",
            "_model_name": "DescriptionStyleModel",
            "_view_count": null,
            "_view_module": "@jupyter-widgets/base",
            "_view_module_version": "1.2.0",
            "_view_name": "StyleView",
            "description_width": ""
          }
        },
        "f7a3996e04764795ae187004db4337a9": {
          "model_module": "@jupyter-widgets/base",
          "model_name": "LayoutModel",
          "model_module_version": "1.2.0",
          "state": {
            "_model_module": "@jupyter-widgets/base",
            "_model_module_version": "1.2.0",
            "_model_name": "LayoutModel",
            "_view_count": null,
            "_view_module": "@jupyter-widgets/base",
            "_view_module_version": "1.2.0",
            "_view_name": "LayoutView",
            "align_content": null,
            "align_items": null,
            "align_self": null,
            "border": null,
            "bottom": null,
            "display": null,
            "flex": null,
            "flex_flow": null,
            "grid_area": null,
            "grid_auto_columns": null,
            "grid_auto_flow": null,
            "grid_auto_rows": null,
            "grid_column": null,
            "grid_gap": null,
            "grid_row": null,
            "grid_template_areas": null,
            "grid_template_columns": null,
            "grid_template_rows": null,
            "height": null,
            "justify_content": null,
            "justify_items": null,
            "left": null,
            "margin": null,
            "max_height": null,
            "max_width": null,
            "min_height": null,
            "min_width": null,
            "object_fit": null,
            "object_position": null,
            "order": null,
            "overflow": null,
            "overflow_x": null,
            "overflow_y": null,
            "padding": null,
            "right": null,
            "top": null,
            "visibility": null,
            "width": null
          }
        },
        "f006284551c6468a9aa9fb78c538405b": {
          "model_module": "@jupyter-widgets/controls",
          "model_name": "ProgressStyleModel",
          "model_module_version": "1.5.0",
          "state": {
            "_model_module": "@jupyter-widgets/controls",
            "_model_module_version": "1.5.0",
            "_model_name": "ProgressStyleModel",
            "_view_count": null,
            "_view_module": "@jupyter-widgets/base",
            "_view_module_version": "1.2.0",
            "_view_name": "StyleView",
            "bar_color": null,
            "description_width": ""
          }
        },
        "7f4e4bb3f52448efb8154408b945b44c": {
          "model_module": "@jupyter-widgets/base",
          "model_name": "LayoutModel",
          "model_module_version": "1.2.0",
          "state": {
            "_model_module": "@jupyter-widgets/base",
            "_model_module_version": "1.2.0",
            "_model_name": "LayoutModel",
            "_view_count": null,
            "_view_module": "@jupyter-widgets/base",
            "_view_module_version": "1.2.0",
            "_view_name": "LayoutView",
            "align_content": null,
            "align_items": null,
            "align_self": null,
            "border": null,
            "bottom": null,
            "display": null,
            "flex": null,
            "flex_flow": null,
            "grid_area": null,
            "grid_auto_columns": null,
            "grid_auto_flow": null,
            "grid_auto_rows": null,
            "grid_column": null,
            "grid_gap": null,
            "grid_row": null,
            "grid_template_areas": null,
            "grid_template_columns": null,
            "grid_template_rows": null,
            "height": null,
            "justify_content": null,
            "justify_items": null,
            "left": null,
            "margin": null,
            "max_height": null,
            "max_width": null,
            "min_height": null,
            "min_width": null,
            "object_fit": null,
            "object_position": null,
            "order": null,
            "overflow": null,
            "overflow_x": null,
            "overflow_y": null,
            "padding": null,
            "right": null,
            "top": null,
            "visibility": null,
            "width": null
          }
        },
        "4545d5c51d3146fe816c762f5261088f": {
          "model_module": "@jupyter-widgets/controls",
          "model_name": "DescriptionStyleModel",
          "model_module_version": "1.5.0",
          "state": {
            "_model_module": "@jupyter-widgets/controls",
            "_model_module_version": "1.5.0",
            "_model_name": "DescriptionStyleModel",
            "_view_count": null,
            "_view_module": "@jupyter-widgets/base",
            "_view_module_version": "1.2.0",
            "_view_name": "StyleView",
            "description_width": ""
          }
        },
        "59ed1c3a50ca4a19b8496065bcd503db": {
          "model_module": "@jupyter-widgets/controls",
          "model_name": "HBoxModel",
          "model_module_version": "1.5.0",
          "state": {
            "_dom_classes": [],
            "_model_module": "@jupyter-widgets/controls",
            "_model_module_version": "1.5.0",
            "_model_name": "HBoxModel",
            "_view_count": null,
            "_view_module": "@jupyter-widgets/controls",
            "_view_module_version": "1.5.0",
            "_view_name": "HBoxView",
            "box_style": "",
            "children": [
              "IPY_MODEL_7a4f26f5dc8a4c8a86397a5c7141d54e",
              "IPY_MODEL_a35a22b0e5b84becaf5b99de8b4b1144",
              "IPY_MODEL_ea4d4561ee5a44f49df6c279a5a728e5"
            ],
            "layout": "IPY_MODEL_c0a36f3e0ab44ad5a05c5ae955588a38"
          }
        },
        "7a4f26f5dc8a4c8a86397a5c7141d54e": {
          "model_module": "@jupyter-widgets/controls",
          "model_name": "HTMLModel",
          "model_module_version": "1.5.0",
          "state": {
            "_dom_classes": [],
            "_model_module": "@jupyter-widgets/controls",
            "_model_module_version": "1.5.0",
            "_model_name": "HTMLModel",
            "_view_count": null,
            "_view_module": "@jupyter-widgets/controls",
            "_view_module_version": "1.5.0",
            "_view_name": "HTMLView",
            "description": "",
            "description_tooltip": null,
            "layout": "IPY_MODEL_97d78eb39cba4fbb8bd59322a3a7e357",
            "placeholder": "​",
            "style": "IPY_MODEL_0902fafd751d40a98647cca9c178b2d5",
            "value": "sentence_bert_config.json: 100%"
          }
        },
        "a35a22b0e5b84becaf5b99de8b4b1144": {
          "model_module": "@jupyter-widgets/controls",
          "model_name": "FloatProgressModel",
          "model_module_version": "1.5.0",
          "state": {
            "_dom_classes": [],
            "_model_module": "@jupyter-widgets/controls",
            "_model_module_version": "1.5.0",
            "_model_name": "FloatProgressModel",
            "_view_count": null,
            "_view_module": "@jupyter-widgets/controls",
            "_view_module_version": "1.5.0",
            "_view_name": "ProgressView",
            "bar_style": "success",
            "description": "",
            "description_tooltip": null,
            "layout": "IPY_MODEL_227cd470a04741a4a4bdce347a03599f",
            "max": 53,
            "min": 0,
            "orientation": "horizontal",
            "style": "IPY_MODEL_79f1747d77d446f3b3e494bda3dec7f2",
            "value": 53
          }
        },
        "ea4d4561ee5a44f49df6c279a5a728e5": {
          "model_module": "@jupyter-widgets/controls",
          "model_name": "HTMLModel",
          "model_module_version": "1.5.0",
          "state": {
            "_dom_classes": [],
            "_model_module": "@jupyter-widgets/controls",
            "_model_module_version": "1.5.0",
            "_model_name": "HTMLModel",
            "_view_count": null,
            "_view_module": "@jupyter-widgets/controls",
            "_view_module_version": "1.5.0",
            "_view_name": "HTMLView",
            "description": "",
            "description_tooltip": null,
            "layout": "IPY_MODEL_b4ff589b52d345c7b0ce82b93f35e12b",
            "placeholder": "​",
            "style": "IPY_MODEL_6086a44978ba4abcb13f7a3941a35709",
            "value": " 53.0/53.0 [00:00&lt;00:00, 937B/s]"
          }
        },
        "c0a36f3e0ab44ad5a05c5ae955588a38": {
          "model_module": "@jupyter-widgets/base",
          "model_name": "LayoutModel",
          "model_module_version": "1.2.0",
          "state": {
            "_model_module": "@jupyter-widgets/base",
            "_model_module_version": "1.2.0",
            "_model_name": "LayoutModel",
            "_view_count": null,
            "_view_module": "@jupyter-widgets/base",
            "_view_module_version": "1.2.0",
            "_view_name": "LayoutView",
            "align_content": null,
            "align_items": null,
            "align_self": null,
            "border": null,
            "bottom": null,
            "display": null,
            "flex": null,
            "flex_flow": null,
            "grid_area": null,
            "grid_auto_columns": null,
            "grid_auto_flow": null,
            "grid_auto_rows": null,
            "grid_column": null,
            "grid_gap": null,
            "grid_row": null,
            "grid_template_areas": null,
            "grid_template_columns": null,
            "grid_template_rows": null,
            "height": null,
            "justify_content": null,
            "justify_items": null,
            "left": null,
            "margin": null,
            "max_height": null,
            "max_width": null,
            "min_height": null,
            "min_width": null,
            "object_fit": null,
            "object_position": null,
            "order": null,
            "overflow": null,
            "overflow_x": null,
            "overflow_y": null,
            "padding": null,
            "right": null,
            "top": null,
            "visibility": null,
            "width": null
          }
        },
        "97d78eb39cba4fbb8bd59322a3a7e357": {
          "model_module": "@jupyter-widgets/base",
          "model_name": "LayoutModel",
          "model_module_version": "1.2.0",
          "state": {
            "_model_module": "@jupyter-widgets/base",
            "_model_module_version": "1.2.0",
            "_model_name": "LayoutModel",
            "_view_count": null,
            "_view_module": "@jupyter-widgets/base",
            "_view_module_version": "1.2.0",
            "_view_name": "LayoutView",
            "align_content": null,
            "align_items": null,
            "align_self": null,
            "border": null,
            "bottom": null,
            "display": null,
            "flex": null,
            "flex_flow": null,
            "grid_area": null,
            "grid_auto_columns": null,
            "grid_auto_flow": null,
            "grid_auto_rows": null,
            "grid_column": null,
            "grid_gap": null,
            "grid_row": null,
            "grid_template_areas": null,
            "grid_template_columns": null,
            "grid_template_rows": null,
            "height": null,
            "justify_content": null,
            "justify_items": null,
            "left": null,
            "margin": null,
            "max_height": null,
            "max_width": null,
            "min_height": null,
            "min_width": null,
            "object_fit": null,
            "object_position": null,
            "order": null,
            "overflow": null,
            "overflow_x": null,
            "overflow_y": null,
            "padding": null,
            "right": null,
            "top": null,
            "visibility": null,
            "width": null
          }
        },
        "0902fafd751d40a98647cca9c178b2d5": {
          "model_module": "@jupyter-widgets/controls",
          "model_name": "DescriptionStyleModel",
          "model_module_version": "1.5.0",
          "state": {
            "_model_module": "@jupyter-widgets/controls",
            "_model_module_version": "1.5.0",
            "_model_name": "DescriptionStyleModel",
            "_view_count": null,
            "_view_module": "@jupyter-widgets/base",
            "_view_module_version": "1.2.0",
            "_view_name": "StyleView",
            "description_width": ""
          }
        },
        "227cd470a04741a4a4bdce347a03599f": {
          "model_module": "@jupyter-widgets/base",
          "model_name": "LayoutModel",
          "model_module_version": "1.2.0",
          "state": {
            "_model_module": "@jupyter-widgets/base",
            "_model_module_version": "1.2.0",
            "_model_name": "LayoutModel",
            "_view_count": null,
            "_view_module": "@jupyter-widgets/base",
            "_view_module_version": "1.2.0",
            "_view_name": "LayoutView",
            "align_content": null,
            "align_items": null,
            "align_self": null,
            "border": null,
            "bottom": null,
            "display": null,
            "flex": null,
            "flex_flow": null,
            "grid_area": null,
            "grid_auto_columns": null,
            "grid_auto_flow": null,
            "grid_auto_rows": null,
            "grid_column": null,
            "grid_gap": null,
            "grid_row": null,
            "grid_template_areas": null,
            "grid_template_columns": null,
            "grid_template_rows": null,
            "height": null,
            "justify_content": null,
            "justify_items": null,
            "left": null,
            "margin": null,
            "max_height": null,
            "max_width": null,
            "min_height": null,
            "min_width": null,
            "object_fit": null,
            "object_position": null,
            "order": null,
            "overflow": null,
            "overflow_x": null,
            "overflow_y": null,
            "padding": null,
            "right": null,
            "top": null,
            "visibility": null,
            "width": null
          }
        },
        "79f1747d77d446f3b3e494bda3dec7f2": {
          "model_module": "@jupyter-widgets/controls",
          "model_name": "ProgressStyleModel",
          "model_module_version": "1.5.0",
          "state": {
            "_model_module": "@jupyter-widgets/controls",
            "_model_module_version": "1.5.0",
            "_model_name": "ProgressStyleModel",
            "_view_count": null,
            "_view_module": "@jupyter-widgets/base",
            "_view_module_version": "1.2.0",
            "_view_name": "StyleView",
            "bar_color": null,
            "description_width": ""
          }
        },
        "b4ff589b52d345c7b0ce82b93f35e12b": {
          "model_module": "@jupyter-widgets/base",
          "model_name": "LayoutModel",
          "model_module_version": "1.2.0",
          "state": {
            "_model_module": "@jupyter-widgets/base",
            "_model_module_version": "1.2.0",
            "_model_name": "LayoutModel",
            "_view_count": null,
            "_view_module": "@jupyter-widgets/base",
            "_view_module_version": "1.2.0",
            "_view_name": "LayoutView",
            "align_content": null,
            "align_items": null,
            "align_self": null,
            "border": null,
            "bottom": null,
            "display": null,
            "flex": null,
            "flex_flow": null,
            "grid_area": null,
            "grid_auto_columns": null,
            "grid_auto_flow": null,
            "grid_auto_rows": null,
            "grid_column": null,
            "grid_gap": null,
            "grid_row": null,
            "grid_template_areas": null,
            "grid_template_columns": null,
            "grid_template_rows": null,
            "height": null,
            "justify_content": null,
            "justify_items": null,
            "left": null,
            "margin": null,
            "max_height": null,
            "max_width": null,
            "min_height": null,
            "min_width": null,
            "object_fit": null,
            "object_position": null,
            "order": null,
            "overflow": null,
            "overflow_x": null,
            "overflow_y": null,
            "padding": null,
            "right": null,
            "top": null,
            "visibility": null,
            "width": null
          }
        },
        "6086a44978ba4abcb13f7a3941a35709": {
          "model_module": "@jupyter-widgets/controls",
          "model_name": "DescriptionStyleModel",
          "model_module_version": "1.5.0",
          "state": {
            "_model_module": "@jupyter-widgets/controls",
            "_model_module_version": "1.5.0",
            "_model_name": "DescriptionStyleModel",
            "_view_count": null,
            "_view_module": "@jupyter-widgets/base",
            "_view_module_version": "1.2.0",
            "_view_name": "StyleView",
            "description_width": ""
          }
        },
        "1fda4f86b6274347a436547c3e5c924c": {
          "model_module": "@jupyter-widgets/controls",
          "model_name": "HBoxModel",
          "model_module_version": "1.5.0",
          "state": {
            "_dom_classes": [],
            "_model_module": "@jupyter-widgets/controls",
            "_model_module_version": "1.5.0",
            "_model_name": "HBoxModel",
            "_view_count": null,
            "_view_module": "@jupyter-widgets/controls",
            "_view_module_version": "1.5.0",
            "_view_name": "HBoxView",
            "box_style": "",
            "children": [
              "IPY_MODEL_056341f9ec1348ea9aef6f4b78f4e710",
              "IPY_MODEL_272131a15ef44213865411cce3313893",
              "IPY_MODEL_234f3bfbc930413a9d5a26da60cfc83e"
            ],
            "layout": "IPY_MODEL_8d9c1531b83d4e0fb746c96a983dfa5d"
          }
        },
        "056341f9ec1348ea9aef6f4b78f4e710": {
          "model_module": "@jupyter-widgets/controls",
          "model_name": "HTMLModel",
          "model_module_version": "1.5.0",
          "state": {
            "_dom_classes": [],
            "_model_module": "@jupyter-widgets/controls",
            "_model_module_version": "1.5.0",
            "_model_name": "HTMLModel",
            "_view_count": null,
            "_view_module": "@jupyter-widgets/controls",
            "_view_module_version": "1.5.0",
            "_view_name": "HTMLView",
            "description": "",
            "description_tooltip": null,
            "layout": "IPY_MODEL_88badb89ee044c3f853f7ca7c2ca53a1",
            "placeholder": "​",
            "style": "IPY_MODEL_15614acb3da84445bae45944ed8657d8",
            "value": "config.json: 100%"
          }
        },
        "272131a15ef44213865411cce3313893": {
          "model_module": "@jupyter-widgets/controls",
          "model_name": "FloatProgressModel",
          "model_module_version": "1.5.0",
          "state": {
            "_dom_classes": [],
            "_model_module": "@jupyter-widgets/controls",
            "_model_module_version": "1.5.0",
            "_model_name": "FloatProgressModel",
            "_view_count": null,
            "_view_module": "@jupyter-widgets/controls",
            "_view_module_version": "1.5.0",
            "_view_name": "ProgressView",
            "bar_style": "success",
            "description": "",
            "description_tooltip": null,
            "layout": "IPY_MODEL_eb37d369ec98420dac323b6fef408dbd",
            "max": 612,
            "min": 0,
            "orientation": "horizontal",
            "style": "IPY_MODEL_b3bdfecbd82a41b49f288f61190cbc67",
            "value": 612
          }
        },
        "234f3bfbc930413a9d5a26da60cfc83e": {
          "model_module": "@jupyter-widgets/controls",
          "model_name": "HTMLModel",
          "model_module_version": "1.5.0",
          "state": {
            "_dom_classes": [],
            "_model_module": "@jupyter-widgets/controls",
            "_model_module_version": "1.5.0",
            "_model_name": "HTMLModel",
            "_view_count": null,
            "_view_module": "@jupyter-widgets/controls",
            "_view_module_version": "1.5.0",
            "_view_name": "HTMLView",
            "description": "",
            "description_tooltip": null,
            "layout": "IPY_MODEL_18a34478616c47deaa96a6afc1ef9d29",
            "placeholder": "​",
            "style": "IPY_MODEL_3d06bee2f17042948eb5a8852503f658",
            "value": " 612/612 [00:00&lt;00:00, 6.79kB/s]"
          }
        },
        "8d9c1531b83d4e0fb746c96a983dfa5d": {
          "model_module": "@jupyter-widgets/base",
          "model_name": "LayoutModel",
          "model_module_version": "1.2.0",
          "state": {
            "_model_module": "@jupyter-widgets/base",
            "_model_module_version": "1.2.0",
            "_model_name": "LayoutModel",
            "_view_count": null,
            "_view_module": "@jupyter-widgets/base",
            "_view_module_version": "1.2.0",
            "_view_name": "LayoutView",
            "align_content": null,
            "align_items": null,
            "align_self": null,
            "border": null,
            "bottom": null,
            "display": null,
            "flex": null,
            "flex_flow": null,
            "grid_area": null,
            "grid_auto_columns": null,
            "grid_auto_flow": null,
            "grid_auto_rows": null,
            "grid_column": null,
            "grid_gap": null,
            "grid_row": null,
            "grid_template_areas": null,
            "grid_template_columns": null,
            "grid_template_rows": null,
            "height": null,
            "justify_content": null,
            "justify_items": null,
            "left": null,
            "margin": null,
            "max_height": null,
            "max_width": null,
            "min_height": null,
            "min_width": null,
            "object_fit": null,
            "object_position": null,
            "order": null,
            "overflow": null,
            "overflow_x": null,
            "overflow_y": null,
            "padding": null,
            "right": null,
            "top": null,
            "visibility": null,
            "width": null
          }
        },
        "88badb89ee044c3f853f7ca7c2ca53a1": {
          "model_module": "@jupyter-widgets/base",
          "model_name": "LayoutModel",
          "model_module_version": "1.2.0",
          "state": {
            "_model_module": "@jupyter-widgets/base",
            "_model_module_version": "1.2.0",
            "_model_name": "LayoutModel",
            "_view_count": null,
            "_view_module": "@jupyter-widgets/base",
            "_view_module_version": "1.2.0",
            "_view_name": "LayoutView",
            "align_content": null,
            "align_items": null,
            "align_self": null,
            "border": null,
            "bottom": null,
            "display": null,
            "flex": null,
            "flex_flow": null,
            "grid_area": null,
            "grid_auto_columns": null,
            "grid_auto_flow": null,
            "grid_auto_rows": null,
            "grid_column": null,
            "grid_gap": null,
            "grid_row": null,
            "grid_template_areas": null,
            "grid_template_columns": null,
            "grid_template_rows": null,
            "height": null,
            "justify_content": null,
            "justify_items": null,
            "left": null,
            "margin": null,
            "max_height": null,
            "max_width": null,
            "min_height": null,
            "min_width": null,
            "object_fit": null,
            "object_position": null,
            "order": null,
            "overflow": null,
            "overflow_x": null,
            "overflow_y": null,
            "padding": null,
            "right": null,
            "top": null,
            "visibility": null,
            "width": null
          }
        },
        "15614acb3da84445bae45944ed8657d8": {
          "model_module": "@jupyter-widgets/controls",
          "model_name": "DescriptionStyleModel",
          "model_module_version": "1.5.0",
          "state": {
            "_model_module": "@jupyter-widgets/controls",
            "_model_module_version": "1.5.0",
            "_model_name": "DescriptionStyleModel",
            "_view_count": null,
            "_view_module": "@jupyter-widgets/base",
            "_view_module_version": "1.2.0",
            "_view_name": "StyleView",
            "description_width": ""
          }
        },
        "eb37d369ec98420dac323b6fef408dbd": {
          "model_module": "@jupyter-widgets/base",
          "model_name": "LayoutModel",
          "model_module_version": "1.2.0",
          "state": {
            "_model_module": "@jupyter-widgets/base",
            "_model_module_version": "1.2.0",
            "_model_name": "LayoutModel",
            "_view_count": null,
            "_view_module": "@jupyter-widgets/base",
            "_view_module_version": "1.2.0",
            "_view_name": "LayoutView",
            "align_content": null,
            "align_items": null,
            "align_self": null,
            "border": null,
            "bottom": null,
            "display": null,
            "flex": null,
            "flex_flow": null,
            "grid_area": null,
            "grid_auto_columns": null,
            "grid_auto_flow": null,
            "grid_auto_rows": null,
            "grid_column": null,
            "grid_gap": null,
            "grid_row": null,
            "grid_template_areas": null,
            "grid_template_columns": null,
            "grid_template_rows": null,
            "height": null,
            "justify_content": null,
            "justify_items": null,
            "left": null,
            "margin": null,
            "max_height": null,
            "max_width": null,
            "min_height": null,
            "min_width": null,
            "object_fit": null,
            "object_position": null,
            "order": null,
            "overflow": null,
            "overflow_x": null,
            "overflow_y": null,
            "padding": null,
            "right": null,
            "top": null,
            "visibility": null,
            "width": null
          }
        },
        "b3bdfecbd82a41b49f288f61190cbc67": {
          "model_module": "@jupyter-widgets/controls",
          "model_name": "ProgressStyleModel",
          "model_module_version": "1.5.0",
          "state": {
            "_model_module": "@jupyter-widgets/controls",
            "_model_module_version": "1.5.0",
            "_model_name": "ProgressStyleModel",
            "_view_count": null,
            "_view_module": "@jupyter-widgets/base",
            "_view_module_version": "1.2.0",
            "_view_name": "StyleView",
            "bar_color": null,
            "description_width": ""
          }
        },
        "18a34478616c47deaa96a6afc1ef9d29": {
          "model_module": "@jupyter-widgets/base",
          "model_name": "LayoutModel",
          "model_module_version": "1.2.0",
          "state": {
            "_model_module": "@jupyter-widgets/base",
            "_model_module_version": "1.2.0",
            "_model_name": "LayoutModel",
            "_view_count": null,
            "_view_module": "@jupyter-widgets/base",
            "_view_module_version": "1.2.0",
            "_view_name": "LayoutView",
            "align_content": null,
            "align_items": null,
            "align_self": null,
            "border": null,
            "bottom": null,
            "display": null,
            "flex": null,
            "flex_flow": null,
            "grid_area": null,
            "grid_auto_columns": null,
            "grid_auto_flow": null,
            "grid_auto_rows": null,
            "grid_column": null,
            "grid_gap": null,
            "grid_row": null,
            "grid_template_areas": null,
            "grid_template_columns": null,
            "grid_template_rows": null,
            "height": null,
            "justify_content": null,
            "justify_items": null,
            "left": null,
            "margin": null,
            "max_height": null,
            "max_width": null,
            "min_height": null,
            "min_width": null,
            "object_fit": null,
            "object_position": null,
            "order": null,
            "overflow": null,
            "overflow_x": null,
            "overflow_y": null,
            "padding": null,
            "right": null,
            "top": null,
            "visibility": null,
            "width": null
          }
        },
        "3d06bee2f17042948eb5a8852503f658": {
          "model_module": "@jupyter-widgets/controls",
          "model_name": "DescriptionStyleModel",
          "model_module_version": "1.5.0",
          "state": {
            "_model_module": "@jupyter-widgets/controls",
            "_model_module_version": "1.5.0",
            "_model_name": "DescriptionStyleModel",
            "_view_count": null,
            "_view_module": "@jupyter-widgets/base",
            "_view_module_version": "1.2.0",
            "_view_name": "StyleView",
            "description_width": ""
          }
        },
        "e37b07ff8d0a49dabcbce17a72851cef": {
          "model_module": "@jupyter-widgets/controls",
          "model_name": "HBoxModel",
          "model_module_version": "1.5.0",
          "state": {
            "_dom_classes": [],
            "_model_module": "@jupyter-widgets/controls",
            "_model_module_version": "1.5.0",
            "_model_name": "HBoxModel",
            "_view_count": null,
            "_view_module": "@jupyter-widgets/controls",
            "_view_module_version": "1.5.0",
            "_view_name": "HBoxView",
            "box_style": "",
            "children": [
              "IPY_MODEL_801b044e82da4acb8ed608abc188d20a",
              "IPY_MODEL_16147d27bca3403cbcd57d4854c6c8aa",
              "IPY_MODEL_902c42362537486abc053db6c0f174b6"
            ],
            "layout": "IPY_MODEL_8ea2763770b848e595692dfca222fc54"
          }
        },
        "801b044e82da4acb8ed608abc188d20a": {
          "model_module": "@jupyter-widgets/controls",
          "model_name": "HTMLModel",
          "model_module_version": "1.5.0",
          "state": {
            "_dom_classes": [],
            "_model_module": "@jupyter-widgets/controls",
            "_model_module_version": "1.5.0",
            "_model_name": "HTMLModel",
            "_view_count": null,
            "_view_module": "@jupyter-widgets/controls",
            "_view_module_version": "1.5.0",
            "_view_name": "HTMLView",
            "description": "",
            "description_tooltip": null,
            "layout": "IPY_MODEL_aead091add0442f0b8474973beaa00bf",
            "placeholder": "​",
            "style": "IPY_MODEL_3da6a82002cd4b11913d6fced8a27ed1",
            "value": "model.safetensors: 100%"
          }
        },
        "16147d27bca3403cbcd57d4854c6c8aa": {
          "model_module": "@jupyter-widgets/controls",
          "model_name": "FloatProgressModel",
          "model_module_version": "1.5.0",
          "state": {
            "_dom_classes": [],
            "_model_module": "@jupyter-widgets/controls",
            "_model_module_version": "1.5.0",
            "_model_name": "FloatProgressModel",
            "_view_count": null,
            "_view_module": "@jupyter-widgets/controls",
            "_view_module_version": "1.5.0",
            "_view_name": "ProgressView",
            "bar_style": "success",
            "description": "",
            "description_tooltip": null,
            "layout": "IPY_MODEL_1f982f79a97c458aa6114fb72ca5e139",
            "max": 90868376,
            "min": 0,
            "orientation": "horizontal",
            "style": "IPY_MODEL_6b523724d1e94d67b9caa74af42a6a46",
            "value": 90868376
          }
        },
        "902c42362537486abc053db6c0f174b6": {
          "model_module": "@jupyter-widgets/controls",
          "model_name": "HTMLModel",
          "model_module_version": "1.5.0",
          "state": {
            "_dom_classes": [],
            "_model_module": "@jupyter-widgets/controls",
            "_model_module_version": "1.5.0",
            "_model_name": "HTMLModel",
            "_view_count": null,
            "_view_module": "@jupyter-widgets/controls",
            "_view_module_version": "1.5.0",
            "_view_name": "HTMLView",
            "description": "",
            "description_tooltip": null,
            "layout": "IPY_MODEL_ba896d6f315040a4bbe22b15a96e6a65",
            "placeholder": "​",
            "style": "IPY_MODEL_d7fee404887f4b9b980d31026629952b",
            "value": " 90.9M/90.9M [00:01&lt;00:00, 83.6MB/s]"
          }
        },
        "8ea2763770b848e595692dfca222fc54": {
          "model_module": "@jupyter-widgets/base",
          "model_name": "LayoutModel",
          "model_module_version": "1.2.0",
          "state": {
            "_model_module": "@jupyter-widgets/base",
            "_model_module_version": "1.2.0",
            "_model_name": "LayoutModel",
            "_view_count": null,
            "_view_module": "@jupyter-widgets/base",
            "_view_module_version": "1.2.0",
            "_view_name": "LayoutView",
            "align_content": null,
            "align_items": null,
            "align_self": null,
            "border": null,
            "bottom": null,
            "display": null,
            "flex": null,
            "flex_flow": null,
            "grid_area": null,
            "grid_auto_columns": null,
            "grid_auto_flow": null,
            "grid_auto_rows": null,
            "grid_column": null,
            "grid_gap": null,
            "grid_row": null,
            "grid_template_areas": null,
            "grid_template_columns": null,
            "grid_template_rows": null,
            "height": null,
            "justify_content": null,
            "justify_items": null,
            "left": null,
            "margin": null,
            "max_height": null,
            "max_width": null,
            "min_height": null,
            "min_width": null,
            "object_fit": null,
            "object_position": null,
            "order": null,
            "overflow": null,
            "overflow_x": null,
            "overflow_y": null,
            "padding": null,
            "right": null,
            "top": null,
            "visibility": null,
            "width": null
          }
        },
        "aead091add0442f0b8474973beaa00bf": {
          "model_module": "@jupyter-widgets/base",
          "model_name": "LayoutModel",
          "model_module_version": "1.2.0",
          "state": {
            "_model_module": "@jupyter-widgets/base",
            "_model_module_version": "1.2.0",
            "_model_name": "LayoutModel",
            "_view_count": null,
            "_view_module": "@jupyter-widgets/base",
            "_view_module_version": "1.2.0",
            "_view_name": "LayoutView",
            "align_content": null,
            "align_items": null,
            "align_self": null,
            "border": null,
            "bottom": null,
            "display": null,
            "flex": null,
            "flex_flow": null,
            "grid_area": null,
            "grid_auto_columns": null,
            "grid_auto_flow": null,
            "grid_auto_rows": null,
            "grid_column": null,
            "grid_gap": null,
            "grid_row": null,
            "grid_template_areas": null,
            "grid_template_columns": null,
            "grid_template_rows": null,
            "height": null,
            "justify_content": null,
            "justify_items": null,
            "left": null,
            "margin": null,
            "max_height": null,
            "max_width": null,
            "min_height": null,
            "min_width": null,
            "object_fit": null,
            "object_position": null,
            "order": null,
            "overflow": null,
            "overflow_x": null,
            "overflow_y": null,
            "padding": null,
            "right": null,
            "top": null,
            "visibility": null,
            "width": null
          }
        },
        "3da6a82002cd4b11913d6fced8a27ed1": {
          "model_module": "@jupyter-widgets/controls",
          "model_name": "DescriptionStyleModel",
          "model_module_version": "1.5.0",
          "state": {
            "_model_module": "@jupyter-widgets/controls",
            "_model_module_version": "1.5.0",
            "_model_name": "DescriptionStyleModel",
            "_view_count": null,
            "_view_module": "@jupyter-widgets/base",
            "_view_module_version": "1.2.0",
            "_view_name": "StyleView",
            "description_width": ""
          }
        },
        "1f982f79a97c458aa6114fb72ca5e139": {
          "model_module": "@jupyter-widgets/base",
          "model_name": "LayoutModel",
          "model_module_version": "1.2.0",
          "state": {
            "_model_module": "@jupyter-widgets/base",
            "_model_module_version": "1.2.0",
            "_model_name": "LayoutModel",
            "_view_count": null,
            "_view_module": "@jupyter-widgets/base",
            "_view_module_version": "1.2.0",
            "_view_name": "LayoutView",
            "align_content": null,
            "align_items": null,
            "align_self": null,
            "border": null,
            "bottom": null,
            "display": null,
            "flex": null,
            "flex_flow": null,
            "grid_area": null,
            "grid_auto_columns": null,
            "grid_auto_flow": null,
            "grid_auto_rows": null,
            "grid_column": null,
            "grid_gap": null,
            "grid_row": null,
            "grid_template_areas": null,
            "grid_template_columns": null,
            "grid_template_rows": null,
            "height": null,
            "justify_content": null,
            "justify_items": null,
            "left": null,
            "margin": null,
            "max_height": null,
            "max_width": null,
            "min_height": null,
            "min_width": null,
            "object_fit": null,
            "object_position": null,
            "order": null,
            "overflow": null,
            "overflow_x": null,
            "overflow_y": null,
            "padding": null,
            "right": null,
            "top": null,
            "visibility": null,
            "width": null
          }
        },
        "6b523724d1e94d67b9caa74af42a6a46": {
          "model_module": "@jupyter-widgets/controls",
          "model_name": "ProgressStyleModel",
          "model_module_version": "1.5.0",
          "state": {
            "_model_module": "@jupyter-widgets/controls",
            "_model_module_version": "1.5.0",
            "_model_name": "ProgressStyleModel",
            "_view_count": null,
            "_view_module": "@jupyter-widgets/base",
            "_view_module_version": "1.2.0",
            "_view_name": "StyleView",
            "bar_color": null,
            "description_width": ""
          }
        },
        "ba896d6f315040a4bbe22b15a96e6a65": {
          "model_module": "@jupyter-widgets/base",
          "model_name": "LayoutModel",
          "model_module_version": "1.2.0",
          "state": {
            "_model_module": "@jupyter-widgets/base",
            "_model_module_version": "1.2.0",
            "_model_name": "LayoutModel",
            "_view_count": null,
            "_view_module": "@jupyter-widgets/base",
            "_view_module_version": "1.2.0",
            "_view_name": "LayoutView",
            "align_content": null,
            "align_items": null,
            "align_self": null,
            "border": null,
            "bottom": null,
            "display": null,
            "flex": null,
            "flex_flow": null,
            "grid_area": null,
            "grid_auto_columns": null,
            "grid_auto_flow": null,
            "grid_auto_rows": null,
            "grid_column": null,
            "grid_gap": null,
            "grid_row": null,
            "grid_template_areas": null,
            "grid_template_columns": null,
            "grid_template_rows": null,
            "height": null,
            "justify_content": null,
            "justify_items": null,
            "left": null,
            "margin": null,
            "max_height": null,
            "max_width": null,
            "min_height": null,
            "min_width": null,
            "object_fit": null,
            "object_position": null,
            "order": null,
            "overflow": null,
            "overflow_x": null,
            "overflow_y": null,
            "padding": null,
            "right": null,
            "top": null,
            "visibility": null,
            "width": null
          }
        },
        "d7fee404887f4b9b980d31026629952b": {
          "model_module": "@jupyter-widgets/controls",
          "model_name": "DescriptionStyleModel",
          "model_module_version": "1.5.0",
          "state": {
            "_model_module": "@jupyter-widgets/controls",
            "_model_module_version": "1.5.0",
            "_model_name": "DescriptionStyleModel",
            "_view_count": null,
            "_view_module": "@jupyter-widgets/base",
            "_view_module_version": "1.2.0",
            "_view_name": "StyleView",
            "description_width": ""
          }
        },
        "03ed2251d37a4089a18282e8196afa56": {
          "model_module": "@jupyter-widgets/controls",
          "model_name": "HBoxModel",
          "model_module_version": "1.5.0",
          "state": {
            "_dom_classes": [],
            "_model_module": "@jupyter-widgets/controls",
            "_model_module_version": "1.5.0",
            "_model_name": "HBoxModel",
            "_view_count": null,
            "_view_module": "@jupyter-widgets/controls",
            "_view_module_version": "1.5.0",
            "_view_name": "HBoxView",
            "box_style": "",
            "children": [
              "IPY_MODEL_02398dc2f633419b8b4d9c572475a9a3",
              "IPY_MODEL_4a00ac7fdcc34b7b974de79b523c7535",
              "IPY_MODEL_d46bb3ca615f4c75a13a081d2a83c90f"
            ],
            "layout": "IPY_MODEL_5471d89f96ab41439807dbd87953d7b4"
          }
        },
        "02398dc2f633419b8b4d9c572475a9a3": {
          "model_module": "@jupyter-widgets/controls",
          "model_name": "HTMLModel",
          "model_module_version": "1.5.0",
          "state": {
            "_dom_classes": [],
            "_model_module": "@jupyter-widgets/controls",
            "_model_module_version": "1.5.0",
            "_model_name": "HTMLModel",
            "_view_count": null,
            "_view_module": "@jupyter-widgets/controls",
            "_view_module_version": "1.5.0",
            "_view_name": "HTMLView",
            "description": "",
            "description_tooltip": null,
            "layout": "IPY_MODEL_1af1d522e81143a19591334d5c96c24a",
            "placeholder": "​",
            "style": "IPY_MODEL_2d375f4864ab4c4e9b4246bc7849c8f1",
            "value": "tokenizer_config.json: 100%"
          }
        },
        "4a00ac7fdcc34b7b974de79b523c7535": {
          "model_module": "@jupyter-widgets/controls",
          "model_name": "FloatProgressModel",
          "model_module_version": "1.5.0",
          "state": {
            "_dom_classes": [],
            "_model_module": "@jupyter-widgets/controls",
            "_model_module_version": "1.5.0",
            "_model_name": "FloatProgressModel",
            "_view_count": null,
            "_view_module": "@jupyter-widgets/controls",
            "_view_module_version": "1.5.0",
            "_view_name": "ProgressView",
            "bar_style": "success",
            "description": "",
            "description_tooltip": null,
            "layout": "IPY_MODEL_d3ecbe9c262c40e88ccf9ede60d0aa0e",
            "max": 350,
            "min": 0,
            "orientation": "horizontal",
            "style": "IPY_MODEL_6bb197157d3349d3b88232aef3c6bcf2",
            "value": 350
          }
        },
        "d46bb3ca615f4c75a13a081d2a83c90f": {
          "model_module": "@jupyter-widgets/controls",
          "model_name": "HTMLModel",
          "model_module_version": "1.5.0",
          "state": {
            "_dom_classes": [],
            "_model_module": "@jupyter-widgets/controls",
            "_model_module_version": "1.5.0",
            "_model_name": "HTMLModel",
            "_view_count": null,
            "_view_module": "@jupyter-widgets/controls",
            "_view_module_version": "1.5.0",
            "_view_name": "HTMLView",
            "description": "",
            "description_tooltip": null,
            "layout": "IPY_MODEL_85ca2ecf8bce424ba0bcdf1b127bccf2",
            "placeholder": "​",
            "style": "IPY_MODEL_4647ce66dd734d39bde7cc476c838c92",
            "value": " 350/350 [00:00&lt;00:00, 19.3kB/s]"
          }
        },
        "5471d89f96ab41439807dbd87953d7b4": {
          "model_module": "@jupyter-widgets/base",
          "model_name": "LayoutModel",
          "model_module_version": "1.2.0",
          "state": {
            "_model_module": "@jupyter-widgets/base",
            "_model_module_version": "1.2.0",
            "_model_name": "LayoutModel",
            "_view_count": null,
            "_view_module": "@jupyter-widgets/base",
            "_view_module_version": "1.2.0",
            "_view_name": "LayoutView",
            "align_content": null,
            "align_items": null,
            "align_self": null,
            "border": null,
            "bottom": null,
            "display": null,
            "flex": null,
            "flex_flow": null,
            "grid_area": null,
            "grid_auto_columns": null,
            "grid_auto_flow": null,
            "grid_auto_rows": null,
            "grid_column": null,
            "grid_gap": null,
            "grid_row": null,
            "grid_template_areas": null,
            "grid_template_columns": null,
            "grid_template_rows": null,
            "height": null,
            "justify_content": null,
            "justify_items": null,
            "left": null,
            "margin": null,
            "max_height": null,
            "max_width": null,
            "min_height": null,
            "min_width": null,
            "object_fit": null,
            "object_position": null,
            "order": null,
            "overflow": null,
            "overflow_x": null,
            "overflow_y": null,
            "padding": null,
            "right": null,
            "top": null,
            "visibility": null,
            "width": null
          }
        },
        "1af1d522e81143a19591334d5c96c24a": {
          "model_module": "@jupyter-widgets/base",
          "model_name": "LayoutModel",
          "model_module_version": "1.2.0",
          "state": {
            "_model_module": "@jupyter-widgets/base",
            "_model_module_version": "1.2.0",
            "_model_name": "LayoutModel",
            "_view_count": null,
            "_view_module": "@jupyter-widgets/base",
            "_view_module_version": "1.2.0",
            "_view_name": "LayoutView",
            "align_content": null,
            "align_items": null,
            "align_self": null,
            "border": null,
            "bottom": null,
            "display": null,
            "flex": null,
            "flex_flow": null,
            "grid_area": null,
            "grid_auto_columns": null,
            "grid_auto_flow": null,
            "grid_auto_rows": null,
            "grid_column": null,
            "grid_gap": null,
            "grid_row": null,
            "grid_template_areas": null,
            "grid_template_columns": null,
            "grid_template_rows": null,
            "height": null,
            "justify_content": null,
            "justify_items": null,
            "left": null,
            "margin": null,
            "max_height": null,
            "max_width": null,
            "min_height": null,
            "min_width": null,
            "object_fit": null,
            "object_position": null,
            "order": null,
            "overflow": null,
            "overflow_x": null,
            "overflow_y": null,
            "padding": null,
            "right": null,
            "top": null,
            "visibility": null,
            "width": null
          }
        },
        "2d375f4864ab4c4e9b4246bc7849c8f1": {
          "model_module": "@jupyter-widgets/controls",
          "model_name": "DescriptionStyleModel",
          "model_module_version": "1.5.0",
          "state": {
            "_model_module": "@jupyter-widgets/controls",
            "_model_module_version": "1.5.0",
            "_model_name": "DescriptionStyleModel",
            "_view_count": null,
            "_view_module": "@jupyter-widgets/base",
            "_view_module_version": "1.2.0",
            "_view_name": "StyleView",
            "description_width": ""
          }
        },
        "d3ecbe9c262c40e88ccf9ede60d0aa0e": {
          "model_module": "@jupyter-widgets/base",
          "model_name": "LayoutModel",
          "model_module_version": "1.2.0",
          "state": {
            "_model_module": "@jupyter-widgets/base",
            "_model_module_version": "1.2.0",
            "_model_name": "LayoutModel",
            "_view_count": null,
            "_view_module": "@jupyter-widgets/base",
            "_view_module_version": "1.2.0",
            "_view_name": "LayoutView",
            "align_content": null,
            "align_items": null,
            "align_self": null,
            "border": null,
            "bottom": null,
            "display": null,
            "flex": null,
            "flex_flow": null,
            "grid_area": null,
            "grid_auto_columns": null,
            "grid_auto_flow": null,
            "grid_auto_rows": null,
            "grid_column": null,
            "grid_gap": null,
            "grid_row": null,
            "grid_template_areas": null,
            "grid_template_columns": null,
            "grid_template_rows": null,
            "height": null,
            "justify_content": null,
            "justify_items": null,
            "left": null,
            "margin": null,
            "max_height": null,
            "max_width": null,
            "min_height": null,
            "min_width": null,
            "object_fit": null,
            "object_position": null,
            "order": null,
            "overflow": null,
            "overflow_x": null,
            "overflow_y": null,
            "padding": null,
            "right": null,
            "top": null,
            "visibility": null,
            "width": null
          }
        },
        "6bb197157d3349d3b88232aef3c6bcf2": {
          "model_module": "@jupyter-widgets/controls",
          "model_name": "ProgressStyleModel",
          "model_module_version": "1.5.0",
          "state": {
            "_model_module": "@jupyter-widgets/controls",
            "_model_module_version": "1.5.0",
            "_model_name": "ProgressStyleModel",
            "_view_count": null,
            "_view_module": "@jupyter-widgets/base",
            "_view_module_version": "1.2.0",
            "_view_name": "StyleView",
            "bar_color": null,
            "description_width": ""
          }
        },
        "85ca2ecf8bce424ba0bcdf1b127bccf2": {
          "model_module": "@jupyter-widgets/base",
          "model_name": "LayoutModel",
          "model_module_version": "1.2.0",
          "state": {
            "_model_module": "@jupyter-widgets/base",
            "_model_module_version": "1.2.0",
            "_model_name": "LayoutModel",
            "_view_count": null,
            "_view_module": "@jupyter-widgets/base",
            "_view_module_version": "1.2.0",
            "_view_name": "LayoutView",
            "align_content": null,
            "align_items": null,
            "align_self": null,
            "border": null,
            "bottom": null,
            "display": null,
            "flex": null,
            "flex_flow": null,
            "grid_area": null,
            "grid_auto_columns": null,
            "grid_auto_flow": null,
            "grid_auto_rows": null,
            "grid_column": null,
            "grid_gap": null,
            "grid_row": null,
            "grid_template_areas": null,
            "grid_template_columns": null,
            "grid_template_rows": null,
            "height": null,
            "justify_content": null,
            "justify_items": null,
            "left": null,
            "margin": null,
            "max_height": null,
            "max_width": null,
            "min_height": null,
            "min_width": null,
            "object_fit": null,
            "object_position": null,
            "order": null,
            "overflow": null,
            "overflow_x": null,
            "overflow_y": null,
            "padding": null,
            "right": null,
            "top": null,
            "visibility": null,
            "width": null
          }
        },
        "4647ce66dd734d39bde7cc476c838c92": {
          "model_module": "@jupyter-widgets/controls",
          "model_name": "DescriptionStyleModel",
          "model_module_version": "1.5.0",
          "state": {
            "_model_module": "@jupyter-widgets/controls",
            "_model_module_version": "1.5.0",
            "_model_name": "DescriptionStyleModel",
            "_view_count": null,
            "_view_module": "@jupyter-widgets/base",
            "_view_module_version": "1.2.0",
            "_view_name": "StyleView",
            "description_width": ""
          }
        },
        "69021253539e41b6bcd42dfe50e06b3c": {
          "model_module": "@jupyter-widgets/controls",
          "model_name": "HBoxModel",
          "model_module_version": "1.5.0",
          "state": {
            "_dom_classes": [],
            "_model_module": "@jupyter-widgets/controls",
            "_model_module_version": "1.5.0",
            "_model_name": "HBoxModel",
            "_view_count": null,
            "_view_module": "@jupyter-widgets/controls",
            "_view_module_version": "1.5.0",
            "_view_name": "HBoxView",
            "box_style": "",
            "children": [
              "IPY_MODEL_519a87445f00435d9c7c26712b92a5fb",
              "IPY_MODEL_6452ad7c90064bf683f135377c76978d",
              "IPY_MODEL_d4005b9ac978416fa2c73d806822ecb0"
            ],
            "layout": "IPY_MODEL_2fc15b63e4aa4561842ba39edcfca2a7"
          }
        },
        "519a87445f00435d9c7c26712b92a5fb": {
          "model_module": "@jupyter-widgets/controls",
          "model_name": "HTMLModel",
          "model_module_version": "1.5.0",
          "state": {
            "_dom_classes": [],
            "_model_module": "@jupyter-widgets/controls",
            "_model_module_version": "1.5.0",
            "_model_name": "HTMLModel",
            "_view_count": null,
            "_view_module": "@jupyter-widgets/controls",
            "_view_module_version": "1.5.0",
            "_view_name": "HTMLView",
            "description": "",
            "description_tooltip": null,
            "layout": "IPY_MODEL_bf9d1385a6b84d1bb5731395ee1525a9",
            "placeholder": "​",
            "style": "IPY_MODEL_9b4cda851c704f4fbb88905902ae8cc2",
            "value": "vocab.txt: 100%"
          }
        },
        "6452ad7c90064bf683f135377c76978d": {
          "model_module": "@jupyter-widgets/controls",
          "model_name": "FloatProgressModel",
          "model_module_version": "1.5.0",
          "state": {
            "_dom_classes": [],
            "_model_module": "@jupyter-widgets/controls",
            "_model_module_version": "1.5.0",
            "_model_name": "FloatProgressModel",
            "_view_count": null,
            "_view_module": "@jupyter-widgets/controls",
            "_view_module_version": "1.5.0",
            "_view_name": "ProgressView",
            "bar_style": "success",
            "description": "",
            "description_tooltip": null,
            "layout": "IPY_MODEL_0fecc59f16554594847700d9249ab25c",
            "max": 231508,
            "min": 0,
            "orientation": "horizontal",
            "style": "IPY_MODEL_0171ab32b0f94898a308801b32ebd181",
            "value": 231508
          }
        },
        "d4005b9ac978416fa2c73d806822ecb0": {
          "model_module": "@jupyter-widgets/controls",
          "model_name": "HTMLModel",
          "model_module_version": "1.5.0",
          "state": {
            "_dom_classes": [],
            "_model_module": "@jupyter-widgets/controls",
            "_model_module_version": "1.5.0",
            "_model_name": "HTMLModel",
            "_view_count": null,
            "_view_module": "@jupyter-widgets/controls",
            "_view_module_version": "1.5.0",
            "_view_name": "HTMLView",
            "description": "",
            "description_tooltip": null,
            "layout": "IPY_MODEL_4328647aed704e1c8bd373c8d237a5f1",
            "placeholder": "​",
            "style": "IPY_MODEL_1d80b82e05e9432ab6d56d0229419e48",
            "value": " 232k/232k [00:00&lt;00:00, 7.52MB/s]"
          }
        },
        "2fc15b63e4aa4561842ba39edcfca2a7": {
          "model_module": "@jupyter-widgets/base",
          "model_name": "LayoutModel",
          "model_module_version": "1.2.0",
          "state": {
            "_model_module": "@jupyter-widgets/base",
            "_model_module_version": "1.2.0",
            "_model_name": "LayoutModel",
            "_view_count": null,
            "_view_module": "@jupyter-widgets/base",
            "_view_module_version": "1.2.0",
            "_view_name": "LayoutView",
            "align_content": null,
            "align_items": null,
            "align_self": null,
            "border": null,
            "bottom": null,
            "display": null,
            "flex": null,
            "flex_flow": null,
            "grid_area": null,
            "grid_auto_columns": null,
            "grid_auto_flow": null,
            "grid_auto_rows": null,
            "grid_column": null,
            "grid_gap": null,
            "grid_row": null,
            "grid_template_areas": null,
            "grid_template_columns": null,
            "grid_template_rows": null,
            "height": null,
            "justify_content": null,
            "justify_items": null,
            "left": null,
            "margin": null,
            "max_height": null,
            "max_width": null,
            "min_height": null,
            "min_width": null,
            "object_fit": null,
            "object_position": null,
            "order": null,
            "overflow": null,
            "overflow_x": null,
            "overflow_y": null,
            "padding": null,
            "right": null,
            "top": null,
            "visibility": null,
            "width": null
          }
        },
        "bf9d1385a6b84d1bb5731395ee1525a9": {
          "model_module": "@jupyter-widgets/base",
          "model_name": "LayoutModel",
          "model_module_version": "1.2.0",
          "state": {
            "_model_module": "@jupyter-widgets/base",
            "_model_module_version": "1.2.0",
            "_model_name": "LayoutModel",
            "_view_count": null,
            "_view_module": "@jupyter-widgets/base",
            "_view_module_version": "1.2.0",
            "_view_name": "LayoutView",
            "align_content": null,
            "align_items": null,
            "align_self": null,
            "border": null,
            "bottom": null,
            "display": null,
            "flex": null,
            "flex_flow": null,
            "grid_area": null,
            "grid_auto_columns": null,
            "grid_auto_flow": null,
            "grid_auto_rows": null,
            "grid_column": null,
            "grid_gap": null,
            "grid_row": null,
            "grid_template_areas": null,
            "grid_template_columns": null,
            "grid_template_rows": null,
            "height": null,
            "justify_content": null,
            "justify_items": null,
            "left": null,
            "margin": null,
            "max_height": null,
            "max_width": null,
            "min_height": null,
            "min_width": null,
            "object_fit": null,
            "object_position": null,
            "order": null,
            "overflow": null,
            "overflow_x": null,
            "overflow_y": null,
            "padding": null,
            "right": null,
            "top": null,
            "visibility": null,
            "width": null
          }
        },
        "9b4cda851c704f4fbb88905902ae8cc2": {
          "model_module": "@jupyter-widgets/controls",
          "model_name": "DescriptionStyleModel",
          "model_module_version": "1.5.0",
          "state": {
            "_model_module": "@jupyter-widgets/controls",
            "_model_module_version": "1.5.0",
            "_model_name": "DescriptionStyleModel",
            "_view_count": null,
            "_view_module": "@jupyter-widgets/base",
            "_view_module_version": "1.2.0",
            "_view_name": "StyleView",
            "description_width": ""
          }
        },
        "0fecc59f16554594847700d9249ab25c": {
          "model_module": "@jupyter-widgets/base",
          "model_name": "LayoutModel",
          "model_module_version": "1.2.0",
          "state": {
            "_model_module": "@jupyter-widgets/base",
            "_model_module_version": "1.2.0",
            "_model_name": "LayoutModel",
            "_view_count": null,
            "_view_module": "@jupyter-widgets/base",
            "_view_module_version": "1.2.0",
            "_view_name": "LayoutView",
            "align_content": null,
            "align_items": null,
            "align_self": null,
            "border": null,
            "bottom": null,
            "display": null,
            "flex": null,
            "flex_flow": null,
            "grid_area": null,
            "grid_auto_columns": null,
            "grid_auto_flow": null,
            "grid_auto_rows": null,
            "grid_column": null,
            "grid_gap": null,
            "grid_row": null,
            "grid_template_areas": null,
            "grid_template_columns": null,
            "grid_template_rows": null,
            "height": null,
            "justify_content": null,
            "justify_items": null,
            "left": null,
            "margin": null,
            "max_height": null,
            "max_width": null,
            "min_height": null,
            "min_width": null,
            "object_fit": null,
            "object_position": null,
            "order": null,
            "overflow": null,
            "overflow_x": null,
            "overflow_y": null,
            "padding": null,
            "right": null,
            "top": null,
            "visibility": null,
            "width": null
          }
        },
        "0171ab32b0f94898a308801b32ebd181": {
          "model_module": "@jupyter-widgets/controls",
          "model_name": "ProgressStyleModel",
          "model_module_version": "1.5.0",
          "state": {
            "_model_module": "@jupyter-widgets/controls",
            "_model_module_version": "1.5.0",
            "_model_name": "ProgressStyleModel",
            "_view_count": null,
            "_view_module": "@jupyter-widgets/base",
            "_view_module_version": "1.2.0",
            "_view_name": "StyleView",
            "bar_color": null,
            "description_width": ""
          }
        },
        "4328647aed704e1c8bd373c8d237a5f1": {
          "model_module": "@jupyter-widgets/base",
          "model_name": "LayoutModel",
          "model_module_version": "1.2.0",
          "state": {
            "_model_module": "@jupyter-widgets/base",
            "_model_module_version": "1.2.0",
            "_model_name": "LayoutModel",
            "_view_count": null,
            "_view_module": "@jupyter-widgets/base",
            "_view_module_version": "1.2.0",
            "_view_name": "LayoutView",
            "align_content": null,
            "align_items": null,
            "align_self": null,
            "border": null,
            "bottom": null,
            "display": null,
            "flex": null,
            "flex_flow": null,
            "grid_area": null,
            "grid_auto_columns": null,
            "grid_auto_flow": null,
            "grid_auto_rows": null,
            "grid_column": null,
            "grid_gap": null,
            "grid_row": null,
            "grid_template_areas": null,
            "grid_template_columns": null,
            "grid_template_rows": null,
            "height": null,
            "justify_content": null,
            "justify_items": null,
            "left": null,
            "margin": null,
            "max_height": null,
            "max_width": null,
            "min_height": null,
            "min_width": null,
            "object_fit": null,
            "object_position": null,
            "order": null,
            "overflow": null,
            "overflow_x": null,
            "overflow_y": null,
            "padding": null,
            "right": null,
            "top": null,
            "visibility": null,
            "width": null
          }
        },
        "1d80b82e05e9432ab6d56d0229419e48": {
          "model_module": "@jupyter-widgets/controls",
          "model_name": "DescriptionStyleModel",
          "model_module_version": "1.5.0",
          "state": {
            "_model_module": "@jupyter-widgets/controls",
            "_model_module_version": "1.5.0",
            "_model_name": "DescriptionStyleModel",
            "_view_count": null,
            "_view_module": "@jupyter-widgets/base",
            "_view_module_version": "1.2.0",
            "_view_name": "StyleView",
            "description_width": ""
          }
        },
        "67d1af3cbcd8418b974afab1b644f254": {
          "model_module": "@jupyter-widgets/controls",
          "model_name": "HBoxModel",
          "model_module_version": "1.5.0",
          "state": {
            "_dom_classes": [],
            "_model_module": "@jupyter-widgets/controls",
            "_model_module_version": "1.5.0",
            "_model_name": "HBoxModel",
            "_view_count": null,
            "_view_module": "@jupyter-widgets/controls",
            "_view_module_version": "1.5.0",
            "_view_name": "HBoxView",
            "box_style": "",
            "children": [
              "IPY_MODEL_79113b2b014d448cab37b4db01f02dc5",
              "IPY_MODEL_bf92f22c86634f40ac1c4d8312fd522a",
              "IPY_MODEL_8ea2ad9bd47742a3b520b3d547b8ad1d"
            ],
            "layout": "IPY_MODEL_0bbad09a3c7d4faa859d1e0336c571f9"
          }
        },
        "79113b2b014d448cab37b4db01f02dc5": {
          "model_module": "@jupyter-widgets/controls",
          "model_name": "HTMLModel",
          "model_module_version": "1.5.0",
          "state": {
            "_dom_classes": [],
            "_model_module": "@jupyter-widgets/controls",
            "_model_module_version": "1.5.0",
            "_model_name": "HTMLModel",
            "_view_count": null,
            "_view_module": "@jupyter-widgets/controls",
            "_view_module_version": "1.5.0",
            "_view_name": "HTMLView",
            "description": "",
            "description_tooltip": null,
            "layout": "IPY_MODEL_1b86326e7265427a8523213cc3985ed5",
            "placeholder": "​",
            "style": "IPY_MODEL_aa5d82101e9a408ea79dbb6472184802",
            "value": "tokenizer.json: 100%"
          }
        },
        "bf92f22c86634f40ac1c4d8312fd522a": {
          "model_module": "@jupyter-widgets/controls",
          "model_name": "FloatProgressModel",
          "model_module_version": "1.5.0",
          "state": {
            "_dom_classes": [],
            "_model_module": "@jupyter-widgets/controls",
            "_model_module_version": "1.5.0",
            "_model_name": "FloatProgressModel",
            "_view_count": null,
            "_view_module": "@jupyter-widgets/controls",
            "_view_module_version": "1.5.0",
            "_view_name": "ProgressView",
            "bar_style": "success",
            "description": "",
            "description_tooltip": null,
            "layout": "IPY_MODEL_c4328fb1d2014f6e8c38887905320e10",
            "max": 466247,
            "min": 0,
            "orientation": "horizontal",
            "style": "IPY_MODEL_4310b53bfe5445dc84735373d3bfcd09",
            "value": 466247
          }
        },
        "8ea2ad9bd47742a3b520b3d547b8ad1d": {
          "model_module": "@jupyter-widgets/controls",
          "model_name": "HTMLModel",
          "model_module_version": "1.5.0",
          "state": {
            "_dom_classes": [],
            "_model_module": "@jupyter-widgets/controls",
            "_model_module_version": "1.5.0",
            "_model_name": "HTMLModel",
            "_view_count": null,
            "_view_module": "@jupyter-widgets/controls",
            "_view_module_version": "1.5.0",
            "_view_name": "HTMLView",
            "description": "",
            "description_tooltip": null,
            "layout": "IPY_MODEL_044e6ca3a7d14279b41d4a235e2504bf",
            "placeholder": "​",
            "style": "IPY_MODEL_654d5f4f9e3647dea61c5002d5c35409",
            "value": " 466k/466k [00:00&lt;00:00, 10.6MB/s]"
          }
        },
        "0bbad09a3c7d4faa859d1e0336c571f9": {
          "model_module": "@jupyter-widgets/base",
          "model_name": "LayoutModel",
          "model_module_version": "1.2.0",
          "state": {
            "_model_module": "@jupyter-widgets/base",
            "_model_module_version": "1.2.0",
            "_model_name": "LayoutModel",
            "_view_count": null,
            "_view_module": "@jupyter-widgets/base",
            "_view_module_version": "1.2.0",
            "_view_name": "LayoutView",
            "align_content": null,
            "align_items": null,
            "align_self": null,
            "border": null,
            "bottom": null,
            "display": null,
            "flex": null,
            "flex_flow": null,
            "grid_area": null,
            "grid_auto_columns": null,
            "grid_auto_flow": null,
            "grid_auto_rows": null,
            "grid_column": null,
            "grid_gap": null,
            "grid_row": null,
            "grid_template_areas": null,
            "grid_template_columns": null,
            "grid_template_rows": null,
            "height": null,
            "justify_content": null,
            "justify_items": null,
            "left": null,
            "margin": null,
            "max_height": null,
            "max_width": null,
            "min_height": null,
            "min_width": null,
            "object_fit": null,
            "object_position": null,
            "order": null,
            "overflow": null,
            "overflow_x": null,
            "overflow_y": null,
            "padding": null,
            "right": null,
            "top": null,
            "visibility": null,
            "width": null
          }
        },
        "1b86326e7265427a8523213cc3985ed5": {
          "model_module": "@jupyter-widgets/base",
          "model_name": "LayoutModel",
          "model_module_version": "1.2.0",
          "state": {
            "_model_module": "@jupyter-widgets/base",
            "_model_module_version": "1.2.0",
            "_model_name": "LayoutModel",
            "_view_count": null,
            "_view_module": "@jupyter-widgets/base",
            "_view_module_version": "1.2.0",
            "_view_name": "LayoutView",
            "align_content": null,
            "align_items": null,
            "align_self": null,
            "border": null,
            "bottom": null,
            "display": null,
            "flex": null,
            "flex_flow": null,
            "grid_area": null,
            "grid_auto_columns": null,
            "grid_auto_flow": null,
            "grid_auto_rows": null,
            "grid_column": null,
            "grid_gap": null,
            "grid_row": null,
            "grid_template_areas": null,
            "grid_template_columns": null,
            "grid_template_rows": null,
            "height": null,
            "justify_content": null,
            "justify_items": null,
            "left": null,
            "margin": null,
            "max_height": null,
            "max_width": null,
            "min_height": null,
            "min_width": null,
            "object_fit": null,
            "object_position": null,
            "order": null,
            "overflow": null,
            "overflow_x": null,
            "overflow_y": null,
            "padding": null,
            "right": null,
            "top": null,
            "visibility": null,
            "width": null
          }
        },
        "aa5d82101e9a408ea79dbb6472184802": {
          "model_module": "@jupyter-widgets/controls",
          "model_name": "DescriptionStyleModel",
          "model_module_version": "1.5.0",
          "state": {
            "_model_module": "@jupyter-widgets/controls",
            "_model_module_version": "1.5.0",
            "_model_name": "DescriptionStyleModel",
            "_view_count": null,
            "_view_module": "@jupyter-widgets/base",
            "_view_module_version": "1.2.0",
            "_view_name": "StyleView",
            "description_width": ""
          }
        },
        "c4328fb1d2014f6e8c38887905320e10": {
          "model_module": "@jupyter-widgets/base",
          "model_name": "LayoutModel",
          "model_module_version": "1.2.0",
          "state": {
            "_model_module": "@jupyter-widgets/base",
            "_model_module_version": "1.2.0",
            "_model_name": "LayoutModel",
            "_view_count": null,
            "_view_module": "@jupyter-widgets/base",
            "_view_module_version": "1.2.0",
            "_view_name": "LayoutView",
            "align_content": null,
            "align_items": null,
            "align_self": null,
            "border": null,
            "bottom": null,
            "display": null,
            "flex": null,
            "flex_flow": null,
            "grid_area": null,
            "grid_auto_columns": null,
            "grid_auto_flow": null,
            "grid_auto_rows": null,
            "grid_column": null,
            "grid_gap": null,
            "grid_row": null,
            "grid_template_areas": null,
            "grid_template_columns": null,
            "grid_template_rows": null,
            "height": null,
            "justify_content": null,
            "justify_items": null,
            "left": null,
            "margin": null,
            "max_height": null,
            "max_width": null,
            "min_height": null,
            "min_width": null,
            "object_fit": null,
            "object_position": null,
            "order": null,
            "overflow": null,
            "overflow_x": null,
            "overflow_y": null,
            "padding": null,
            "right": null,
            "top": null,
            "visibility": null,
            "width": null
          }
        },
        "4310b53bfe5445dc84735373d3bfcd09": {
          "model_module": "@jupyter-widgets/controls",
          "model_name": "ProgressStyleModel",
          "model_module_version": "1.5.0",
          "state": {
            "_model_module": "@jupyter-widgets/controls",
            "_model_module_version": "1.5.0",
            "_model_name": "ProgressStyleModel",
            "_view_count": null,
            "_view_module": "@jupyter-widgets/base",
            "_view_module_version": "1.2.0",
            "_view_name": "StyleView",
            "bar_color": null,
            "description_width": ""
          }
        },
        "044e6ca3a7d14279b41d4a235e2504bf": {
          "model_module": "@jupyter-widgets/base",
          "model_name": "LayoutModel",
          "model_module_version": "1.2.0",
          "state": {
            "_model_module": "@jupyter-widgets/base",
            "_model_module_version": "1.2.0",
            "_model_name": "LayoutModel",
            "_view_count": null,
            "_view_module": "@jupyter-widgets/base",
            "_view_module_version": "1.2.0",
            "_view_name": "LayoutView",
            "align_content": null,
            "align_items": null,
            "align_self": null,
            "border": null,
            "bottom": null,
            "display": null,
            "flex": null,
            "flex_flow": null,
            "grid_area": null,
            "grid_auto_columns": null,
            "grid_auto_flow": null,
            "grid_auto_rows": null,
            "grid_column": null,
            "grid_gap": null,
            "grid_row": null,
            "grid_template_areas": null,
            "grid_template_columns": null,
            "grid_template_rows": null,
            "height": null,
            "justify_content": null,
            "justify_items": null,
            "left": null,
            "margin": null,
            "max_height": null,
            "max_width": null,
            "min_height": null,
            "min_width": null,
            "object_fit": null,
            "object_position": null,
            "order": null,
            "overflow": null,
            "overflow_x": null,
            "overflow_y": null,
            "padding": null,
            "right": null,
            "top": null,
            "visibility": null,
            "width": null
          }
        },
        "654d5f4f9e3647dea61c5002d5c35409": {
          "model_module": "@jupyter-widgets/controls",
          "model_name": "DescriptionStyleModel",
          "model_module_version": "1.5.0",
          "state": {
            "_model_module": "@jupyter-widgets/controls",
            "_model_module_version": "1.5.0",
            "_model_name": "DescriptionStyleModel",
            "_view_count": null,
            "_view_module": "@jupyter-widgets/base",
            "_view_module_version": "1.2.0",
            "_view_name": "StyleView",
            "description_width": ""
          }
        },
        "c390ff3b214d41ddb4cc2d950448a835": {
          "model_module": "@jupyter-widgets/controls",
          "model_name": "HBoxModel",
          "model_module_version": "1.5.0",
          "state": {
            "_dom_classes": [],
            "_model_module": "@jupyter-widgets/controls",
            "_model_module_version": "1.5.0",
            "_model_name": "HBoxModel",
            "_view_count": null,
            "_view_module": "@jupyter-widgets/controls",
            "_view_module_version": "1.5.0",
            "_view_name": "HBoxView",
            "box_style": "",
            "children": [
              "IPY_MODEL_96a5443bee28407586177bb7f3dcdfc9",
              "IPY_MODEL_ab4a8e158993400f9ce44616cf9047a8",
              "IPY_MODEL_091bb154df4e4ccfbfdb2b7c2252ed7a"
            ],
            "layout": "IPY_MODEL_d79526ec77b448cd8f00fdbd2b6b575d"
          }
        },
        "96a5443bee28407586177bb7f3dcdfc9": {
          "model_module": "@jupyter-widgets/controls",
          "model_name": "HTMLModel",
          "model_module_version": "1.5.0",
          "state": {
            "_dom_classes": [],
            "_model_module": "@jupyter-widgets/controls",
            "_model_module_version": "1.5.0",
            "_model_name": "HTMLModel",
            "_view_count": null,
            "_view_module": "@jupyter-widgets/controls",
            "_view_module_version": "1.5.0",
            "_view_name": "HTMLView",
            "description": "",
            "description_tooltip": null,
            "layout": "IPY_MODEL_236ac4cb55794018aa414734b80334d3",
            "placeholder": "​",
            "style": "IPY_MODEL_f6989523b690470e901398215e6c25ed",
            "value": "special_tokens_map.json: 100%"
          }
        },
        "ab4a8e158993400f9ce44616cf9047a8": {
          "model_module": "@jupyter-widgets/controls",
          "model_name": "FloatProgressModel",
          "model_module_version": "1.5.0",
          "state": {
            "_dom_classes": [],
            "_model_module": "@jupyter-widgets/controls",
            "_model_module_version": "1.5.0",
            "_model_name": "FloatProgressModel",
            "_view_count": null,
            "_view_module": "@jupyter-widgets/controls",
            "_view_module_version": "1.5.0",
            "_view_name": "ProgressView",
            "bar_style": "success",
            "description": "",
            "description_tooltip": null,
            "layout": "IPY_MODEL_f3a3338b8f464fef8be9569524b08805",
            "max": 112,
            "min": 0,
            "orientation": "horizontal",
            "style": "IPY_MODEL_bb11021f924945caa29da8da3022686e",
            "value": 112
          }
        },
        "091bb154df4e4ccfbfdb2b7c2252ed7a": {
          "model_module": "@jupyter-widgets/controls",
          "model_name": "HTMLModel",
          "model_module_version": "1.5.0",
          "state": {
            "_dom_classes": [],
            "_model_module": "@jupyter-widgets/controls",
            "_model_module_version": "1.5.0",
            "_model_name": "HTMLModel",
            "_view_count": null,
            "_view_module": "@jupyter-widgets/controls",
            "_view_module_version": "1.5.0",
            "_view_name": "HTMLView",
            "description": "",
            "description_tooltip": null,
            "layout": "IPY_MODEL_2e3d6686c14d4c09adfe6db18c898228",
            "placeholder": "​",
            "style": "IPY_MODEL_ea75ade712104ecdaf7c22f63efce8f6",
            "value": " 112/112 [00:00&lt;00:00, 6.95kB/s]"
          }
        },
        "d79526ec77b448cd8f00fdbd2b6b575d": {
          "model_module": "@jupyter-widgets/base",
          "model_name": "LayoutModel",
          "model_module_version": "1.2.0",
          "state": {
            "_model_module": "@jupyter-widgets/base",
            "_model_module_version": "1.2.0",
            "_model_name": "LayoutModel",
            "_view_count": null,
            "_view_module": "@jupyter-widgets/base",
            "_view_module_version": "1.2.0",
            "_view_name": "LayoutView",
            "align_content": null,
            "align_items": null,
            "align_self": null,
            "border": null,
            "bottom": null,
            "display": null,
            "flex": null,
            "flex_flow": null,
            "grid_area": null,
            "grid_auto_columns": null,
            "grid_auto_flow": null,
            "grid_auto_rows": null,
            "grid_column": null,
            "grid_gap": null,
            "grid_row": null,
            "grid_template_areas": null,
            "grid_template_columns": null,
            "grid_template_rows": null,
            "height": null,
            "justify_content": null,
            "justify_items": null,
            "left": null,
            "margin": null,
            "max_height": null,
            "max_width": null,
            "min_height": null,
            "min_width": null,
            "object_fit": null,
            "object_position": null,
            "order": null,
            "overflow": null,
            "overflow_x": null,
            "overflow_y": null,
            "padding": null,
            "right": null,
            "top": null,
            "visibility": null,
            "width": null
          }
        },
        "236ac4cb55794018aa414734b80334d3": {
          "model_module": "@jupyter-widgets/base",
          "model_name": "LayoutModel",
          "model_module_version": "1.2.0",
          "state": {
            "_model_module": "@jupyter-widgets/base",
            "_model_module_version": "1.2.0",
            "_model_name": "LayoutModel",
            "_view_count": null,
            "_view_module": "@jupyter-widgets/base",
            "_view_module_version": "1.2.0",
            "_view_name": "LayoutView",
            "align_content": null,
            "align_items": null,
            "align_self": null,
            "border": null,
            "bottom": null,
            "display": null,
            "flex": null,
            "flex_flow": null,
            "grid_area": null,
            "grid_auto_columns": null,
            "grid_auto_flow": null,
            "grid_auto_rows": null,
            "grid_column": null,
            "grid_gap": null,
            "grid_row": null,
            "grid_template_areas": null,
            "grid_template_columns": null,
            "grid_template_rows": null,
            "height": null,
            "justify_content": null,
            "justify_items": null,
            "left": null,
            "margin": null,
            "max_height": null,
            "max_width": null,
            "min_height": null,
            "min_width": null,
            "object_fit": null,
            "object_position": null,
            "order": null,
            "overflow": null,
            "overflow_x": null,
            "overflow_y": null,
            "padding": null,
            "right": null,
            "top": null,
            "visibility": null,
            "width": null
          }
        },
        "f6989523b690470e901398215e6c25ed": {
          "model_module": "@jupyter-widgets/controls",
          "model_name": "DescriptionStyleModel",
          "model_module_version": "1.5.0",
          "state": {
            "_model_module": "@jupyter-widgets/controls",
            "_model_module_version": "1.5.0",
            "_model_name": "DescriptionStyleModel",
            "_view_count": null,
            "_view_module": "@jupyter-widgets/base",
            "_view_module_version": "1.2.0",
            "_view_name": "StyleView",
            "description_width": ""
          }
        },
        "f3a3338b8f464fef8be9569524b08805": {
          "model_module": "@jupyter-widgets/base",
          "model_name": "LayoutModel",
          "model_module_version": "1.2.0",
          "state": {
            "_model_module": "@jupyter-widgets/base",
            "_model_module_version": "1.2.0",
            "_model_name": "LayoutModel",
            "_view_count": null,
            "_view_module": "@jupyter-widgets/base",
            "_view_module_version": "1.2.0",
            "_view_name": "LayoutView",
            "align_content": null,
            "align_items": null,
            "align_self": null,
            "border": null,
            "bottom": null,
            "display": null,
            "flex": null,
            "flex_flow": null,
            "grid_area": null,
            "grid_auto_columns": null,
            "grid_auto_flow": null,
            "grid_auto_rows": null,
            "grid_column": null,
            "grid_gap": null,
            "grid_row": null,
            "grid_template_areas": null,
            "grid_template_columns": null,
            "grid_template_rows": null,
            "height": null,
            "justify_content": null,
            "justify_items": null,
            "left": null,
            "margin": null,
            "max_height": null,
            "max_width": null,
            "min_height": null,
            "min_width": null,
            "object_fit": null,
            "object_position": null,
            "order": null,
            "overflow": null,
            "overflow_x": null,
            "overflow_y": null,
            "padding": null,
            "right": null,
            "top": null,
            "visibility": null,
            "width": null
          }
        },
        "bb11021f924945caa29da8da3022686e": {
          "model_module": "@jupyter-widgets/controls",
          "model_name": "ProgressStyleModel",
          "model_module_version": "1.5.0",
          "state": {
            "_model_module": "@jupyter-widgets/controls",
            "_model_module_version": "1.5.0",
            "_model_name": "ProgressStyleModel",
            "_view_count": null,
            "_view_module": "@jupyter-widgets/base",
            "_view_module_version": "1.2.0",
            "_view_name": "StyleView",
            "bar_color": null,
            "description_width": ""
          }
        },
        "2e3d6686c14d4c09adfe6db18c898228": {
          "model_module": "@jupyter-widgets/base",
          "model_name": "LayoutModel",
          "model_module_version": "1.2.0",
          "state": {
            "_model_module": "@jupyter-widgets/base",
            "_model_module_version": "1.2.0",
            "_model_name": "LayoutModel",
            "_view_count": null,
            "_view_module": "@jupyter-widgets/base",
            "_view_module_version": "1.2.0",
            "_view_name": "LayoutView",
            "align_content": null,
            "align_items": null,
            "align_self": null,
            "border": null,
            "bottom": null,
            "display": null,
            "flex": null,
            "flex_flow": null,
            "grid_area": null,
            "grid_auto_columns": null,
            "grid_auto_flow": null,
            "grid_auto_rows": null,
            "grid_column": null,
            "grid_gap": null,
            "grid_row": null,
            "grid_template_areas": null,
            "grid_template_columns": null,
            "grid_template_rows": null,
            "height": null,
            "justify_content": null,
            "justify_items": null,
            "left": null,
            "margin": null,
            "max_height": null,
            "max_width": null,
            "min_height": null,
            "min_width": null,
            "object_fit": null,
            "object_position": null,
            "order": null,
            "overflow": null,
            "overflow_x": null,
            "overflow_y": null,
            "padding": null,
            "right": null,
            "top": null,
            "visibility": null,
            "width": null
          }
        },
        "ea75ade712104ecdaf7c22f63efce8f6": {
          "model_module": "@jupyter-widgets/controls",
          "model_name": "DescriptionStyleModel",
          "model_module_version": "1.5.0",
          "state": {
            "_model_module": "@jupyter-widgets/controls",
            "_model_module_version": "1.5.0",
            "_model_name": "DescriptionStyleModel",
            "_view_count": null,
            "_view_module": "@jupyter-widgets/base",
            "_view_module_version": "1.2.0",
            "_view_name": "StyleView",
            "description_width": ""
          }
        },
        "9429594c0769425dbede3a442079985b": {
          "model_module": "@jupyter-widgets/controls",
          "model_name": "HBoxModel",
          "model_module_version": "1.5.0",
          "state": {
            "_dom_classes": [],
            "_model_module": "@jupyter-widgets/controls",
            "_model_module_version": "1.5.0",
            "_model_name": "HBoxModel",
            "_view_count": null,
            "_view_module": "@jupyter-widgets/controls",
            "_view_module_version": "1.5.0",
            "_view_name": "HBoxView",
            "box_style": "",
            "children": [
              "IPY_MODEL_0b7216f31e424c8e9a94153aabc1e1d6",
              "IPY_MODEL_726d4114c8474c30b6804ccca2dadc91",
              "IPY_MODEL_a2f9336b090045d5bb5673f338538aa6"
            ],
            "layout": "IPY_MODEL_74426cf8f2d64776af9a71f00f497a4b"
          }
        },
        "0b7216f31e424c8e9a94153aabc1e1d6": {
          "model_module": "@jupyter-widgets/controls",
          "model_name": "HTMLModel",
          "model_module_version": "1.5.0",
          "state": {
            "_dom_classes": [],
            "_model_module": "@jupyter-widgets/controls",
            "_model_module_version": "1.5.0",
            "_model_name": "HTMLModel",
            "_view_count": null,
            "_view_module": "@jupyter-widgets/controls",
            "_view_module_version": "1.5.0",
            "_view_name": "HTMLView",
            "description": "",
            "description_tooltip": null,
            "layout": "IPY_MODEL_9b8fb2f8bd7e4781bef5ac5183a43d9d",
            "placeholder": "​",
            "style": "IPY_MODEL_66a8bc34c9ad4d6eaffc78e47c96eb1d",
            "value": "config.json: 100%"
          }
        },
        "726d4114c8474c30b6804ccca2dadc91": {
          "model_module": "@jupyter-widgets/controls",
          "model_name": "FloatProgressModel",
          "model_module_version": "1.5.0",
          "state": {
            "_dom_classes": [],
            "_model_module": "@jupyter-widgets/controls",
            "_model_module_version": "1.5.0",
            "_model_name": "FloatProgressModel",
            "_view_count": null,
            "_view_module": "@jupyter-widgets/controls",
            "_view_module_version": "1.5.0",
            "_view_name": "ProgressView",
            "bar_style": "success",
            "description": "",
            "description_tooltip": null,
            "layout": "IPY_MODEL_f075c205fa3743dbba2e7bbff5ff8f63",
            "max": 190,
            "min": 0,
            "orientation": "horizontal",
            "style": "IPY_MODEL_639e084a7f974e599e2e700397f3ab03",
            "value": 190
          }
        },
        "a2f9336b090045d5bb5673f338538aa6": {
          "model_module": "@jupyter-widgets/controls",
          "model_name": "HTMLModel",
          "model_module_version": "1.5.0",
          "state": {
            "_dom_classes": [],
            "_model_module": "@jupyter-widgets/controls",
            "_model_module_version": "1.5.0",
            "_model_name": "HTMLModel",
            "_view_count": null,
            "_view_module": "@jupyter-widgets/controls",
            "_view_module_version": "1.5.0",
            "_view_name": "HTMLView",
            "description": "",
            "description_tooltip": null,
            "layout": "IPY_MODEL_22c9d58999d84874bac099cadca65a33",
            "placeholder": "​",
            "style": "IPY_MODEL_35d3b442ce6f4e49bbc54919998e7f92",
            "value": " 190/190 [00:00&lt;00:00, 11.6kB/s]"
          }
        },
        "74426cf8f2d64776af9a71f00f497a4b": {
          "model_module": "@jupyter-widgets/base",
          "model_name": "LayoutModel",
          "model_module_version": "1.2.0",
          "state": {
            "_model_module": "@jupyter-widgets/base",
            "_model_module_version": "1.2.0",
            "_model_name": "LayoutModel",
            "_view_count": null,
            "_view_module": "@jupyter-widgets/base",
            "_view_module_version": "1.2.0",
            "_view_name": "LayoutView",
            "align_content": null,
            "align_items": null,
            "align_self": null,
            "border": null,
            "bottom": null,
            "display": null,
            "flex": null,
            "flex_flow": null,
            "grid_area": null,
            "grid_auto_columns": null,
            "grid_auto_flow": null,
            "grid_auto_rows": null,
            "grid_column": null,
            "grid_gap": null,
            "grid_row": null,
            "grid_template_areas": null,
            "grid_template_columns": null,
            "grid_template_rows": null,
            "height": null,
            "justify_content": null,
            "justify_items": null,
            "left": null,
            "margin": null,
            "max_height": null,
            "max_width": null,
            "min_height": null,
            "min_width": null,
            "object_fit": null,
            "object_position": null,
            "order": null,
            "overflow": null,
            "overflow_x": null,
            "overflow_y": null,
            "padding": null,
            "right": null,
            "top": null,
            "visibility": null,
            "width": null
          }
        },
        "9b8fb2f8bd7e4781bef5ac5183a43d9d": {
          "model_module": "@jupyter-widgets/base",
          "model_name": "LayoutModel",
          "model_module_version": "1.2.0",
          "state": {
            "_model_module": "@jupyter-widgets/base",
            "_model_module_version": "1.2.0",
            "_model_name": "LayoutModel",
            "_view_count": null,
            "_view_module": "@jupyter-widgets/base",
            "_view_module_version": "1.2.0",
            "_view_name": "LayoutView",
            "align_content": null,
            "align_items": null,
            "align_self": null,
            "border": null,
            "bottom": null,
            "display": null,
            "flex": null,
            "flex_flow": null,
            "grid_area": null,
            "grid_auto_columns": null,
            "grid_auto_flow": null,
            "grid_auto_rows": null,
            "grid_column": null,
            "grid_gap": null,
            "grid_row": null,
            "grid_template_areas": null,
            "grid_template_columns": null,
            "grid_template_rows": null,
            "height": null,
            "justify_content": null,
            "justify_items": null,
            "left": null,
            "margin": null,
            "max_height": null,
            "max_width": null,
            "min_height": null,
            "min_width": null,
            "object_fit": null,
            "object_position": null,
            "order": null,
            "overflow": null,
            "overflow_x": null,
            "overflow_y": null,
            "padding": null,
            "right": null,
            "top": null,
            "visibility": null,
            "width": null
          }
        },
        "66a8bc34c9ad4d6eaffc78e47c96eb1d": {
          "model_module": "@jupyter-widgets/controls",
          "model_name": "DescriptionStyleModel",
          "model_module_version": "1.5.0",
          "state": {
            "_model_module": "@jupyter-widgets/controls",
            "_model_module_version": "1.5.0",
            "_model_name": "DescriptionStyleModel",
            "_view_count": null,
            "_view_module": "@jupyter-widgets/base",
            "_view_module_version": "1.2.0",
            "_view_name": "StyleView",
            "description_width": ""
          }
        },
        "f075c205fa3743dbba2e7bbff5ff8f63": {
          "model_module": "@jupyter-widgets/base",
          "model_name": "LayoutModel",
          "model_module_version": "1.2.0",
          "state": {
            "_model_module": "@jupyter-widgets/base",
            "_model_module_version": "1.2.0",
            "_model_name": "LayoutModel",
            "_view_count": null,
            "_view_module": "@jupyter-widgets/base",
            "_view_module_version": "1.2.0",
            "_view_name": "LayoutView",
            "align_content": null,
            "align_items": null,
            "align_self": null,
            "border": null,
            "bottom": null,
            "display": null,
            "flex": null,
            "flex_flow": null,
            "grid_area": null,
            "grid_auto_columns": null,
            "grid_auto_flow": null,
            "grid_auto_rows": null,
            "grid_column": null,
            "grid_gap": null,
            "grid_row": null,
            "grid_template_areas": null,
            "grid_template_columns": null,
            "grid_template_rows": null,
            "height": null,
            "justify_content": null,
            "justify_items": null,
            "left": null,
            "margin": null,
            "max_height": null,
            "max_width": null,
            "min_height": null,
            "min_width": null,
            "object_fit": null,
            "object_position": null,
            "order": null,
            "overflow": null,
            "overflow_x": null,
            "overflow_y": null,
            "padding": null,
            "right": null,
            "top": null,
            "visibility": null,
            "width": null
          }
        },
        "639e084a7f974e599e2e700397f3ab03": {
          "model_module": "@jupyter-widgets/controls",
          "model_name": "ProgressStyleModel",
          "model_module_version": "1.5.0",
          "state": {
            "_model_module": "@jupyter-widgets/controls",
            "_model_module_version": "1.5.0",
            "_model_name": "ProgressStyleModel",
            "_view_count": null,
            "_view_module": "@jupyter-widgets/base",
            "_view_module_version": "1.2.0",
            "_view_name": "StyleView",
            "bar_color": null,
            "description_width": ""
          }
        },
        "22c9d58999d84874bac099cadca65a33": {
          "model_module": "@jupyter-widgets/base",
          "model_name": "LayoutModel",
          "model_module_version": "1.2.0",
          "state": {
            "_model_module": "@jupyter-widgets/base",
            "_model_module_version": "1.2.0",
            "_model_name": "LayoutModel",
            "_view_count": null,
            "_view_module": "@jupyter-widgets/base",
            "_view_module_version": "1.2.0",
            "_view_name": "LayoutView",
            "align_content": null,
            "align_items": null,
            "align_self": null,
            "border": null,
            "bottom": null,
            "display": null,
            "flex": null,
            "flex_flow": null,
            "grid_area": null,
            "grid_auto_columns": null,
            "grid_auto_flow": null,
            "grid_auto_rows": null,
            "grid_column": null,
            "grid_gap": null,
            "grid_row": null,
            "grid_template_areas": null,
            "grid_template_columns": null,
            "grid_template_rows": null,
            "height": null,
            "justify_content": null,
            "justify_items": null,
            "left": null,
            "margin": null,
            "max_height": null,
            "max_width": null,
            "min_height": null,
            "min_width": null,
            "object_fit": null,
            "object_position": null,
            "order": null,
            "overflow": null,
            "overflow_x": null,
            "overflow_y": null,
            "padding": null,
            "right": null,
            "top": null,
            "visibility": null,
            "width": null
          }
        },
        "35d3b442ce6f4e49bbc54919998e7f92": {
          "model_module": "@jupyter-widgets/controls",
          "model_name": "DescriptionStyleModel",
          "model_module_version": "1.5.0",
          "state": {
            "_model_module": "@jupyter-widgets/controls",
            "_model_module_version": "1.5.0",
            "_model_name": "DescriptionStyleModel",
            "_view_count": null,
            "_view_module": "@jupyter-widgets/base",
            "_view_module_version": "1.2.0",
            "_view_name": "StyleView",
            "description_width": ""
          }
        }
      }
    }
  },
  "nbformat": 4,
  "nbformat_minor": 0
}